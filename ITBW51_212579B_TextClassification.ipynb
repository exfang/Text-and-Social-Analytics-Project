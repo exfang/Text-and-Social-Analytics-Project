{
 "cells": [
  {
   "cell_type": "markdown",
   "metadata": {},
   "source": [
    "# Sentiment Classification\n",
    "\n",
    "Sentiment Classification helps DisneyLand transform the humongous amounts of text data into actionable insights, enabling DisneyLand to improve their customer's experience and retention rate."
   ]
  },
  {
   "cell_type": "markdown",
   "metadata": {},
   "source": [
    "## Import libraries and download the packages"
   ]
  },
  {
   "cell_type": "code",
   "execution_count": 1,
   "metadata": {},
   "outputs": [],
   "source": [
    "# Import necessary libraries\n",
    "import numpy as np\n",
    "import pandas as pd\n",
    "import matplotlib.pyplot as plt\n",
    "import nltk\n",
    "import re\n",
    "from nltk.probability import FreqDist"
   ]
  },
  {
   "cell_type": "markdown",
   "metadata": {},
   "source": [
    "## Read the dataset"
   ]
  },
  {
   "cell_type": "code",
   "execution_count": 2,
   "metadata": {},
   "outputs": [
    {
     "data": {
      "text/html": [
       "<div>\n",
       "<style scoped>\n",
       "    .dataframe tbody tr th:only-of-type {\n",
       "        vertical-align: middle;\n",
       "    }\n",
       "\n",
       "    .dataframe tbody tr th {\n",
       "        vertical-align: top;\n",
       "    }\n",
       "\n",
       "    .dataframe thead th {\n",
       "        text-align: right;\n",
       "    }\n",
       "</style>\n",
       "<table border=\"1\" class=\"dataframe\">\n",
       "  <thead>\n",
       "    <tr style=\"text-align: right;\">\n",
       "      <th></th>\n",
       "      <th>sentiment</th>\n",
       "      <th>review_tokens</th>\n",
       "    </tr>\n",
       "  </thead>\n",
       "  <tbody>\n",
       "    <tr>\n",
       "      <th>0</th>\n",
       "      <td>1</td>\n",
       "      <td>['everyon', 'said', 'dai', 'christma', 'busies...</td>\n",
       "    </tr>\n",
       "    <tr>\n",
       "      <th>1</th>\n",
       "      <td>1</td>\n",
       "      <td>['went', 'great', 'much', 'better', 'kid', 'go...</td>\n",
       "    </tr>\n",
       "    <tr>\n",
       "      <th>2</th>\n",
       "      <td>1</td>\n",
       "      <td>['good', 'amus', 'crowd', 'look', 'food', 'wit...</td>\n",
       "    </tr>\n",
       "    <tr>\n",
       "      <th>3</th>\n",
       "      <td>1</td>\n",
       "      <td>['love', 'love', 'love', 'place', 'came', 'sin...</td>\n",
       "    </tr>\n",
       "    <tr>\n",
       "      <th>4</th>\n",
       "      <td>1</td>\n",
       "      <td>['somewher', 'financ', 'afford', 'freedom', 's...</td>\n",
       "    </tr>\n",
       "  </tbody>\n",
       "</table>\n",
       "</div>"
      ],
      "text/plain": [
       "   sentiment                                      review_tokens\n",
       "0          1  ['everyon', 'said', 'dai', 'christma', 'busies...\n",
       "1          1  ['went', 'great', 'much', 'better', 'kid', 'go...\n",
       "2          1  ['good', 'amus', 'crowd', 'look', 'food', 'wit...\n",
       "3          1  ['love', 'love', 'love', 'place', 'came', 'sin...\n",
       "4          1  ['somewher', 'financ', 'afford', 'freedom', 's..."
      ]
     },
     "execution_count": 2,
     "metadata": {},
     "output_type": "execute_result"
    }
   ],
   "source": [
    "df = pd.read_csv(\"sentiment_classification_reviews.csv\")\n",
    "df.head(5)"
   ]
  },
  {
   "cell_type": "code",
   "execution_count": 3,
   "metadata": {},
   "outputs": [],
   "source": [
    "# When you save a list to a CSV file, it is automatically converted to a string. \n",
    "# When you re-open the CSV file, the string representation of the list is read back into your program as a string, \n",
    "# not a list.\n",
    "\n",
    "# Therefore, I apply literal_eval to convert the lists in string format back to lists\n",
    "import ast\n",
    "df['review_tokens'] = df['review_tokens'].apply(ast.literal_eval)"
   ]
  },
  {
   "cell_type": "code",
   "execution_count": 4,
   "metadata": {},
   "outputs": [],
   "source": [
    "# Append all the words in a list\n",
    "cleaned_words = [words for lists in df['review_tokens'] for words in lists]"
   ]
  },
  {
   "cell_type": "code",
   "execution_count": 5,
   "metadata": {},
   "outputs": [
    {
     "name": "stdout",
     "output_type": "stream",
     "text": [
      "<FreqDist with 16990 samples and 581573 outcomes>\n",
      "Top 10 most commonly occuring words: [('ride', 11943), ('time', 9107), ('dai', 7215), ('line', 6028), ('pass', 5315), ('place', 5179), ('wait', 5174), ('on', 4464), ('peopl', 3846), ('like', 3617)]\n"
     ]
    }
   ],
   "source": [
    "# Create a frequency distribution of the clean words\n",
    "all_words_frequency = FreqDist(cleaned_words)\n",
    "print (all_words_frequency)\n",
    "\n",
    "print (\"Top 10 most commonly occuring words:\",all_words_frequency.most_common(10))\n",
    "\n",
    "# get 2000 frequently occuring words\n",
    "# most documents would have at least some words from the top 2000 words. Therefore, it might be a better feature set for\n",
    "# classification.\n",
    "most_common_words = all_words_frequency.most_common(2000)\n",
    "\n",
    "# create word features\n",
    "all_word_features = [item[0] for item in most_common_words]"
   ]
  },
  {
   "cell_type": "markdown",
   "metadata": {},
   "source": [
    "## Creating Feature Sets (10mins to run entire)"
   ]
  },
  {
   "cell_type": "markdown",
   "metadata": {},
   "source": [
    "### Create a Top 2000 Feature Set\n",
    "\n",
    "Creating a feature set of the top 2000 words for dimensionality reduction. The model will look at the presence of frequently occuring words in the texts to classify the texts, rather than looking at words with only a few occurrence among multiple texts which may not be accurate in classification and create noise during the classification."
   ]
  },
  {
   "cell_type": "code",
   "execution_count": 6,
   "metadata": {},
   "outputs": [
    {
     "data": {
      "text/html": [
       "<div>\n",
       "<style scoped>\n",
       "    .dataframe tbody tr th:only-of-type {\n",
       "        vertical-align: middle;\n",
       "    }\n",
       "\n",
       "    .dataframe tbody tr th {\n",
       "        vertical-align: top;\n",
       "    }\n",
       "\n",
       "    .dataframe thead th {\n",
       "        text-align: right;\n",
       "    }\n",
       "</style>\n",
       "<table border=\"1\" class=\"dataframe\">\n",
       "  <thead>\n",
       "    <tr style=\"text-align: right;\">\n",
       "      <th></th>\n",
       "      <th>ride</th>\n",
       "      <th>time</th>\n",
       "      <th>dai</th>\n",
       "      <th>line</th>\n",
       "      <th>pass</th>\n",
       "      <th>place</th>\n",
       "      <th>wait</th>\n",
       "      <th>on</th>\n",
       "      <th>peopl</th>\n",
       "      <th>like</th>\n",
       "      <th>...</th>\n",
       "      <th>justifi</th>\n",
       "      <th>equip</th>\n",
       "      <th>solo</th>\n",
       "      <th>fairi</th>\n",
       "      <th>suddenli</th>\n",
       "      <th>jolli</th>\n",
       "      <th>cranki</th>\n",
       "      <th>wine</th>\n",
       "      <th>observ</th>\n",
       "      <th>blown</th>\n",
       "    </tr>\n",
       "  </thead>\n",
       "  <tbody>\n",
       "    <tr>\n",
       "      <th>0</th>\n",
       "      <td>True</td>\n",
       "      <td>True</td>\n",
       "      <td>True</td>\n",
       "      <td>True</td>\n",
       "      <td>True</td>\n",
       "      <td>False</td>\n",
       "      <td>True</td>\n",
       "      <td>False</td>\n",
       "      <td>False</td>\n",
       "      <td>True</td>\n",
       "      <td>...</td>\n",
       "      <td>False</td>\n",
       "      <td>False</td>\n",
       "      <td>False</td>\n",
       "      <td>False</td>\n",
       "      <td>False</td>\n",
       "      <td>False</td>\n",
       "      <td>False</td>\n",
       "      <td>False</td>\n",
       "      <td>False</td>\n",
       "      <td>False</td>\n",
       "    </tr>\n",
       "    <tr>\n",
       "      <th>1</th>\n",
       "      <td>False</td>\n",
       "      <td>False</td>\n",
       "      <td>False</td>\n",
       "      <td>False</td>\n",
       "      <td>False</td>\n",
       "      <td>False</td>\n",
       "      <td>False</td>\n",
       "      <td>False</td>\n",
       "      <td>False</td>\n",
       "      <td>False</td>\n",
       "      <td>...</td>\n",
       "      <td>False</td>\n",
       "      <td>False</td>\n",
       "      <td>False</td>\n",
       "      <td>False</td>\n",
       "      <td>False</td>\n",
       "      <td>False</td>\n",
       "      <td>False</td>\n",
       "      <td>False</td>\n",
       "      <td>False</td>\n",
       "      <td>False</td>\n",
       "    </tr>\n",
       "    <tr>\n",
       "      <th>2</th>\n",
       "      <td>False</td>\n",
       "      <td>False</td>\n",
       "      <td>True</td>\n",
       "      <td>False</td>\n",
       "      <td>False</td>\n",
       "      <td>False</td>\n",
       "      <td>False</td>\n",
       "      <td>False</td>\n",
       "      <td>False</td>\n",
       "      <td>True</td>\n",
       "      <td>...</td>\n",
       "      <td>False</td>\n",
       "      <td>False</td>\n",
       "      <td>False</td>\n",
       "      <td>False</td>\n",
       "      <td>False</td>\n",
       "      <td>False</td>\n",
       "      <td>False</td>\n",
       "      <td>False</td>\n",
       "      <td>False</td>\n",
       "      <td>False</td>\n",
       "    </tr>\n",
       "    <tr>\n",
       "      <th>3</th>\n",
       "      <td>False</td>\n",
       "      <td>True</td>\n",
       "      <td>False</td>\n",
       "      <td>False</td>\n",
       "      <td>True</td>\n",
       "      <td>True</td>\n",
       "      <td>False</td>\n",
       "      <td>False</td>\n",
       "      <td>False</td>\n",
       "      <td>False</td>\n",
       "      <td>...</td>\n",
       "      <td>False</td>\n",
       "      <td>False</td>\n",
       "      <td>False</td>\n",
       "      <td>False</td>\n",
       "      <td>False</td>\n",
       "      <td>False</td>\n",
       "      <td>False</td>\n",
       "      <td>False</td>\n",
       "      <td>False</td>\n",
       "      <td>False</td>\n",
       "    </tr>\n",
       "    <tr>\n",
       "      <th>4</th>\n",
       "      <td>True</td>\n",
       "      <td>True</td>\n",
       "      <td>False</td>\n",
       "      <td>True</td>\n",
       "      <td>True</td>\n",
       "      <td>False</td>\n",
       "      <td>True</td>\n",
       "      <td>True</td>\n",
       "      <td>True</td>\n",
       "      <td>False</td>\n",
       "      <td>...</td>\n",
       "      <td>False</td>\n",
       "      <td>False</td>\n",
       "      <td>False</td>\n",
       "      <td>False</td>\n",
       "      <td>False</td>\n",
       "      <td>False</td>\n",
       "      <td>False</td>\n",
       "      <td>False</td>\n",
       "      <td>False</td>\n",
       "      <td>False</td>\n",
       "    </tr>\n",
       "  </tbody>\n",
       "</table>\n",
       "<p>5 rows × 2000 columns</p>\n",
       "</div>"
      ],
      "text/plain": [
       "    ride   time    dai   line   pass  place   wait     on  peopl   like  ...  \\\n",
       "0   True   True   True   True   True  False   True  False  False   True  ...   \n",
       "1  False  False  False  False  False  False  False  False  False  False  ...   \n",
       "2  False  False   True  False  False  False  False  False  False   True  ...   \n",
       "3  False   True  False  False   True   True  False  False  False  False  ...   \n",
       "4   True   True  False   True   True  False   True   True   True  False  ...   \n",
       "\n",
       "   justifi  equip   solo  fairi  suddenli  jolli  cranki   wine  observ  blown  \n",
       "0    False  False  False  False     False  False   False  False   False  False  \n",
       "1    False  False  False  False     False  False   False  False   False  False  \n",
       "2    False  False  False  False     False  False   False  False   False  False  \n",
       "3    False  False  False  False     False  False   False  False   False  False  \n",
       "4    False  False  False  False     False  False   False  False   False  False  \n",
       "\n",
       "[5 rows x 2000 columns]"
      ]
     },
     "execution_count": 6,
     "metadata": {},
     "output_type": "execute_result"
    }
   ],
   "source": [
    "# Feature set with only the top 2000 \n",
    "def document_features(df, stemmed_tokens):\n",
    "    doc_features = []\n",
    "    for index, row in df.iterrows():\n",
    "        features = {}\n",
    "        for word in all_word_features:\n",
    "            # get term occurence: true if it's in the word_features, false if it's not\n",
    "            features[word] = (word in row[stemmed_tokens])\n",
    "        doc_features.append(features)\n",
    "    return doc_features\n",
    "\n",
    "all_words_feature_set = pd.DataFrame(document_features(df, 'review_tokens'), index = df.index)\n",
    "all_words_feature_set.head()"
   ]
  },
  {
   "cell_type": "markdown",
   "metadata": {},
   "source": [
    "### Create Term Frequency (TF) Bag of Words\n",
    "\n",
    "A Term Frequency Bag of Words generates a collection of text documents into numerical feature vectors. This might provide a better performance than a normal Bag of Words as it shows the occurrence of individual terms in the text and possibly provide some context which may increase the sentiment of the text."
   ]
  },
  {
   "cell_type": "code",
   "execution_count": 7,
   "metadata": {},
   "outputs": [
    {
     "data": {
      "text/html": [
       "<div>\n",
       "<style scoped>\n",
       "    .dataframe tbody tr th:only-of-type {\n",
       "        vertical-align: middle;\n",
       "    }\n",
       "\n",
       "    .dataframe tbody tr th {\n",
       "        vertical-align: top;\n",
       "    }\n",
       "\n",
       "    .dataframe thead th {\n",
       "        text-align: right;\n",
       "    }\n",
       "</style>\n",
       "<table border=\"1\" class=\"dataframe\">\n",
       "  <thead>\n",
       "    <tr style=\"text-align: right;\">\n",
       "      <th></th>\n",
       "      <th>advantag</th>\n",
       "      <th>afternoon</th>\n",
       "      <th>area</th>\n",
       "      <th>around</th>\n",
       "      <th>attitud</th>\n",
       "      <th>best</th>\n",
       "      <th>break</th>\n",
       "      <th>busiest</th>\n",
       "      <th>came</th>\n",
       "      <th>cast</th>\n",
       "      <th>...</th>\n",
       "      <th>centimet</th>\n",
       "      <th>activitiesif</th>\n",
       "      <th>chidrenkid</th>\n",
       "      <th>childrenkid</th>\n",
       "      <th>kidschildren</th>\n",
       "      <th>silverni</th>\n",
       "      <th>thristi</th>\n",
       "      <th>car😞</th>\n",
       "      <th>nomor</th>\n",
       "      <th>disregarddisrespect</th>\n",
       "    </tr>\n",
       "  </thead>\n",
       "  <tbody>\n",
       "    <tr>\n",
       "      <th>0</th>\n",
       "      <td>1.0</td>\n",
       "      <td>1.0</td>\n",
       "      <td>1.0</td>\n",
       "      <td>1.0</td>\n",
       "      <td>1.0</td>\n",
       "      <td>1.0</td>\n",
       "      <td>1.0</td>\n",
       "      <td>1.0</td>\n",
       "      <td>1.0</td>\n",
       "      <td>1.0</td>\n",
       "      <td>...</td>\n",
       "      <td>0.0</td>\n",
       "      <td>0.0</td>\n",
       "      <td>0.0</td>\n",
       "      <td>0.0</td>\n",
       "      <td>0.0</td>\n",
       "      <td>0.0</td>\n",
       "      <td>0.0</td>\n",
       "      <td>0.0</td>\n",
       "      <td>0.0</td>\n",
       "      <td>0.0</td>\n",
       "    </tr>\n",
       "    <tr>\n",
       "      <th>1</th>\n",
       "      <td>0.0</td>\n",
       "      <td>0.0</td>\n",
       "      <td>0.0</td>\n",
       "      <td>0.0</td>\n",
       "      <td>0.0</td>\n",
       "      <td>0.0</td>\n",
       "      <td>0.0</td>\n",
       "      <td>0.0</td>\n",
       "      <td>0.0</td>\n",
       "      <td>0.0</td>\n",
       "      <td>...</td>\n",
       "      <td>0.0</td>\n",
       "      <td>0.0</td>\n",
       "      <td>0.0</td>\n",
       "      <td>0.0</td>\n",
       "      <td>0.0</td>\n",
       "      <td>0.0</td>\n",
       "      <td>0.0</td>\n",
       "      <td>0.0</td>\n",
       "      <td>0.0</td>\n",
       "      <td>0.0</td>\n",
       "    </tr>\n",
       "    <tr>\n",
       "      <th>2</th>\n",
       "      <td>0.0</td>\n",
       "      <td>0.0</td>\n",
       "      <td>0.0</td>\n",
       "      <td>1.0</td>\n",
       "      <td>0.0</td>\n",
       "      <td>0.0</td>\n",
       "      <td>0.0</td>\n",
       "      <td>0.0</td>\n",
       "      <td>0.0</td>\n",
       "      <td>0.0</td>\n",
       "      <td>...</td>\n",
       "      <td>0.0</td>\n",
       "      <td>0.0</td>\n",
       "      <td>0.0</td>\n",
       "      <td>0.0</td>\n",
       "      <td>0.0</td>\n",
       "      <td>0.0</td>\n",
       "      <td>0.0</td>\n",
       "      <td>0.0</td>\n",
       "      <td>0.0</td>\n",
       "      <td>0.0</td>\n",
       "    </tr>\n",
       "    <tr>\n",
       "      <th>3</th>\n",
       "      <td>0.0</td>\n",
       "      <td>0.0</td>\n",
       "      <td>0.0</td>\n",
       "      <td>0.0</td>\n",
       "      <td>0.0</td>\n",
       "      <td>0.0</td>\n",
       "      <td>0.0</td>\n",
       "      <td>0.0</td>\n",
       "      <td>1.0</td>\n",
       "      <td>0.0</td>\n",
       "      <td>...</td>\n",
       "      <td>0.0</td>\n",
       "      <td>0.0</td>\n",
       "      <td>0.0</td>\n",
       "      <td>0.0</td>\n",
       "      <td>0.0</td>\n",
       "      <td>0.0</td>\n",
       "      <td>0.0</td>\n",
       "      <td>0.0</td>\n",
       "      <td>0.0</td>\n",
       "      <td>0.0</td>\n",
       "    </tr>\n",
       "    <tr>\n",
       "      <th>4</th>\n",
       "      <td>0.0</td>\n",
       "      <td>0.0</td>\n",
       "      <td>0.0</td>\n",
       "      <td>0.0</td>\n",
       "      <td>0.0</td>\n",
       "      <td>0.0</td>\n",
       "      <td>0.0</td>\n",
       "      <td>0.0</td>\n",
       "      <td>0.0</td>\n",
       "      <td>0.0</td>\n",
       "      <td>...</td>\n",
       "      <td>0.0</td>\n",
       "      <td>0.0</td>\n",
       "      <td>0.0</td>\n",
       "      <td>0.0</td>\n",
       "      <td>0.0</td>\n",
       "      <td>0.0</td>\n",
       "      <td>0.0</td>\n",
       "      <td>0.0</td>\n",
       "      <td>0.0</td>\n",
       "      <td>0.0</td>\n",
       "    </tr>\n",
       "  </tbody>\n",
       "</table>\n",
       "<p>5 rows × 16990 columns</p>\n",
       "</div>"
      ],
      "text/plain": [
       "   advantag  afternoon  area  around  attitud  best  break  busiest  came  \\\n",
       "0       1.0        1.0   1.0     1.0      1.0   1.0    1.0      1.0   1.0   \n",
       "1       0.0        0.0   0.0     0.0      0.0   0.0    0.0      0.0   0.0   \n",
       "2       0.0        0.0   0.0     1.0      0.0   0.0    0.0      0.0   0.0   \n",
       "3       0.0        0.0   0.0     0.0      0.0   0.0    0.0      0.0   1.0   \n",
       "4       0.0        0.0   0.0     0.0      0.0   0.0    0.0      0.0   0.0   \n",
       "\n",
       "   cast  ...  centimet  activitiesif  chidrenkid  childrenkid  kidschildren  \\\n",
       "0   1.0  ...       0.0           0.0         0.0          0.0           0.0   \n",
       "1   0.0  ...       0.0           0.0         0.0          0.0           0.0   \n",
       "2   0.0  ...       0.0           0.0         0.0          0.0           0.0   \n",
       "3   0.0  ...       0.0           0.0         0.0          0.0           0.0   \n",
       "4   0.0  ...       0.0           0.0         0.0          0.0           0.0   \n",
       "\n",
       "   silverni  thristi  car😞  nomor  disregarddisrespect  \n",
       "0       0.0      0.0   0.0    0.0                  0.0  \n",
       "1       0.0      0.0   0.0    0.0                  0.0  \n",
       "2       0.0      0.0   0.0    0.0                  0.0  \n",
       "3       0.0      0.0   0.0    0.0                  0.0  \n",
       "4       0.0      0.0   0.0    0.0                  0.0  \n",
       "\n",
       "[5 rows x 16990 columns]"
      ]
     },
     "execution_count": 7,
     "metadata": {},
     "output_type": "execute_result"
    }
   ],
   "source": [
    "import gensim\n",
    "from gensim import corpora\n",
    "\n",
    "# Build the dictionary\n",
    "mydict = corpora.Dictionary(df['review_tokens'])\n",
    "vocab_len = len(mydict)\n",
    "\n",
    "def get_bow_features(df, stemmed_tokens):\n",
    "    test_features = []\n",
    "    for index, row in df.iterrows():\n",
    "        # Converting the tokens into the format that the model requires\n",
    "        features = gensim.matutils.corpus2csc([mydict.doc2bow(row[stemmed_tokens])],num_terms=vocab_len).toarray()[:,0]\n",
    "        test_features.append(features)\n",
    "    return test_features\n",
    "\n",
    "header = \",\".join(str(mydict[ele]) for ele in range(vocab_len))\n",
    "\n",
    "bow_all_word_features = pd.DataFrame(get_bow_features(df, 'review_tokens'),                            \n",
    "                            columns=header.split(','), index = df.index)\n",
    "\n",
    "bow_all_word_features.head()"
   ]
  },
  {
   "cell_type": "markdown",
   "metadata": {},
   "source": [
    "### Create Term Frequency-Inverse Document Frequency (TF-IDF) Bag of Words\n",
    "\n",
    "TF-IDF Assigns more weight to rare words and less weight to commonly occurring words. It tells us how frequent a word is in a document relative to its frequency in the entire corpus and evaluates the importance of a term in a corpus (a large set of text). This allows low frequency words that are potentially important in classification to have a higher weight in the classification process."
   ]
  },
  {
   "cell_type": "code",
   "execution_count": 8,
   "metadata": {},
   "outputs": [
    {
     "data": {
      "text/html": [
       "<div>\n",
       "<style scoped>\n",
       "    .dataframe tbody tr th:only-of-type {\n",
       "        vertical-align: middle;\n",
       "    }\n",
       "\n",
       "    .dataframe tbody tr th {\n",
       "        vertical-align: top;\n",
       "    }\n",
       "\n",
       "    .dataframe thead th {\n",
       "        text-align: right;\n",
       "    }\n",
       "</style>\n",
       "<table border=\"1\" class=\"dataframe\">\n",
       "  <thead>\n",
       "    <tr style=\"text-align: right;\">\n",
       "      <th></th>\n",
       "      <th>advantag</th>\n",
       "      <th>afternoon</th>\n",
       "      <th>area</th>\n",
       "      <th>around</th>\n",
       "      <th>attitud</th>\n",
       "      <th>best</th>\n",
       "      <th>break</th>\n",
       "      <th>busiest</th>\n",
       "      <th>came</th>\n",
       "      <th>cast</th>\n",
       "      <th>...</th>\n",
       "      <th>centimet</th>\n",
       "      <th>activitiesif</th>\n",
       "      <th>chidrenkid</th>\n",
       "      <th>childrenkid</th>\n",
       "      <th>kidschildren</th>\n",
       "      <th>silverni</th>\n",
       "      <th>thristi</th>\n",
       "      <th>car😞</th>\n",
       "      <th>nomor</th>\n",
       "      <th>disregarddisrespect</th>\n",
       "    </tr>\n",
       "  </thead>\n",
       "  <tbody>\n",
       "    <tr>\n",
       "      <th>0</th>\n",
       "      <td>0.111339</td>\n",
       "      <td>0.116593</td>\n",
       "      <td>0.076398</td>\n",
       "      <td>0.056851</td>\n",
       "      <td>0.114436</td>\n",
       "      <td>0.062524</td>\n",
       "      <td>0.08257</td>\n",
       "      <td>0.138444</td>\n",
       "      <td>0.081736</td>\n",
       "      <td>0.071874</td>\n",
       "      <td>...</td>\n",
       "      <td>0.0</td>\n",
       "      <td>0.0</td>\n",
       "      <td>0.0</td>\n",
       "      <td>0.0</td>\n",
       "      <td>0.0</td>\n",
       "      <td>0.0</td>\n",
       "      <td>0.0</td>\n",
       "      <td>0.0</td>\n",
       "      <td>0.0</td>\n",
       "      <td>0.0</td>\n",
       "    </tr>\n",
       "    <tr>\n",
       "      <th>1</th>\n",
       "      <td>0.000000</td>\n",
       "      <td>0.000000</td>\n",
       "      <td>0.000000</td>\n",
       "      <td>0.000000</td>\n",
       "      <td>0.000000</td>\n",
       "      <td>0.000000</td>\n",
       "      <td>0.00000</td>\n",
       "      <td>0.000000</td>\n",
       "      <td>0.000000</td>\n",
       "      <td>0.000000</td>\n",
       "      <td>...</td>\n",
       "      <td>0.0</td>\n",
       "      <td>0.0</td>\n",
       "      <td>0.0</td>\n",
       "      <td>0.0</td>\n",
       "      <td>0.0</td>\n",
       "      <td>0.0</td>\n",
       "      <td>0.0</td>\n",
       "      <td>0.0</td>\n",
       "      <td>0.0</td>\n",
       "      <td>0.0</td>\n",
       "    </tr>\n",
       "    <tr>\n",
       "      <th>2</th>\n",
       "      <td>0.000000</td>\n",
       "      <td>0.000000</td>\n",
       "      <td>0.000000</td>\n",
       "      <td>0.071694</td>\n",
       "      <td>0.000000</td>\n",
       "      <td>0.000000</td>\n",
       "      <td>0.00000</td>\n",
       "      <td>0.000000</td>\n",
       "      <td>0.000000</td>\n",
       "      <td>0.000000</td>\n",
       "      <td>...</td>\n",
       "      <td>0.0</td>\n",
       "      <td>0.0</td>\n",
       "      <td>0.0</td>\n",
       "      <td>0.0</td>\n",
       "      <td>0.0</td>\n",
       "      <td>0.0</td>\n",
       "      <td>0.0</td>\n",
       "      <td>0.0</td>\n",
       "      <td>0.0</td>\n",
       "      <td>0.0</td>\n",
       "    </tr>\n",
       "    <tr>\n",
       "      <th>3</th>\n",
       "      <td>0.000000</td>\n",
       "      <td>0.000000</td>\n",
       "      <td>0.000000</td>\n",
       "      <td>0.000000</td>\n",
       "      <td>0.000000</td>\n",
       "      <td>0.000000</td>\n",
       "      <td>0.00000</td>\n",
       "      <td>0.000000</td>\n",
       "      <td>0.216771</td>\n",
       "      <td>0.000000</td>\n",
       "      <td>...</td>\n",
       "      <td>0.0</td>\n",
       "      <td>0.0</td>\n",
       "      <td>0.0</td>\n",
       "      <td>0.0</td>\n",
       "      <td>0.0</td>\n",
       "      <td>0.0</td>\n",
       "      <td>0.0</td>\n",
       "      <td>0.0</td>\n",
       "      <td>0.0</td>\n",
       "      <td>0.0</td>\n",
       "    </tr>\n",
       "    <tr>\n",
       "      <th>4</th>\n",
       "      <td>0.000000</td>\n",
       "      <td>0.000000</td>\n",
       "      <td>0.000000</td>\n",
       "      <td>0.000000</td>\n",
       "      <td>0.000000</td>\n",
       "      <td>0.000000</td>\n",
       "      <td>0.00000</td>\n",
       "      <td>0.000000</td>\n",
       "      <td>0.000000</td>\n",
       "      <td>0.000000</td>\n",
       "      <td>...</td>\n",
       "      <td>0.0</td>\n",
       "      <td>0.0</td>\n",
       "      <td>0.0</td>\n",
       "      <td>0.0</td>\n",
       "      <td>0.0</td>\n",
       "      <td>0.0</td>\n",
       "      <td>0.0</td>\n",
       "      <td>0.0</td>\n",
       "      <td>0.0</td>\n",
       "      <td>0.0</td>\n",
       "    </tr>\n",
       "  </tbody>\n",
       "</table>\n",
       "<p>5 rows × 16990 columns</p>\n",
       "</div>"
      ],
      "text/plain": [
       "   advantag  afternoon      area    around   attitud      best    break  \\\n",
       "0  0.111339   0.116593  0.076398  0.056851  0.114436  0.062524  0.08257   \n",
       "1  0.000000   0.000000  0.000000  0.000000  0.000000  0.000000  0.00000   \n",
       "2  0.000000   0.000000  0.000000  0.071694  0.000000  0.000000  0.00000   \n",
       "3  0.000000   0.000000  0.000000  0.000000  0.000000  0.000000  0.00000   \n",
       "4  0.000000   0.000000  0.000000  0.000000  0.000000  0.000000  0.00000   \n",
       "\n",
       "    busiest      came      cast  ...  centimet  activitiesif  chidrenkid  \\\n",
       "0  0.138444  0.081736  0.071874  ...       0.0           0.0         0.0   \n",
       "1  0.000000  0.000000  0.000000  ...       0.0           0.0         0.0   \n",
       "2  0.000000  0.000000  0.000000  ...       0.0           0.0         0.0   \n",
       "3  0.000000  0.216771  0.000000  ...       0.0           0.0         0.0   \n",
       "4  0.000000  0.000000  0.000000  ...       0.0           0.0         0.0   \n",
       "\n",
       "   childrenkid  kidschildren  silverni  thristi  car😞  nomor  \\\n",
       "0          0.0           0.0       0.0      0.0   0.0    0.0   \n",
       "1          0.0           0.0       0.0      0.0   0.0    0.0   \n",
       "2          0.0           0.0       0.0      0.0   0.0    0.0   \n",
       "3          0.0           0.0       0.0      0.0   0.0    0.0   \n",
       "4          0.0           0.0       0.0      0.0   0.0    0.0   \n",
       "\n",
       "   disregarddisrespect  \n",
       "0                  0.0  \n",
       "1                  0.0  \n",
       "2                  0.0  \n",
       "3                  0.0  \n",
       "4                  0.0  \n",
       "\n",
       "[5 rows x 16990 columns]"
      ]
     },
     "execution_count": 8,
     "metadata": {},
     "output_type": "execute_result"
    }
   ],
   "source": [
    "from gensim.models import TfidfModel\n",
    "# Build the dictionary\n",
    "mydict = corpora.Dictionary(df['review_tokens'])\n",
    "vocab_len = len(mydict)\n",
    "corpus = [mydict.doc2bow(line) for line in df['review_tokens']]\n",
    "tfidf_model = TfidfModel(corpus)\n",
    "\n",
    "def get_tfidf_features(df, stemmed_tokens):\n",
    "    test_features_tfidf = []\n",
    "    for index, row in df.iterrows():\n",
    "        doc = mydict.doc2bow(row[stemmed_tokens])\n",
    "        # Converting the tokens into the formet that the model requires\n",
    "        features = gensim.matutils.corpus2csc([tfidf_model[doc]], num_terms=vocab_len).toarray()[:,0]\n",
    "        test_features_tfidf.append(features)\n",
    "    return test_features_tfidf\n",
    "\n",
    "header = \",\".join(str(mydict[ele]) for ele in range(vocab_len))\n",
    "\n",
    "tfidf_all_words_features = pd.DataFrame(get_tfidf_features(df, 'review_tokens'),                            \n",
    "                            columns=header.split(','), index = df.index)\n",
    "tfidf_all_words_features.head()"
   ]
  },
  {
   "cell_type": "markdown",
   "metadata": {},
   "source": [
    "## Modelling\n",
    "\n",
    "In the modelling section, I will be using the following models for sentiment classification:\n",
    "1. Random Forest\n",
    "2. Logistic Regression\n",
    "3. Extreme Gradient Boosting (XGB) Classifier\n",
    "\n",
    "Random Forest Classifier is an ensemble method that creates and uses the result of multiple decision trees to make a prediction; it can handle non-linear relationships and high-dimensional data. It also has the feature_importances_ attribute, which reveals which features are influential in determining the sentiment of a text. \n",
    "\n",
    "Logistic Regression is a linear model that models the relationship between the features and the target variable as a linear combination. Logistic Regression also has the coef_ attribute, revealing the weight of terms in the two sentiment classes. Additionally, it can handle large datasets and be tuned to be more regularized to avoid overfitting, making it a good choice for sentiment analysis.\n",
    "\n",
    "As with Random Forest Classifiers, XGBoost combines multiple decision trees to make predictions. Therefore, it can handle non-linear relationships and high-dimensional data. It can also handle large datasets and has the feature_importances_ attrbiute which can be used to understand what features are important in determining the sentiment of a text.\n",
    "\n",
    "Therefore, I will use these 3 models due to its good performance and classification approaches.\n",
    "\n",
    "### Evaluation Criteria\n",
    "\n",
    "AUC-ROC is a metric that measures the ability of a model to distinguish between positive and negative classes. It plots the True Positive Rate (TPR) against the False Positive Rate (FPR) at various threshold values and computes the area under the resulting curve.\n",
    "\n",
    "The AUC-ROC is a robust metric that is insensitive to class imbalance, so it can be used to evaluate the performance of the sentiment analysis model with a class distribution of 60:40 for positive:negative respectively. A high AUC-ROC value indicates that the model is able to distinguish between positive and negative instances, regardless of the class distribution.\n",
    "\n",
    "ROC-AUC is expressed as a decimal value ranging from 0 to 1.\n",
    "\n",
    "A value of 0.5 represents a random guess, while a value of 1 represents a perfect model that perfectly separates positive and negative classes. A value of 0 represents a model that performs worse than random guessing.\n",
    "\n",
    " Thus, I will look for a model that produces the highest AUC-ROC score."
   ]
  },
  {
   "cell_type": "code",
   "execution_count": 9,
   "metadata": {},
   "outputs": [],
   "source": [
    "# pip install xgboost"
   ]
  },
  {
   "cell_type": "code",
   "execution_count": 10,
   "metadata": {},
   "outputs": [],
   "source": [
    "# Import models\n",
    "from sklearn.ensemble import RandomForestClassifier\n",
    "from sklearn.linear_model import LogisticRegression\n",
    "from xgboost import XGBClassifier\n",
    "\n",
    "# Import metric scores\n",
    "from sklearn.metrics import classification_report, confusion_matrix, roc_auc_score\n",
    "\n",
    "# Import train test split and seaborn\n",
    "import seaborn as sns\n",
    "from sklearn.model_selection import train_test_split"
   ]
  },
  {
   "cell_type": "code",
   "execution_count": 11,
   "metadata": {},
   "outputs": [],
   "source": [
    "# Specifying the random_state to ensure reproducable results\n",
    "models = []\n",
    "models.append(('LR', LogisticRegression(random_state=1)))\n",
    "models.append(('RF', RandomForestClassifier(random_state=1)))\n",
    "models.append(('XGB', XGBClassifier(random_state=1)))"
   ]
  },
  {
   "cell_type": "markdown",
   "metadata": {},
   "source": [
    "### Testing with Feature Set"
   ]
  },
  {
   "cell_type": "code",
   "execution_count": 12,
   "metadata": {},
   "outputs": [
    {
     "name": "stdout",
     "output_type": "stream",
     "text": [
      "Train the LR model now.\n",
      "Train the RF model now.\n",
      "Train the XGB model now.\n"
     ]
    },
    {
     "data": {
      "text/html": [
       "<div>\n",
       "<style scoped>\n",
       "    .dataframe tbody tr th:only-of-type {\n",
       "        vertical-align: middle;\n",
       "    }\n",
       "\n",
       "    .dataframe tbody tr th {\n",
       "        vertical-align: top;\n",
       "    }\n",
       "\n",
       "    .dataframe thead th {\n",
       "        text-align: right;\n",
       "    }\n",
       "</style>\n",
       "<table border=\"1\" class=\"dataframe\">\n",
       "  <thead>\n",
       "    <tr style=\"text-align: right;\">\n",
       "      <th></th>\n",
       "      <th>Name</th>\n",
       "      <th>ROC-AUC</th>\n",
       "    </tr>\n",
       "  </thead>\n",
       "  <tbody>\n",
       "    <tr>\n",
       "      <th>0</th>\n",
       "      <td>LR with Top 2000 Feature Set</td>\n",
       "      <td>0.902832</td>\n",
       "    </tr>\n",
       "    <tr>\n",
       "      <th>2</th>\n",
       "      <td>XGB with Top 2000 Feature Set</td>\n",
       "      <td>0.888097</td>\n",
       "    </tr>\n",
       "    <tr>\n",
       "      <th>1</th>\n",
       "      <td>RF with Top 2000 Feature Set</td>\n",
       "      <td>0.880570</td>\n",
       "    </tr>\n",
       "  </tbody>\n",
       "</table>\n",
       "</div>"
      ],
      "text/plain": [
       "                            Name   ROC-AUC\n",
       "0   LR with Top 2000 Feature Set  0.902832\n",
       "2  XGB with Top 2000 Feature Set  0.888097\n",
       "1   RF with Top 2000 Feature Set  0.880570"
      ]
     },
     "execution_count": 12,
     "metadata": {},
     "output_type": "execute_result"
    },
    {
     "data": {
      "image/png": "[encoded data removed]",
      "text/plain": [
       "<Figure size 600x400 with 1 Axes>"
      ]
     },
     "metadata": {},
     "output_type": "display_data"
    }
   ],
   "source": [
    "X = all_words_feature_set # x is the columns, pass into the model\n",
    "y = df[['sentiment']] # y is the target variable, sentiment\n",
    "\n",
    "X_train, X_test, y_train, y_test = train_test_split(X, y, test_size=0.3, random_state=42, stratify=y) # Stratify by the y column\n",
    "\n",
    "#plot chart\n",
    "plt.style.use('ggplot')\n",
    "plt.figure(figsize=(6,4))\n",
    "sns.countplot(data=y_train, x='sentiment')\n",
    "\n",
    "# Testing with Kfold cross-validation and 10 folds.\n",
    "from sklearn.model_selection import KFold\n",
    "import sklearn.model_selection as model_selection\n",
    "\n",
    "names = []\n",
    "scores = []\n",
    "for name,model in models:\n",
    "    print(\"Train the\",name,\"model now.\")\n",
    "    \n",
    "    model.fit(X_train, y_train.values.ravel())\n",
    "    y_pred = model.predict(X_test)\n",
    "    scores.append(roc_auc_score(y_test, y_pred))\n",
    "    names.append(name+\" with Top 2000 Feature Set\")\n",
    "\n",
    "models_comparison = pd.DataFrame({'Name':names, 'ROC-AUC':scores})\n",
    "models_comparison.sort_values(by='ROC-AUC', ascending=False)"
   ]
  },
  {
   "cell_type": "markdown",
   "metadata": {},
   "source": [
    "Based on the results of the classifiers, Logistic Regression has the best ROC-AUC score of 90.28%. The classes after splitting the data into train data is also quite balanced of around 40%:60% in the negative (0) and positive (1) sentiment respective."
   ]
  },
  {
   "cell_type": "markdown",
   "metadata": {},
   "source": [
    "### Testing with Term Frequency Bag of Words"
   ]
  },
  {
   "cell_type": "code",
   "execution_count": 13,
   "metadata": {},
   "outputs": [
    {
     "name": "stdout",
     "output_type": "stream",
     "text": [
      "Train the LR now.\n"
     ]
    },
    {
     "name": "stderr",
     "output_type": "stream",
     "text": [
      "C:\\Users\\fangg\\anaconda3_new\\lib\\site-packages\\sklearn\\linear_model\\_logistic.py:814: ConvergenceWarning: lbfgs failed to converge (status=1):\n",
      "STOP: TOTAL NO. of ITERATIONS REACHED LIMIT.\n",
      "\n",
      "Increase the number of iterations (max_iter) or scale the data as shown in:\n",
      "    https://scikit-learn.org/stable/modules/preprocessing.html\n",
      "Please also refer to the documentation for alternative solver options:\n",
      "    https://scikit-learn.org/stable/modules/linear_model.html#logistic-regression\n",
      "  n_iter_i = _check_optimize_result(\n"
     ]
    },
    {
     "name": "stdout",
     "output_type": "stream",
     "text": [
      "Train the RF now.\n",
      "Train the XGB now.\n"
     ]
    },
    {
     "data": {
      "text/html": [
       "<div>\n",
       "<style scoped>\n",
       "    .dataframe tbody tr th:only-of-type {\n",
       "        vertical-align: middle;\n",
       "    }\n",
       "\n",
       "    .dataframe tbody tr th {\n",
       "        vertical-align: top;\n",
       "    }\n",
       "\n",
       "    .dataframe thead th {\n",
       "        text-align: right;\n",
       "    }\n",
       "</style>\n",
       "<table border=\"1\" class=\"dataframe\">\n",
       "  <thead>\n",
       "    <tr style=\"text-align: right;\">\n",
       "      <th></th>\n",
       "      <th>Name</th>\n",
       "      <th>ROC-AUC</th>\n",
       "    </tr>\n",
       "  </thead>\n",
       "  <tbody>\n",
       "    <tr>\n",
       "      <th>0</th>\n",
       "      <td>LR with Top 2000 Feature Set</td>\n",
       "      <td>0.902832</td>\n",
       "    </tr>\n",
       "    <tr>\n",
       "      <th>3</th>\n",
       "      <td>LR with Term Frequency Feature Set</td>\n",
       "      <td>0.901075</td>\n",
       "    </tr>\n",
       "    <tr>\n",
       "      <th>2</th>\n",
       "      <td>XGB with Top 2000 Feature Set</td>\n",
       "      <td>0.888097</td>\n",
       "    </tr>\n",
       "    <tr>\n",
       "      <th>5</th>\n",
       "      <td>XGB with Term Frequency Feature Set</td>\n",
       "      <td>0.885937</td>\n",
       "    </tr>\n",
       "    <tr>\n",
       "      <th>1</th>\n",
       "      <td>RF with Top 2000 Feature Set</td>\n",
       "      <td>0.880570</td>\n",
       "    </tr>\n",
       "    <tr>\n",
       "      <th>4</th>\n",
       "      <td>RF with Term Frequency Feature Set</td>\n",
       "      <td>0.875808</td>\n",
       "    </tr>\n",
       "  </tbody>\n",
       "</table>\n",
       "</div>"
      ],
      "text/plain": [
       "                                  Name   ROC-AUC\n",
       "0         LR with Top 2000 Feature Set  0.902832\n",
       "3   LR with Term Frequency Feature Set  0.901075\n",
       "2        XGB with Top 2000 Feature Set  0.888097\n",
       "5  XGB with Term Frequency Feature Set  0.885937\n",
       "1         RF with Top 2000 Feature Set  0.880570\n",
       "4   RF with Term Frequency Feature Set  0.875808"
      ]
     },
     "execution_count": 13,
     "metadata": {},
     "output_type": "execute_result"
    },
    {
     "data": {
      "image/png": "[encoded data removed]",
      "text/plain": [
       "<Figure size 600x400 with 1 Axes>"
      ]
     },
     "metadata": {},
     "output_type": "display_data"
    }
   ],
   "source": [
    "X = bow_all_word_features # x is the columns, pass into the model\n",
    "y = df[['sentiment']] # y is the target variable, sentiment\n",
    "\n",
    "X_train, X_test, y_train, y_test = train_test_split(X, y, test_size=0.3, random_state=42, stratify=y) # Stratify by the y column\n",
    "\n",
    "#plot chart\n",
    "plt.style.use('ggplot')\n",
    "plt.figure(figsize=(6,4))\n",
    "sns.countplot(data=y_train, x='sentiment')\n",
    "\n",
    "for name,model in models:\n",
    "    print(\"Train the\",name,\"now.\")\n",
    "    \n",
    "    model.fit(X_train, y_train.values.ravel())\n",
    "    y_pred = model.predict(X_test)\n",
    "    scores.append(roc_auc_score(y_test, y_pred))\n",
    "    names.append(name+\" with Term Frequency Feature Set\")\n",
    "\n",
    "models_comparison = pd.DataFrame({'Name':names, 'ROC-AUC':scores})\n",
    "models_comparison.sort_values(by='ROC-AUC', ascending=False)"
   ]
  },
  {
   "cell_type": "markdown",
   "metadata": {},
   "source": [
    "Compared to using the top 2000 feature set containing all words, the Term Frequency Bag of Words Feature Set performed worse, with the highest ROC-AUC being 90.10% compared to 90.28% previously.\n",
    "\n",
    "This decline in performance could be due to the other words creating noise within the machine, preventing the machine from accurately classify the text to its respective sentiments."
   ]
  },
  {
   "cell_type": "markdown",
   "metadata": {},
   "source": [
    "### Testing with a feature of TF-IDF Bag of Words"
   ]
  },
  {
   "cell_type": "code",
   "execution_count": 14,
   "metadata": {},
   "outputs": [
    {
     "name": "stdout",
     "output_type": "stream",
     "text": [
      "Train the LR now.\n",
      "Train the RF now.\n",
      "Train the XGB now.\n"
     ]
    },
    {
     "data": {
      "text/html": [
       "<div>\n",
       "<style scoped>\n",
       "    .dataframe tbody tr th:only-of-type {\n",
       "        vertical-align: middle;\n",
       "    }\n",
       "\n",
       "    .dataframe tbody tr th {\n",
       "        vertical-align: top;\n",
       "    }\n",
       "\n",
       "    .dataframe thead th {\n",
       "        text-align: right;\n",
       "    }\n",
       "</style>\n",
       "<table border=\"1\" class=\"dataframe\">\n",
       "  <thead>\n",
       "    <tr style=\"text-align: right;\">\n",
       "      <th></th>\n",
       "      <th>Name</th>\n",
       "      <th>ROC-AUC</th>\n",
       "    </tr>\n",
       "  </thead>\n",
       "  <tbody>\n",
       "    <tr>\n",
       "      <th>6</th>\n",
       "      <td>LR with TFIDF Feature Set</td>\n",
       "      <td>0.912423</td>\n",
       "    </tr>\n",
       "    <tr>\n",
       "      <th>0</th>\n",
       "      <td>LR with Top 2000 Feature Set</td>\n",
       "      <td>0.902832</td>\n",
       "    </tr>\n",
       "    <tr>\n",
       "      <th>3</th>\n",
       "      <td>LR with Term Frequency Feature Set</td>\n",
       "      <td>0.901075</td>\n",
       "    </tr>\n",
       "    <tr>\n",
       "      <th>8</th>\n",
       "      <td>XGB with TFIDF Feature Set</td>\n",
       "      <td>0.888478</td>\n",
       "    </tr>\n",
       "    <tr>\n",
       "      <th>2</th>\n",
       "      <td>XGB with Top 2000 Feature Set</td>\n",
       "      <td>0.888097</td>\n",
       "    </tr>\n",
       "    <tr>\n",
       "      <th>5</th>\n",
       "      <td>XGB with Term Frequency Feature Set</td>\n",
       "      <td>0.885937</td>\n",
       "    </tr>\n",
       "    <tr>\n",
       "      <th>1</th>\n",
       "      <td>RF with Top 2000 Feature Set</td>\n",
       "      <td>0.880570</td>\n",
       "    </tr>\n",
       "    <tr>\n",
       "      <th>4</th>\n",
       "      <td>RF with Term Frequency Feature Set</td>\n",
       "      <td>0.875808</td>\n",
       "    </tr>\n",
       "    <tr>\n",
       "      <th>7</th>\n",
       "      <td>RF with TFIDF Feature Set</td>\n",
       "      <td>0.873133</td>\n",
       "    </tr>\n",
       "  </tbody>\n",
       "</table>\n",
       "</div>"
      ],
      "text/plain": [
       "                                  Name   ROC-AUC\n",
       "6            LR with TFIDF Feature Set  0.912423\n",
       "0         LR with Top 2000 Feature Set  0.902832\n",
       "3   LR with Term Frequency Feature Set  0.901075\n",
       "8           XGB with TFIDF Feature Set  0.888478\n",
       "2        XGB with Top 2000 Feature Set  0.888097\n",
       "5  XGB with Term Frequency Feature Set  0.885937\n",
       "1         RF with Top 2000 Feature Set  0.880570\n",
       "4   RF with Term Frequency Feature Set  0.875808\n",
       "7            RF with TFIDF Feature Set  0.873133"
      ]
     },
     "execution_count": 14,
     "metadata": {},
     "output_type": "execute_result"
    },
    {
     "data": {
      "image/png": "[encoded data removed]",
      "text/plain": [
       "<Figure size 600x400 with 1 Axes>"
      ]
     },
     "metadata": {},
     "output_type": "display_data"
    }
   ],
   "source": [
    "X = tfidf_all_words_features # x is the columns, pass into the model\n",
    "y = df[['sentiment']] # y is the target variable, sentiment\n",
    "\n",
    "X_train, X_test, y_train, y_test = train_test_split(X, y, test_size=0.3, random_state=42, stratify=y) # Stratify by the y column\n",
    "\n",
    "#plot chart\n",
    "plt.style.use('ggplot')\n",
    "plt.figure(figsize=(6,4))\n",
    "sns.countplot(data=y_train, x='sentiment')\n",
    "\n",
    "for name,model in models:\n",
    "    print(\"Train the\",name,\"now.\")\n",
    "    model.fit(X_train, y_train.values.ravel())\n",
    "    y_pred = model.predict(X_test)\n",
    "    scores.append(roc_auc_score(y_test, y_pred))\n",
    "    names.append(name+\" with TFIDF Feature Set\")\n",
    "\n",
    "models_comparison = pd.DataFrame({'Name':names, 'ROC-AUC':scores})\n",
    "models_comparison.sort_values(by='ROC-AUC', ascending=False)"
   ]
  },
  {
   "cell_type": "markdown",
   "metadata": {},
   "source": [
    "Compared to using the Term Frequency Bag of Words, the TF-IDF Bag of Words Feature Set performed slightly better, with the highest accuracy being 91.24% compared to 90.28% previously.\n",
    "\n",
    "This improvement in performance could be due to the fact that TF-IDF assigned more weight to rare words and less weight to commonly occurring words, which could have been crucial in classifying the text's sentiment."
   ]
  },
  {
   "cell_type": "markdown",
   "metadata": {},
   "source": [
    "### Selecting best model\n",
    "\n",
    "Based on the 3 different feature sets and models, the Logistic Regression with a feature set of TF-IDF Bag of Words performed the best. It has a classification accuracy of 91.24%. Therefore, I decided to tune this model to achieve better results."
   ]
  },
  {
   "cell_type": "code",
   "execution_count": 15,
   "metadata": {},
   "outputs": [],
   "source": [
    "X = tfidf_all_words_features\n",
    "\n",
    "X_train, X_test, y_train, y_test = train_test_split(X, y, test_size=0.3, random_state=42, stratify=y)\n",
    "\n",
    "# Create a list to store the results\n",
    "names = []\n",
    "scores = []"
   ]
  },
  {
   "cell_type": "code",
   "execution_count": 16,
   "metadata": {},
   "outputs": [
    {
     "name": "stdout",
     "output_type": "stream",
     "text": [
      "ROC_AUC Score: 0.9124234592862915\n"
     ]
    }
   ],
   "source": [
    "# Base model for comparison\n",
    "classifier = LogisticRegression(random_state=1)\n",
    "classifier.fit(X_train, y_train.values.ravel())\n",
    "\n",
    "names.append(\"Non-tuned (LBFGS solver, C=1) model\")\n",
    "y_pred = classifier.predict(X_test) \n",
    "roc_score = roc_auc_score(y_test, y_pred)\n",
    "scores.append(roc_score)\n",
    "print(\"ROC_AUC Score: \" + str(roc_score))"
   ]
  },
  {
   "cell_type": "markdown",
   "metadata": {},
   "source": [
    "### Model Tuning\n",
    "\n",
    "I will try tuning the different model's parameter to improve the classification accuracy."
   ]
  },
  {
   "cell_type": "code",
   "execution_count": 17,
   "metadata": {},
   "outputs": [
    {
     "name": "stdout",
     "output_type": "stream",
     "text": [
      "Possible parameters to be tuned for the Logistic Regression Classifier:\n"
     ]
    },
    {
     "data": {
      "text/plain": [
       "dict_keys(['C', 'class_weight', 'dual', 'fit_intercept', 'intercept_scaling', 'l1_ratio', 'max_iter', 'multi_class', 'n_jobs', 'penalty', 'random_state', 'solver', 'tol', 'verbose', 'warm_start'])"
      ]
     },
     "execution_count": 17,
     "metadata": {},
     "output_type": "execute_result"
    }
   ],
   "source": [
    "print(\"Possible parameters to be tuned for the Logistic Regression Classifier:\")\n",
    "LogisticRegression().get_params().keys()"
   ]
  },
  {
   "cell_type": "markdown",
   "metadata": {},
   "source": [
    "Of these parameters, I will only tune the following parameters:\n",
    "    \n",
    "C - C is the inverse of regularization strength. the default C value is 1.0. a smaller value specifies stronger regularization. tuning the regularization strength may increase the generalization performance of unseen data.\n",
    "\n",
    "solver - The default solver is 'lbfgs'. 'saga' is a suitable optimization algorithm for logistic regression models when handling sparse data, large-scale datasets, or when L1 regularization is used. Therefore, I test the 'saga' solver for optimzation problem."
   ]
  },
  {
   "cell_type": "code",
   "execution_count": 18,
   "metadata": {
    "scrolled": true
   },
   "outputs": [
    {
     "name": "stdout",
     "output_type": "stream",
     "text": [
      "ROC_AUC Score: 0.9030421408605858\n"
     ]
    }
   ],
   "source": [
    "# Trying a stronger regularization.\n",
    "classifier = LogisticRegression(C=0.5,  random_state=1)\n",
    "classifier.fit(X_train, y_train.values.ravel())\n",
    "\n",
    "names.append(\"Tuned (C=0.5, LBFGS solver) Model\")\n",
    "y_pred = classifier.predict(X_test) \n",
    "roc_score = roc_auc_score(y_test, y_pred)\n",
    "\n",
    "scores.append(roc_score)\n",
    "print(\"ROC_AUC Score: \" + str(roc_score))"
   ]
  },
  {
   "cell_type": "markdown",
   "metadata": {},
   "source": [
    "With a stronger regularization, lower C value, the performance dropped to 90.30%. A stronger generalization may have caused the model to be too generalized, being unable to capture the relationship between the features and target variable. Thus the decline in classification performance."
   ]
  },
  {
   "cell_type": "code",
   "execution_count": 19,
   "metadata": {},
   "outputs": [
    {
     "name": "stdout",
     "output_type": "stream",
     "text": [
      "ROC_AUC Score: 0.9150756908015779\n"
     ]
    }
   ],
   "source": [
    "# Trying a weaker regularization.\n",
    "classifier = LogisticRegression(C=3,  random_state=1)\n",
    "classifier.fit(X_train, y_train.values.ravel())\n",
    "\n",
    "names.append(\"Tuned (C=3, LBFGS solver) Model\")\n",
    "y_pred = classifier.predict(X_test) \n",
    "roc_score = roc_auc_score(y_test, y_pred)\n",
    "\n",
    "scores.append(roc_score)\n",
    "print(\"ROC_AUC Score: \" + str(roc_score))"
   ]
  },
  {
   "cell_type": "markdown",
   "metadata": {},
   "source": [
    "A weaker regularization, higher C value, improve the performance to 91.50% compared to 91.24% before tuning. A weaker regularization makes the model less generalized, allowing the model to fit the training data better and capture the relationship between the features and target variables. "
   ]
  },
  {
   "cell_type": "code",
   "execution_count": 20,
   "metadata": {},
   "outputs": [
    {
     "name": "stdout",
     "output_type": "stream",
     "text": [
      "ROC_AUC Score: 0.9124234592862915\n"
     ]
    }
   ],
   "source": [
    "# Trying a stronger regularization with SAGA solver\n",
    "classifier = LogisticRegression(solver='saga', random_state=1)\n",
    "classifier.fit(X_train, y_train.values.ravel())\n",
    "\n",
    "names.append(\"Tuned (SAGA solver) Model\")\n",
    "y_pred = classifier.predict(X_test) \n",
    "roc_score = roc_auc_score(y_test, y_pred)\n",
    "\n",
    "scores.append(roc_score)\n",
    "print(\"ROC_AUC Score: \" + str(roc_score))"
   ]
  },
  {
   "cell_type": "markdown",
   "metadata": {},
   "source": [
    "When using a SAGA solver, the ROC_AUC score did not change. This could be due to the fact that the dataset is not that large, thus performing the same as an LBFGS solver."
   ]
  },
  {
   "cell_type": "markdown",
   "metadata": {},
   "source": [
    "# Evaluation - Best Model"
   ]
  },
  {
   "cell_type": "code",
   "execution_count": 21,
   "metadata": {},
   "outputs": [
    {
     "data": {
      "text/html": [
       "<div>\n",
       "<style scoped>\n",
       "    .dataframe tbody tr th:only-of-type {\n",
       "        vertical-align: middle;\n",
       "    }\n",
       "\n",
       "    .dataframe tbody tr th {\n",
       "        vertical-align: top;\n",
       "    }\n",
       "\n",
       "    .dataframe thead th {\n",
       "        text-align: right;\n",
       "    }\n",
       "</style>\n",
       "<table border=\"1\" class=\"dataframe\">\n",
       "  <thead>\n",
       "    <tr style=\"text-align: right;\">\n",
       "      <th></th>\n",
       "      <th>Name</th>\n",
       "      <th>ROC-AUC</th>\n",
       "    </tr>\n",
       "  </thead>\n",
       "  <tbody>\n",
       "    <tr>\n",
       "      <th>2</th>\n",
       "      <td>Tuned (C=3, LBFGS solver) Model</td>\n",
       "      <td>0.915076</td>\n",
       "    </tr>\n",
       "    <tr>\n",
       "      <th>0</th>\n",
       "      <td>Non-tuned (LBFGS solver, C=1) model</td>\n",
       "      <td>0.912423</td>\n",
       "    </tr>\n",
       "    <tr>\n",
       "      <th>3</th>\n",
       "      <td>Tuned (SAGA solver) Model</td>\n",
       "      <td>0.912423</td>\n",
       "    </tr>\n",
       "    <tr>\n",
       "      <th>1</th>\n",
       "      <td>Tuned (C=0.5, LBFGS solver) Model</td>\n",
       "      <td>0.903042</td>\n",
       "    </tr>\n",
       "  </tbody>\n",
       "</table>\n",
       "</div>"
      ],
      "text/plain": [
       "                                  Name   ROC-AUC\n",
       "2      Tuned (C=3, LBFGS solver) Model  0.915076\n",
       "0  Non-tuned (LBFGS solver, C=1) model  0.912423\n",
       "3            Tuned (SAGA solver) Model  0.912423\n",
       "1    Tuned (C=0.5, LBFGS solver) Model  0.903042"
      ]
     },
     "execution_count": 21,
     "metadata": {},
     "output_type": "execute_result"
    }
   ],
   "source": [
    "models_comparison = pd.DataFrame({'Name':names, 'ROC-AUC':scores})\n",
    "models_comparison.sort_values(by='ROC-AUC', ascending=False)"
   ]
  },
  {
   "cell_type": "markdown",
   "metadata": {},
   "source": [
    "The best model is the Logistic Regression with a C value of 3 and the LBFGS solver. It has an ROC_AUC value of 91.50%."
   ]
  },
  {
   "cell_type": "code",
   "execution_count": 22,
   "metadata": {},
   "outputs": [
    {
     "name": "stdout",
     "output_type": "stream",
     "text": [
      "ROC_AUC Score: 0.9150756908015779\n"
     ]
    }
   ],
   "source": [
    "# Trying a stronger regularization.\n",
    "classifier = LogisticRegression(C=3,  random_state=1)\n",
    "classifier.fit(X_train, y_train.values.ravel())\n",
    "\n",
    "names.append(\"Tuned (C=3, LBFGS solver) Model\")\n",
    "y_pred = classifier.predict(X_test) \n",
    "roc_score = roc_auc_score(y_test, y_pred)\n",
    "\n",
    "scores.append(roc_score)\n",
    "print(\"ROC_AUC Score: \" + str(roc_score))"
   ]
  },
  {
   "cell_type": "code",
   "execution_count": 23,
   "metadata": {
    "scrolled": false
   },
   "outputs": [
    {
     "name": "stdout",
     "output_type": "stream",
     "text": [
      "              precision    recall  f1-score   support\n",
      "\n",
      "    positive       0.93      0.88      0.90      1313\n",
      "    negative       0.92      0.96      0.94      1958\n",
      "\n",
      "    accuracy                           0.92      3271\n",
      "   macro avg       0.92      0.92      0.92      3271\n",
      "weighted avg       0.92      0.92      0.92      3271\n",
      "\n",
      "ROC_AUC Score: 0.9150756908015779\n",
      "Accuracy Score: 0.9229593396514827\n"
     ]
    },
    {
     "data": {
      "image/png": "[encoded data removed]",
      "text/plain": [
       "<Figure size 640x480 with 1 Axes>"
      ]
     },
     "metadata": {},
     "output_type": "display_data"
    }
   ],
   "source": [
    "cm = confusion_matrix(y_test, y_pred)\n",
    "\n",
    "names = ['True Negative','False Positive','False Negative','True Positive']\n",
    "counts = [\"{0:0.0f} values\".format(value) for value in cm.flatten()]\n",
    "percentages = [\"{0:.2%}\".format(value) for value in cm.flatten()/np.sum(cm)]\n",
    "labels = [f\"{v1}\\n{v2} ({v3})\" for v1, v2, v3 in zip(names,counts,percentages)]\n",
    "labels = np.asarray(labels).reshape(2,2)\n",
    "ycategories = ['Negative', 'Positive']\n",
    "xcategories = ['Predicted Negative', 'Predicted Positive']\n",
    "off_diag_mask = np.eye(*cm.shape, dtype=bool)\n",
    "\n",
    "fig = plt.figure()\n",
    "con_mat = sns.heatmap(cm, annot=labels, annot_kws={\"size\": 15}, vmin=0, vmax=3000, mask=~off_diag_mask, cmap='Greens', fmt='', cbar=False, yticklabels=ycategories, xticklabels=xcategories)\n",
    "con_mat = sns.heatmap(cm, annot=labels, annot_kws={\"size\": 15}, vmin=0, vmax=3000, mask=off_diag_mask, cmap='Reds', fmt='', cbar=False, yticklabels=ycategories, xticklabels=xcategories)\n",
    "con_mat.set(xlabel=\"Predicted Class\", ylabel=\"Class\", title='Confusion Matrix of Logistic Regression Model')\n",
    "con_mat\n",
    "\n",
    "from sklearn.metrics import classification_report, accuracy_score\n",
    "\n",
    "print(classification_report(y_test, y_pred,target_names=[\"positive\",\"negative\"]))\n",
    "\n",
    "print(\"ROC_AUC Score: \" + str(roc_auc_score(y_test, y_pred)))\n",
    "print(\"Accuracy Score: \" + str(accuracy_score(y_test, y_pred)))"
   ]
  },
  {
   "cell_type": "markdown",
   "metadata": {},
   "source": [
    "The Logistic Regression's classification is good with majority (92.29%) of the the texts being correctly classified. Meanwhile, the false positive and negative rate is low at only 7.70%. \n",
    "\n",
    "An ROC value of 0.5 represents a random guess, while a value of 1 represents a perfect model that perfectly separates positive and negative classes. A value of 0 represents a model that performs worse than random guessing. The classification has a high ROC_AUC score of 92.29%, which is roughly 7.71% away from being a perfect model. Therefore, Logistic Regression is the best model for classifying text with this dataset."
   ]
  },
  {
   "cell_type": "markdown",
   "metadata": {},
   "source": [
    "### Top words used for classification of a text"
   ]
  },
  {
   "cell_type": "code",
   "execution_count": 24,
   "metadata": {},
   "outputs": [
    {
     "name": "stdout",
     "output_type": "stream",
     "text": [
      "Top 10 keywords that classify a text to the positive sentiment:\n",
      "Variable: great      Importance: 8.8998440781\n",
      "Variable: love       Importance: 7.9448186703\n",
      "Variable: amaz       Importance: 7.2777231534\n",
      "Variable: best       Importance: 5.248116369\n",
      "Variable: fun        Importance: 5.2415385269\n",
      "Variable: alwai      Importance: 5.0228081782\n",
      "Variable: awesom     Importance: 5.0171799744\n",
      "Variable: fantast    Importance: 3.6193959614\n",
      "Variable: blast      Importance: 3.555019994\n",
      "Variable: perfect    Importance: 3.48589258\n",
      "Variable: though     Importance: 3.4468942725\n"
     ]
    }
   ],
   "source": [
    "# Coefficients represent the relationship between the given feature and the target , \n",
    "# assuming that all the other features remain constant (conditional dependence).\n",
    "\n",
    "# Positive coefficient belong to the positive sentiment class.\n",
    "importances = list(classifier.coef_[0])\n",
    "feature_importances = [(feature, round(importance, 10)) for feature, importance in zip(bow_all_word_features.columns, importances)]\n",
    "feature_importances = sorted(feature_importances, key = lambda x: x[1], reverse = True)\n",
    "\n",
    "top_i = 0\n",
    "print(\"Top 10 keywords that classify a text to the positive sentiment:\")\n",
    "for pair in feature_importances:\n",
    "    print('Variable: {:10} Importance: {}'.format(*pair))\n",
    "    if top_i == 10:\n",
    "        break\n",
    "    top_i += 1"
   ]
  },
  {
   "cell_type": "markdown",
   "metadata": {},
   "source": [
    "Looking at the top 10 words used to classify a text into the positive sentiment, the words are mostly emotion words. This explains why the text is able to perform well since emotion words occur commonly in texts."
   ]
  },
  {
   "cell_type": "code",
   "execution_count": 25,
   "metadata": {},
   "outputs": [
    {
     "name": "stdout",
     "output_type": "stream",
     "text": [
      "Top 10 keywords that classify a text to the negative sentiment:\n",
      "Variable: monei      Importance: -6.886414802\n",
      "Variable: rude       Importance: -6.2899262378\n",
      "Variable: worst      Importance: -5.6608508226\n",
      "Variable: hour       Importance: -5.2374685791\n",
      "Variable: anymor     Importance: -5.0695771828\n",
      "Variable: pai        Importance: -4.9930800332\n",
      "Variable: horribl    Importance: -4.8758011639\n",
      "Variable: peopl      Importance: -4.8404379365\n",
      "Variable: paid       Importance: -4.7372928547\n",
      "Variable: wast       Importance: -4.7184703266\n",
      "Variable: disappoint Importance: -4.4719374393\n"
     ]
    }
   ],
   "source": [
    "# Coefficients represent the relationship between the given feature and the target , \n",
    "# assuming that all the other features remain constant (conditional dependence).\n",
    "\n",
    "# Negative coefficient belong to the negative sentiment class.\n",
    "importances = list(classifier.coef_[0])\n",
    "feature_importances = [(feature, round(importance, 10)) for feature, importance in zip(bow_all_word_features.columns, importances)]\n",
    "feature_importances = sorted(feature_importances, key = lambda x: x[1], reverse = True)\n",
    "\n",
    "# for pair in feature_importances:\n",
    "#     print(pair)\n",
    "\n",
    "importances = [(name, value) for (name,value) in feature_importances]\n",
    "importances.sort(key=lambda i:i[1], reverse=False)\n",
    "top_i = 0\n",
    "print(\"Top 10 keywords that classify a text to the negative sentiment:\")\n",
    "for pair in importances:\n",
    "    print('Variable: {:10} Importance: {}'.format(*pair))\n",
    "    if top_i == 10:\n",
    "        break\n",
    "    top_i += 1"
   ]
  },
  {
   "cell_type": "markdown",
   "metadata": {},
   "source": [
    "These are the top 10 features that are mostly used to classify a text to the negative sentiment. The terms are mostly adverbs/adjectives such as 'horribl' and 'rude'. Therefore, adjectives/adverbs are necessary in sentiment analysis.\n",
    "\n",
    "This also shows how well the Logistic Regression classifier learns from the data as all the terms used to classify the positive/negative sentiments in the model are correct terms used to determine the sentiment of a text from a human's perspective.\n",
    "\n",
    "In addition, some of the negative aspects of DisneyLand could be identified from the keywords used to classify a text to the negative sentiment. This includes the terms: 'monei', 'rude', 'hour and wast', 'disappoint'.\n",
    "\n",
    "These are all negative aspects of DisneyLand. \n",
    "\n",
    "Monei, or money, could refer to the prices of items in DisneyLand. The prices in DisneyLand are typically higher compared to outside DisneyLand which may cause customers to feel unhappy. Although DisneyLand needs to make an income, they could consider lowering the price to balance their profit with customer satisfaction.\n",
    "\n",
    "'rude' could refer to the service staff in DisneyLand. Management at DisneyLand could consider supervising and monitoring how their staff interact with their customers to identify the issues. They could also reach out to customers who experience rude services and understand and resolve the issue.\n",
    "\n",
    "'disappoint' could refer to the facilities or services at DisneyLand. Especially after the pandemic, some facilities might not have been maintained and may be broken or closed. Management could consider conducting periodic check ups on their facilities to prevent customers from encountering broken or closed facilities which may affect their experience.\n",
    "\n",
    "'hour and wast' could refer to wasted hour in waiting for some services at DisneyLand due to overcrowding. DisneyLand is a popular tourist attraction and crowd control may be a problem. Waiting long hours for a service may cause unhappiness and unsatisfaction among visitors. Therefore, management needs to learn how to handle the crowd to reduce customer waiting time."
   ]
  }
 ],
 "metadata": {
  "kernelspec": {
   "display_name": "Python 3 (ipykernel)",
   "language": "python",
   "name": "python3"
  },
  "language_info": {
   "codemirror_mode": {
    "name": "ipython",
    "version": 3
   },
   "file_extension": ".py",
   "mimetype": "text/x-python",
   "name": "python",
   "nbconvert_exporter": "python",
   "pygments_lexer": "ipython3",
   "version": "3.9.13"
  }
 },
 "nbformat": 4,
 "nbformat_minor": 4
}
