{
 "cells": [
  {
   "cell_type": "code",
   "execution_count": 1,
   "id": "ddaf6804",
   "metadata": {},
   "outputs": [],
   "source": [
    "# pip install selenium\n",
    "# pip install beautifulsoup4"
   ]
  },
  {
   "cell_type": "code",
   "execution_count": 6,
   "id": "a279ffc9",
   "metadata": {},
   "outputs": [],
   "source": [
    "# Importing necessary libraries\n",
    "from selenium import webdriver\n",
    "from bs4 import BeautifulSoup\n",
    "from time import sleep\n",
    "import numpy as np\n",
    "import random\n",
    "import pandas as pd\n",
    "import matplotlib.pyplot as plt\n",
    "import seaborn as sns\n",
    "import nltk"
   ]
  },
  {
   "cell_type": "code",
   "execution_count": 3,
   "id": "beb6af6c",
   "metadata": {},
   "outputs": [],
   "source": [
    "# Date the data is scraped: 11 Jan 2023\n",
    "\n",
    "# Goal: Scrape at least 1.5k reviews for low ratings (1 and 2), 1.5k reviews for high ratings (4 and 5)\n",
    "reviews = []\n",
    "ratings = []\n",
    "dates = []\n",
    "pages = np.arange(0,6010,10)\n",
    "\n",
    "for page_num in pages:\n",
    "    if page_num==0:\n",
    "        page = \"https://www.yelp.com/biz/disneyland-park-anaheim-7\"\n",
    "    else:\n",
    "        page = \"https://www.yelp.com/biz/disneyland-park-anaheim-7?start=\"+str(page_num)\n",
    "    \n",
    "    driver = webdriver.Chrome()\n",
    "    driver.get(page)\n",
    "    sleep(6) # sleep() - gives time for the website to load and to scrape\n",
    "    \n",
    "    soup = BeautifulSoup(driver.page_source, 'html.parser')\n",
    "    # Get the divs of the review\n",
    "    scraped_reviews = soup.find_all(class_=['comment__09f24__gu0rG css-qgunke'])\n",
    "    # Get the rating score and date div\n",
    "    div_tag = soup.find_all(\"div\", {'class':'review__09f24__oHr9V border-color--default__09f24__NPAKY'})\n",
    "\n",
    "    # Appending the scraped reviews into a list.\n",
    "    print(\"Scraping the reviews of page number:\",int(page_num/10))\n",
    "    for review in scraped_reviews:\n",
    "        reviews.append(review.get_text())\n",
    "    print('number of reviews after scraping page number:',int(page_num/10),' is:',len(reviews))\n",
    "    \n",
    "    print(\"Scraping ratings of page number:\",int(page_num/10))\n",
    "    for review in div_tag:\n",
    "        # For each review, find the rating span and extract the value\n",
    "        rating_span = review.find(\"span\", {'class':'display--inline__09f24__c6N_k border-color--default__09f24__NPAKY'}).div['aria-label']\n",
    "        ratings.append(rating_span)\n",
    "    print('number of ratings after scraping page number:',int(page_num/10),' is:',len(ratings))\n",
    "    \n",
    "    print(\"Scraping dates of page number:\",int(page_num/10))\n",
    "    for review in div_tag:\n",
    "        # For each review, find the span containing the date\n",
    "        date_span = review.find(\"span\", {'class':'css-chan6m'})\n",
    "        dates.append(date_span.get_text())\n",
    "    print('number of ratings after scraping page number:',int(page_num/10),' is:',len(dates), '\\n')"
   ]
  },
  {
   "cell_type": "code",
   "execution_count": 4,
   "id": "d32445d1",
   "metadata": {},
   "outputs": [],
   "source": [
    "# Create a dictionary\n",
    "review_and_rating = {'review': reviews, 'rating': ratings, 'date':dates}\n",
    "# Create a dataframe\n",
    "df = pd.DataFrame(data=review_and_rating)"
   ]
  },
  {
   "cell_type": "code",
   "execution_count": 5,
   "id": "c484f489",
   "metadata": {},
   "outputs": [],
   "source": [
    "# Export the scrape data to a csv file\n",
    "df.to_csv('review_ratings.csv', index=False, encoding='utf-8')"
   ]
  },
  {
   "cell_type": "code",
   "execution_count": 7,
   "id": "f6527f89",
   "metadata": {},
   "outputs": [],
   "source": [
    "df = pd.read_csv(\"review_ratings.csv\")"
   ]
  },
  {
   "cell_type": "code",
   "execution_count": 9,
   "id": "21ea3a4b",
   "metadata": {},
   "outputs": [
    {
     "data": {
      "text/plain": [
       "5 star rating    3048\n",
       "1 star rating    1146\n",
       "4 star rating     895\n",
       "3 star rating     481\n",
       "2 star rating     430\n",
       "Name: rating, dtype: int64"
      ]
     },
     "execution_count": 9,
     "metadata": {},
     "output_type": "execute_result"
    },
    {
     "data": {
      "image/png": "[encoded data removed]",
      "text/plain": [
       "<Figure size 640x480 with 1 Axes>"
      ]
     },
     "metadata": {},
     "output_type": "display_data"
    }
   ],
   "source": [
    "sns.countplot(x=df['rating'])\n",
    "df['rating'].value_counts()"
   ]
  },
  {
   "cell_type": "markdown",
   "id": "3a0ccdad",
   "metadata": {},
   "source": [
    "There is at least 1.5k in both positive (4 and 5 rating) and negative (1 and 2 rating) classes. No additional data needs to be scraped."
   ]
  }
 ],
 "metadata": {
  "kernelspec": {
   "display_name": "Python 3 (ipykernel)",
   "language": "python",
   "name": "python3"
  },
  "language_info": {
   "codemirror_mode": {
    "name": "ipython",
    "version": 3
   },
   "file_extension": ".py",
   "mimetype": "text/x-python",
   "name": "python",
   "nbconvert_exporter": "python",
   "pygments_lexer": "ipython3",
   "version": "3.9.13"
  }
 },
 "nbformat": 4,
 "nbformat_minor": 5
}
