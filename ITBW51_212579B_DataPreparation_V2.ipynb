{
 "cells": [
  {
   "cell_type": "markdown",
   "id": "e083ae09",
   "metadata": {},
   "source": [
    "# Data Prepartion on DisneyLand Dataset\n",
    "\n",
    "Whats different?\n",
    "1. Rather than removing words with more than 15 characters, I removed words that occurred only once in the dataframe. \n",
    "2. Added codes for topic modelling."
   ]
  },
  {
   "cell_type": "markdown",
   "id": "b100e44b",
   "metadata": {},
   "source": [
    "## Importing the Dataset"
   ]
  },
  {
   "cell_type": "code",
   "execution_count": 1,
   "id": "7c7636d2",
   "metadata": {},
   "outputs": [],
   "source": [
    "# Importing necessary libraries\n",
    "import pandas as pd\n",
    "import matplotlib.pyplot as plt\n",
    "import seaborn as sns\n",
    "import nltk\n",
    "import re"
   ]
  },
  {
   "cell_type": "code",
   "execution_count": 2,
   "id": "bdea1f28",
   "metadata": {},
   "outputs": [
    {
     "data": {
      "text/html": [
       "<div>\n",
       "<style scoped>\n",
       "    .dataframe tbody tr th:only-of-type {\n",
       "        vertical-align: middle;\n",
       "    }\n",
       "\n",
       "    .dataframe tbody tr th {\n",
       "        vertical-align: top;\n",
       "    }\n",
       "\n",
       "    .dataframe thead th {\n",
       "        text-align: right;\n",
       "    }\n",
       "</style>\n",
       "<table border=\"1\" class=\"dataframe\">\n",
       "  <thead>\n",
       "    <tr style=\"text-align: right;\">\n",
       "      <th></th>\n",
       "      <th>review</th>\n",
       "      <th>rating</th>\n",
       "      <th>date</th>\n",
       "    </tr>\n",
       "  </thead>\n",
       "  <tbody>\n",
       "    <tr>\n",
       "      <th>0</th>\n",
       "      <td>This place is definitely the happiest place on...</td>\n",
       "      <td>5 star rating</td>\n",
       "      <td>12/26/2022</td>\n",
       "    </tr>\n",
       "    <tr>\n",
       "      <th>1</th>\n",
       "      <td>Disneyland is great for the themes and nostalg...</td>\n",
       "      <td>4 star rating</td>\n",
       "      <td>1/8/2023</td>\n",
       "    </tr>\n",
       "    <tr>\n",
       "      <th>2</th>\n",
       "      <td>Price range: ridiculously high To consider: lo...</td>\n",
       "      <td>2 star rating</td>\n",
       "      <td>1/10/2023</td>\n",
       "    </tr>\n",
       "    <tr>\n",
       "      <th>3</th>\n",
       "      <td>The Mickey Mouse Salted Pretzel from the Coca ...</td>\n",
       "      <td>1 star rating</td>\n",
       "      <td>1/10/2023</td>\n",
       "    </tr>\n",
       "    <tr>\n",
       "      <th>4</th>\n",
       "      <td>Nicole, Blonde girl, pirates of the Caribbean ...</td>\n",
       "      <td>1 star rating</td>\n",
       "      <td>1/9/2023</td>\n",
       "    </tr>\n",
       "  </tbody>\n",
       "</table>\n",
       "</div>"
      ],
      "text/plain": [
       "                                              review         rating  \\\n",
       "0  This place is definitely the happiest place on...  5 star rating   \n",
       "1  Disneyland is great for the themes and nostalg...  4 star rating   \n",
       "2  Price range: ridiculously high To consider: lo...  2 star rating   \n",
       "3  The Mickey Mouse Salted Pretzel from the Coca ...  1 star rating   \n",
       "4  Nicole, Blonde girl, pirates of the Caribbean ...  1 star rating   \n",
       "\n",
       "         date  \n",
       "0  12/26/2022  \n",
       "1    1/8/2023  \n",
       "2   1/10/2023  \n",
       "3   1/10/2023  \n",
       "4    1/9/2023  "
      ]
     },
     "execution_count": 2,
     "metadata": {},
     "output_type": "execute_result"
    }
   ],
   "source": [
    "# Importing the scrape dataset\n",
    "df = pd.DataFrame(pd.read_csv(\"merged_reviews.csv\"))\n",
    "df.head()"
   ]
  },
  {
   "cell_type": "markdown",
   "id": "2ccaa8fe",
   "metadata": {},
   "source": [
    "## Data Understanding and Preparation"
   ]
  },
  {
   "cell_type": "code",
   "execution_count": 3,
   "id": "5e75b513",
   "metadata": {},
   "outputs": [
    {
     "name": "stdout",
     "output_type": "stream",
     "text": [
      "Number of records in the dataframe: 31800\n",
      "Columns in the dataframe: ['review', 'rating', 'date']\n"
     ]
    }
   ],
   "source": [
    "print(\"Number of records in the dataframe:\",df.shape[0])\n",
    "print(\"Columns in the dataframe:\",list(df.columns))"
   ]
  },
  {
   "cell_type": "code",
   "execution_count": 4,
   "id": "db22c3ea",
   "metadata": {},
   "outputs": [
    {
     "name": "stdout",
     "output_type": "stream",
     "text": [
      "Null values in the dataframe:\n"
     ]
    },
    {
     "data": {
      "text/plain": [
       "review      0\n",
       "rating      0\n",
       "date      402\n",
       "dtype: int64"
      ]
     },
     "execution_count": 4,
     "metadata": {},
     "output_type": "execute_result"
    }
   ],
   "source": [
    "# Checking for any null values in the dataframe\n",
    "print(\"Null values in the dataframe:\")\n",
    "df.isna().sum()"
   ]
  },
  {
   "cell_type": "markdown",
   "id": "dcb0a5b9",
   "metadata": {},
   "source": [
    "There are no null values in the review or rating column. "
   ]
  },
  {
   "cell_type": "markdown",
   "id": "1a881dca",
   "metadata": {},
   "source": [
    "### Data Preparation - Duplicated Records"
   ]
  },
  {
   "cell_type": "code",
   "execution_count": 5,
   "id": "71b9562e",
   "metadata": {},
   "outputs": [
    {
     "data": {
      "text/html": [
       "<div>\n",
       "<style scoped>\n",
       "    .dataframe tbody tr th:only-of-type {\n",
       "        vertical-align: middle;\n",
       "    }\n",
       "\n",
       "    .dataframe tbody tr th {\n",
       "        vertical-align: top;\n",
       "    }\n",
       "\n",
       "    .dataframe thead th {\n",
       "        text-align: right;\n",
       "    }\n",
       "</style>\n",
       "<table border=\"1\" class=\"dataframe\">\n",
       "  <thead>\n",
       "    <tr style=\"text-align: right;\">\n",
       "      <th></th>\n",
       "      <th>review</th>\n",
       "      <th>rating</th>\n",
       "      <th>date</th>\n",
       "    </tr>\n",
       "  </thead>\n",
       "  <tbody>\n",
       "    <tr>\n",
       "      <th>4441</th>\n",
       "      <td>Disney World might be larger, but Disneyland w...</td>\n",
       "      <td>5 star rating</td>\n",
       "      <td>6/19/2016</td>\n",
       "    </tr>\n",
       "    <tr>\n",
       "      <th>6134</th>\n",
       "      <td>How far Disneyland has fallen over time!! I gr...</td>\n",
       "      <td>2</td>\n",
       "      <td>Jul 2022</td>\n",
       "    </tr>\n",
       "    <tr>\n",
       "      <th>6268</th>\n",
       "      <td>Usually don’t  review something as big as Disn...</td>\n",
       "      <td>2</td>\n",
       "      <td>NaN</td>\n",
       "    </tr>\n",
       "    <tr>\n",
       "      <th>6984</th>\n",
       "      <td>My autistic son was at Disneyland today and wa...</td>\n",
       "      <td>1</td>\n",
       "      <td>Aug 2019 • Family</td>\n",
       "    </tr>\n",
       "    <tr>\n",
       "      <th>7038</th>\n",
       "      <td>I went here for a week with my brother. What a...</td>\n",
       "      <td>5</td>\n",
       "      <td>Jul 2019 • Family</td>\n",
       "    </tr>\n",
       "    <tr>\n",
       "      <th>...</th>\n",
       "      <td>...</td>\n",
       "      <td>...</td>\n",
       "      <td>...</td>\n",
       "    </tr>\n",
       "    <tr>\n",
       "      <th>29349</th>\n",
       "      <td>I had no expectations of trip to Disneyland be...</td>\n",
       "      <td>5/5</td>\n",
       "      <td>5 years ago on  Google</td>\n",
       "    </tr>\n",
       "    <tr>\n",
       "      <th>29872</th>\n",
       "      <td>My family and I are huge Disney fans, but afte...</td>\n",
       "      <td>1/5</td>\n",
       "      <td>6 years ago on  Google</td>\n",
       "    </tr>\n",
       "    <tr>\n",
       "      <th>31059</th>\n",
       "      <td>We have been having such a hard time this year...</td>\n",
       "      <td>1/5</td>\n",
       "      <td>7 years ago on  Google</td>\n",
       "    </tr>\n",
       "    <tr>\n",
       "      <th>31273</th>\n",
       "      <td>It's Disneyland! What can I say that you don't...</td>\n",
       "      <td>5/5</td>\n",
       "      <td>6 years ago on  Google</td>\n",
       "    </tr>\n",
       "    <tr>\n",
       "      <th>31286</th>\n",
       "      <td>I’ve been to Disneyland Hong Kong, Tokyo and D...</td>\n",
       "      <td>5/5</td>\n",
       "      <td>4 years ago on  Google</td>\n",
       "    </tr>\n",
       "  </tbody>\n",
       "</table>\n",
       "<p>65 rows × 3 columns</p>\n",
       "</div>"
      ],
      "text/plain": [
       "                                                  review         rating  \\\n",
       "4441   Disney World might be larger, but Disneyland w...  5 star rating   \n",
       "6134   How far Disneyland has fallen over time!! I gr...              2   \n",
       "6268   Usually don’t  review something as big as Disn...              2   \n",
       "6984   My autistic son was at Disneyland today and wa...              1   \n",
       "7038   I went here for a week with my brother. What a...              5   \n",
       "...                                                  ...            ...   \n",
       "29349  I had no expectations of trip to Disneyland be...            5/5   \n",
       "29872  My family and I are huge Disney fans, but afte...            1/5   \n",
       "31059  We have been having such a hard time this year...            1/5   \n",
       "31273  It's Disneyland! What can I say that you don't...            5/5   \n",
       "31286  I’ve been to Disneyland Hong Kong, Tokyo and D...            5/5   \n",
       "\n",
       "                         date  \n",
       "4441                6/19/2016  \n",
       "6134                 Jul 2022  \n",
       "6268                      NaN  \n",
       "6984        Aug 2019 • Family  \n",
       "7038        Jul 2019 • Family  \n",
       "...                       ...  \n",
       "29349  5 years ago on  Google  \n",
       "29872  6 years ago on  Google  \n",
       "31059  7 years ago on  Google  \n",
       "31273  6 years ago on  Google  \n",
       "31286  4 years ago on  Google  \n",
       "\n",
       "[65 rows x 3 columns]"
      ]
     },
     "execution_count": 5,
     "metadata": {},
     "output_type": "execute_result"
    }
   ],
   "source": [
    "df[df.review.duplicated()]"
   ]
  },
  {
   "cell_type": "markdown",
   "id": "cbab6852",
   "metadata": {},
   "source": [
    "From this dataframe, the duplicated texts are quite long and highly unlikely that it was an original review. \n",
    "\n",
    "Therefore, I will remove duplicated reviews to reduce the dimension of the dataframe.\n",
    "\n",
    "Additionally, there are some difference in the format of the rating and date. The format of these data need to be formatted properly for analysis."
   ]
  },
  {
   "cell_type": "code",
   "execution_count": 6,
   "id": "6622a896",
   "metadata": {},
   "outputs": [
    {
     "name": "stdout",
     "output_type": "stream",
     "text": [
      "Percentage of duplicates in the dataframe: 0.20440251572327045 %\n"
     ]
    }
   ],
   "source": [
    "print(\"Percentage of duplicates in the dataframe:\",(len(df[df.review.duplicated()])/df.shape[0])*100,\"%\")"
   ]
  },
  {
   "cell_type": "markdown",
   "id": "8ffab748",
   "metadata": {},
   "source": [
    "The total percentage of duplicates in the dataframe contribute only 0.20% of the dataframe. Since there are so little duplicates and dropping the duplicates would barely affect the dataframe's size, I decided that the best approach to handling duplicates would be to drop them"
   ]
  },
  {
   "cell_type": "code",
   "execution_count": 7,
   "id": "b64552db",
   "metadata": {},
   "outputs": [
    {
     "name": "stdout",
     "output_type": "stream",
     "text": [
      "Number of records before dropping duplicate: 31800\n",
      "Number of records after dropping duplicate: 31735\n"
     ]
    }
   ],
   "source": [
    "print(\"Number of records before dropping duplicate:\",df.shape[0])\n",
    "df = df.drop_duplicates(subset='review')\n",
    "print(\"Number of records after dropping duplicate:\",df.shape[0])"
   ]
  },
  {
   "cell_type": "code",
   "execution_count": 8,
   "id": "d171f218",
   "metadata": {},
   "outputs": [],
   "source": [
    "# Resetting the index of the dataframe after removing duplicates\n",
    "df = df.reset_index(drop=True)"
   ]
  },
  {
   "cell_type": "markdown",
   "id": "c504157e",
   "metadata": {},
   "source": [
    "### Data Understanding - Rating\n",
    "\n",
    "Extract the given rating from the different rating formats"
   ]
  },
  {
   "cell_type": "code",
   "execution_count": 9,
   "id": "97763a60",
   "metadata": {},
   "outputs": [
    {
     "name": "stdout",
     "output_type": "stream",
     "text": [
      "['5 star rating', '4 star rating', '2 star rating', '1 star rating', '3 star rating', '5', '4', '3', '1', '2', '5/5', '4/5', '3/5', '1/5', '2/5']\n"
     ]
    }
   ],
   "source": [
    "print(list(df['rating'].unique()))"
   ]
  },
  {
   "cell_type": "code",
   "execution_count": 10,
   "id": "2672c565",
   "metadata": {},
   "outputs": [],
   "source": [
    "# Extract the ratings\n",
    "def extract_rating(rating_string):\n",
    "    if \"star\" in rating_string:\n",
    "        # Extract the index 0 which will always be the rating.\n",
    "        return int(rating_string.split(\" \")[0])\n",
    "    else:\n",
    "        return int(rating_string.split(\"/\")[0])\n",
    "    \n",
    "extracted_ratings = [extract_rating(rating) for rating in df['rating']]"
   ]
  },
  {
   "cell_type": "code",
   "execution_count": 11,
   "id": "89c98d6f",
   "metadata": {},
   "outputs": [],
   "source": [
    "df['rating'] = extracted_ratings"
   ]
  },
  {
   "cell_type": "code",
   "execution_count": 12,
   "id": "7dffa9cd",
   "metadata": {},
   "outputs": [
    {
     "data": {
      "text/html": [
       "<div>\n",
       "<style scoped>\n",
       "    .dataframe tbody tr th:only-of-type {\n",
       "        vertical-align: middle;\n",
       "    }\n",
       "\n",
       "    .dataframe tbody tr th {\n",
       "        vertical-align: top;\n",
       "    }\n",
       "\n",
       "    .dataframe thead th {\n",
       "        text-align: right;\n",
       "    }\n",
       "</style>\n",
       "<table border=\"1\" class=\"dataframe\">\n",
       "  <thead>\n",
       "    <tr style=\"text-align: right;\">\n",
       "      <th></th>\n",
       "      <th>review</th>\n",
       "      <th>rating</th>\n",
       "      <th>date</th>\n",
       "    </tr>\n",
       "  </thead>\n",
       "  <tbody>\n",
       "    <tr>\n",
       "      <th>0</th>\n",
       "      <td>This place is definitely the happiest place on...</td>\n",
       "      <td>5</td>\n",
       "      <td>12/26/2022</td>\n",
       "    </tr>\n",
       "    <tr>\n",
       "      <th>1</th>\n",
       "      <td>Disneyland is great for the themes and nostalg...</td>\n",
       "      <td>4</td>\n",
       "      <td>1/8/2023</td>\n",
       "    </tr>\n",
       "    <tr>\n",
       "      <th>2</th>\n",
       "      <td>Price range: ridiculously high To consider: lo...</td>\n",
       "      <td>2</td>\n",
       "      <td>1/10/2023</td>\n",
       "    </tr>\n",
       "    <tr>\n",
       "      <th>3</th>\n",
       "      <td>The Mickey Mouse Salted Pretzel from the Coca ...</td>\n",
       "      <td>1</td>\n",
       "      <td>1/10/2023</td>\n",
       "    </tr>\n",
       "    <tr>\n",
       "      <th>4</th>\n",
       "      <td>Nicole, Blonde girl, pirates of the Caribbean ...</td>\n",
       "      <td>1</td>\n",
       "      <td>1/9/2023</td>\n",
       "    </tr>\n",
       "  </tbody>\n",
       "</table>\n",
       "</div>"
      ],
      "text/plain": [
       "                                              review  rating        date\n",
       "0  This place is definitely the happiest place on...       5  12/26/2022\n",
       "1  Disneyland is great for the themes and nostalg...       4    1/8/2023\n",
       "2  Price range: ridiculously high To consider: lo...       2   1/10/2023\n",
       "3  The Mickey Mouse Salted Pretzel from the Coca ...       1   1/10/2023\n",
       "4  Nicole, Blonde girl, pirates of the Caribbean ...       1    1/9/2023"
      ]
     },
     "execution_count": 12,
     "metadata": {},
     "output_type": "execute_result"
    }
   ],
   "source": [
    "df.head()"
   ]
  },
  {
   "cell_type": "code",
   "execution_count": 13,
   "id": "eecc597c",
   "metadata": {},
   "outputs": [
    {
     "name": "stdout",
     "output_type": "stream",
     "text": [
      "Types of rating: [5, 4, 2, 1, 3]\n"
     ]
    }
   ],
   "source": [
    "print(\"Types of rating:\",list(df.rating.unique()))"
   ]
  },
  {
   "cell_type": "markdown",
   "id": "be4b2c82",
   "metadata": {},
   "source": [
    "### Data Preparation - Converting Rating to Sentiment\n",
    "\n",
    "I assign records with 1 or 2 stars as 'negative', while 4 and 5 stars as 'positive'.\n",
    "\n",
    "As for texts with a star rating of 3, I assume that the text is neutral; the text may contain either both positive and negative sentiments or none. Since I'm interested in classifying texts into positive or negative classes only so that the business is able to know their customer's sentiment toward their product or service without a grey area (neutral ratings), I will remove records with 3 stars."
   ]
  },
  {
   "cell_type": "code",
   "execution_count": 14,
   "id": "977e421f",
   "metadata": {},
   "outputs": [],
   "source": [
    "# Removing star rating of 3 because it is neutral\n",
    "df = df[df.rating!=3]"
   ]
  },
  {
   "cell_type": "code",
   "execution_count": 15,
   "id": "d8aa9eb3",
   "metadata": {},
   "outputs": [],
   "source": [
    "df = df.reset_index(drop=True)"
   ]
  },
  {
   "cell_type": "code",
   "execution_count": 16,
   "id": "f7fb9863",
   "metadata": {
    "scrolled": true
   },
   "outputs": [],
   "source": [
    "# Machine Learning Models can not work on categorical variables in the form of strings, \n",
    "# so we need to change it into numerical form.\n",
    "df['sentiment'] = df.rating.apply(lambda x: 1 if x >= 4 else 0)\n",
    "df = df.drop(columns='rating')"
   ]
  },
  {
   "cell_type": "code",
   "execution_count": 17,
   "id": "d9c05fb5",
   "metadata": {},
   "outputs": [
    {
     "data": {
      "text/html": [
       "<div>\n",
       "<style scoped>\n",
       "    .dataframe tbody tr th:only-of-type {\n",
       "        vertical-align: middle;\n",
       "    }\n",
       "\n",
       "    .dataframe tbody tr th {\n",
       "        vertical-align: top;\n",
       "    }\n",
       "\n",
       "    .dataframe thead th {\n",
       "        text-align: right;\n",
       "    }\n",
       "</style>\n",
       "<table border=\"1\" class=\"dataframe\">\n",
       "  <thead>\n",
       "    <tr style=\"text-align: right;\">\n",
       "      <th></th>\n",
       "      <th>review</th>\n",
       "      <th>date</th>\n",
       "      <th>sentiment</th>\n",
       "    </tr>\n",
       "  </thead>\n",
       "  <tbody>\n",
       "    <tr>\n",
       "      <th>0</th>\n",
       "      <td>This place is definitely the happiest place on...</td>\n",
       "      <td>12/26/2022</td>\n",
       "      <td>1</td>\n",
       "    </tr>\n",
       "    <tr>\n",
       "      <th>1</th>\n",
       "      <td>Disneyland is great for the themes and nostalg...</td>\n",
       "      <td>1/8/2023</td>\n",
       "      <td>1</td>\n",
       "    </tr>\n",
       "    <tr>\n",
       "      <th>2</th>\n",
       "      <td>Price range: ridiculously high To consider: lo...</td>\n",
       "      <td>1/10/2023</td>\n",
       "      <td>0</td>\n",
       "    </tr>\n",
       "    <tr>\n",
       "      <th>3</th>\n",
       "      <td>The Mickey Mouse Salted Pretzel from the Coca ...</td>\n",
       "      <td>1/10/2023</td>\n",
       "      <td>0</td>\n",
       "    </tr>\n",
       "    <tr>\n",
       "      <th>4</th>\n",
       "      <td>Nicole, Blonde girl, pirates of the Caribbean ...</td>\n",
       "      <td>1/9/2023</td>\n",
       "      <td>0</td>\n",
       "    </tr>\n",
       "  </tbody>\n",
       "</table>\n",
       "</div>"
      ],
      "text/plain": [
       "                                              review        date  sentiment\n",
       "0  This place is definitely the happiest place on...  12/26/2022          1\n",
       "1  Disneyland is great for the themes and nostalg...    1/8/2023          1\n",
       "2  Price range: ridiculously high To consider: lo...   1/10/2023          0\n",
       "3  The Mickey Mouse Salted Pretzel from the Coca ...   1/10/2023          0\n",
       "4  Nicole, Blonde girl, pirates of the Caribbean ...    1/9/2023          0"
      ]
     },
     "execution_count": 17,
     "metadata": {},
     "output_type": "execute_result"
    }
   ],
   "source": [
    "df.head()"
   ]
  },
  {
   "cell_type": "code",
   "execution_count": 18,
   "id": "d5e796e6",
   "metadata": {},
   "outputs": [
    {
     "name": "stdout",
     "output_type": "stream",
     "text": [
      "Looking at the distribution of classes in the target column:\n",
      "1 represents positive, 0 represents negative.\n",
      "Total records: 28947\n"
     ]
    },
    {
     "data": {
      "text/html": [
       "<div>\n",
       "<style scoped>\n",
       "    .dataframe tbody tr th:only-of-type {\n",
       "        vertical-align: middle;\n",
       "    }\n",
       "\n",
       "    .dataframe tbody tr th {\n",
       "        vertical-align: top;\n",
       "    }\n",
       "\n",
       "    .dataframe thead th {\n",
       "        text-align: right;\n",
       "    }\n",
       "</style>\n",
       "<table border=\"1\" class=\"dataframe\">\n",
       "  <thead>\n",
       "    <tr style=\"text-align: right;\">\n",
       "      <th></th>\n",
       "      <th>occurrences</th>\n",
       "      <th>occurrences (%)</th>\n",
       "    </tr>\n",
       "  </thead>\n",
       "  <tbody>\n",
       "    <tr>\n",
       "      <th>1</th>\n",
       "      <td>24556</td>\n",
       "      <td>84.83%</td>\n",
       "    </tr>\n",
       "    <tr>\n",
       "      <th>0</th>\n",
       "      <td>4391</td>\n",
       "      <td>15.17%</td>\n",
       "    </tr>\n",
       "  </tbody>\n",
       "</table>\n",
       "</div>"
      ],
      "text/plain": [
       "   occurrences occurrences (%)\n",
       "1        24556          84.83%\n",
       "0         4391          15.17%"
      ]
     },
     "metadata": {},
     "output_type": "display_data"
    },
    {
     "data": {
      "image/png": "[encoded data removed]",
      "text/plain": [
       "<Figure size 1400x600 with 1 Axes>"
      ]
     },
     "metadata": {},
     "output_type": "display_data"
    }
   ],
   "source": [
    "print(\"Looking at the distribution of classes in the target column:\")\n",
    "print(\"1 represents positive, 0 represents negative.\")\n",
    "\n",
    "# Checking the distribution of the stars\n",
    "sentiments = pd.DataFrame({'occurrences': df['sentiment'].value_counts(),\n",
    "                      'occurrences (%)': [str(round((x/len(df)*100), 2))+\"%\" for x in df['sentiment'].value_counts()]})\n",
    "print(\"Total records:\", sum(sentiments['occurrences']))\n",
    "display(sentiments)\n",
    "\n",
    "labels = round((df['sentiment'].value_counts()/len(df)*100),2)\n",
    "sizes = round((df['sentiment'].value_counts()/len(df)*100),2)\n",
    "color = ['palegreen', 'lightcoral']\n",
    "(df['sentiment'].value_counts()/len(df)*100).plot(kind='pie', figsize=(14,6), colors=color, autopct = '%1.1f%%')\n",
    "plt.legend(labels, loc=\"best\")\n",
    "plt.tight_layout()\n",
    "plt.show()"
   ]
  },
  {
   "cell_type": "markdown",
   "id": "c6b57d32",
   "metadata": {},
   "source": [
    "The ratio of positive to negative is quite unbalanced of 85%:15% respectively. The data is heavily unbalanced. Therefore, data balancing is required later."
   ]
  },
  {
   "cell_type": "markdown",
   "id": "01dfc096",
   "metadata": {},
   "source": [
    "### Data Understanding - Spread of Reviews across Date\n",
    "\n",
    "The date column will not be used for sentiment analysis. However, I would like to analyze the trend of reviews over the year."
   ]
  },
  {
   "cell_type": "code",
   "execution_count": 19,
   "id": "c61cbabf",
   "metadata": {},
   "outputs": [
    {
     "name": "stdout",
     "output_type": "stream",
     "text": [
      "Number of null dates: 352\n"
     ]
    }
   ],
   "source": [
    "print(\"Number of null dates:\",df['date'].isna().sum())"
   ]
  },
  {
   "cell_type": "code",
   "execution_count": 20,
   "id": "10222500",
   "metadata": {},
   "outputs": [],
   "source": [
    "# Since I'm only analyzing the date, I will drop those NA values so that it will not affect the original date spread.\n",
    "# I will also store it in a secondary dataframe for analysis so that the original records will be maintained.\n",
    "df_date = pd.DataFrame(df['date'].dropna())"
   ]
  },
  {
   "cell_type": "code",
   "execution_count": 21,
   "id": "e83e5c13",
   "metadata": {},
   "outputs": [
    {
     "data": {
      "text/plain": [
       "28595"
      ]
     },
     "execution_count": 21,
     "metadata": {},
     "output_type": "execute_result"
    }
   ],
   "source": [
    "df_date.shape[0]"
   ]
  },
  {
   "cell_type": "markdown",
   "id": "5084bf9e",
   "metadata": {},
   "source": [
    "As identified earlier when looking at the duplicates, the dates are stored in different formats such as:\n",
    "```\n",
    "['6/19/2016', 'Jul 2022', 'NaN', 'Aug 2019 • Family', '5 years ago on Google']\n",
    "```\n",
    "In order to analyse the trend of reviews, I need to extract their years."
   ]
  },
  {
   "cell_type": "markdown",
   "id": "bf74f2f8",
   "metadata": {},
   "source": [
    "### Performing simple review count trend analysis"
   ]
  },
  {
   "cell_type": "code",
   "execution_count": 22,
   "id": "99859648",
   "metadata": {},
   "outputs": [],
   "source": [
    "# Code to clean the dates\n",
    "import datetime\n",
    "\n",
    "def extract_year(date_string):\n",
    "    if \"ago\" in str(date_string):\n",
    "        date_parts = date_string.split(\" \")\n",
    "        now = datetime.datetime.now()\n",
    "        if \"year\" in date_parts[1]:\n",
    "            if 'a' in str(date_parts[0]):\n",
    "                years_ago = 1\n",
    "            else:\n",
    "                years_ago = int(date_parts[0])\n",
    "            extracted_year = now.year - years_ago\n",
    "        elif \"month\" in date_parts[1]:\n",
    "            if \"a\" in date_parts[0]:\n",
    "                months_ago = 1\n",
    "            else:\n",
    "                months_ago = int(date_parts[0])\n",
    "            extracted_year = now.year - (months_ago // 12)\n",
    "        elif \"week\" in date_parts[1]:\n",
    "            if \"a\" in date_parts[0]:\n",
    "                weeks_ago = 1\n",
    "            else:\n",
    "                weeks_ago = int(date_parts[0])\n",
    "            extracted_year = now.year - (weeks_ago // 52)\n",
    "        elif \"day\" in date_parts[1]:\n",
    "            extracted_year = now.year\n",
    "        else:\n",
    "            extracted_year = date_string\n",
    "    else:\n",
    "        # Separate extraction of year\n",
    "        extracted_year = date_string\n",
    "\n",
    "    return extracted_year"
   ]
  },
  {
   "cell_type": "code",
   "execution_count": 23,
   "id": "194868e0",
   "metadata": {},
   "outputs": [],
   "source": [
    "# Extract the year from dates formatted as \"3 years ago on Google\" etc.\n",
    "yearss = [extract_year(date) for date in df_date['date']]"
   ]
  },
  {
   "cell_type": "code",
   "execution_count": 24,
   "id": "1fb8e58f",
   "metadata": {},
   "outputs": [],
   "source": [
    "# extracting all years\n",
    "years = [re.search(\"20\\w\\w\", str(date)).group() if len(re.findall(\"20\\w\\w\", str(date)))>0 else 0 for date in yearss]"
   ]
  },
  {
   "cell_type": "code",
   "execution_count": 25,
   "id": "23e32537",
   "metadata": {},
   "outputs": [],
   "source": [
    "# Store the cleaned years\n",
    "df_date['dates'] = years"
   ]
  },
  {
   "cell_type": "code",
   "execution_count": 26,
   "id": "ddd7d849",
   "metadata": {},
   "outputs": [
    {
     "data": {
      "text/plain": [
       "array(['2022', '2023', '2021', '2020', '2019', '2018', '2017', '2016',\n",
       "       '2015', '2014', '2013', '2011', '2009', '2012', '2010', '2008',\n",
       "       '2007', '2006'], dtype=object)"
      ]
     },
     "execution_count": 26,
     "metadata": {},
     "output_type": "execute_result"
    }
   ],
   "source": [
    "df_date.dates.unique()"
   ]
  },
  {
   "cell_type": "code",
   "execution_count": 27,
   "id": "39021439",
   "metadata": {},
   "outputs": [],
   "source": [
    "# The dates are stored as string as evident in the code above.\n",
    "\n",
    "# Convert the dates column to integer datatype\n",
    "df_date.dates = df_date.dates.astype('int')"
   ]
  },
  {
   "cell_type": "code",
   "execution_count": 28,
   "id": "32fdfa42",
   "metadata": {},
   "outputs": [],
   "source": [
    "# I'd like to only analyze the trend over the past decade. Therefore, I only look at years from 2014 onward.\n",
    "df_date = df_date[df_date.dates>=2014]"
   ]
  },
  {
   "cell_type": "code",
   "execution_count": 29,
   "id": "725db413",
   "metadata": {},
   "outputs": [
    {
     "data": {
      "image/png": "[encoded data removed]",
      "text/plain": [
       "<Figure size 640x480 with 1 Axes>"
      ]
     },
     "metadata": {},
     "output_type": "display_data"
    }
   ],
   "source": [
    "# Trend of reviews over the years from 2006 to 2023.\n",
    "sns.set_theme(style=\"whitegrid\")\n",
    "sns.countplot(x=df_date['dates'], color='green')\n",
    "plt.xticks(rotation=90)\n",
    "plt.show()"
   ]
  },
  {
   "cell_type": "markdown",
   "id": "72238c9b",
   "metadata": {},
   "source": [
    "Evidently, the number of ratings dropped due to the Pandemic, reflecting that less people visited DisneyLand after the Pandemimc in 2019. \n",
    "\n",
    "However, before the Pandemic, the number of reviews has already started to drop. There are 2 possible reasons for the drop:\n",
    "1. People are still attending DisneyLand but not writing reviews.\n",
    "2. People are not attending DisneyLand as frequently as before, thus less reviewers.\n",
    "\n",
    "Therefore, Disneyland would like to analyse the customer's experience and identify areas of improvement."
   ]
  },
  {
   "cell_type": "markdown",
   "id": "66307493",
   "metadata": {},
   "source": [
    "### Data Understanding - Checking Word and Word Length Distribution"
   ]
  },
  {
   "cell_type": "code",
   "execution_count": 30,
   "id": "9d3d7345",
   "metadata": {},
   "outputs": [],
   "source": [
    "# Store reviews in a variable\n",
    "reviews = [review.lower() for review in df['review']]"
   ]
  },
  {
   "cell_type": "code",
   "execution_count": 31,
   "id": "cc51699a",
   "metadata": {},
   "outputs": [],
   "source": [
    "# Tokenize the words to generate frequency of words.\n",
    "from nltk.tokenize import word_tokenize\n",
    "tokenized_words = [word_tokenize(review) for review in reviews]\n",
    "\n",
    "# Get the word lengths\n",
    "word_lengths = []\n",
    "\n",
    "# Get the tokenized words\n",
    "tokenized_word_list = []\n",
    "\n",
    "for word_lists in tokenized_words:\n",
    "    for word in word_lists:\n",
    "        word_lengths.append(len(word))\n",
    "        tokenized_word_list.append(word)"
   ]
  },
  {
   "cell_type": "code",
   "execution_count": 32,
   "id": "17c3f2e4",
   "metadata": {},
   "outputs": [
    {
     "data": {
      "image/png": "[encoded data removed]",
      "text/plain": [
       "<Figure size 640x480 with 1 Axes>"
      ]
     },
     "metadata": {},
     "output_type": "display_data"
    }
   ],
   "source": [
    "# Generate frequency for all the words\n",
    "freq_dist = nltk.FreqDist(word_lengths)\n",
    "\n",
    "# Visualizing \n",
    "word_length_frequency_dict = dict([(k,v) for k,v in freq_dist.items()])\n",
    "\n",
    "# create frequency distribution of the filtered words\n",
    "freq_dist = nltk.FreqDist(word_length_frequency_dict)\n",
    "\n",
    "# plot the frequency distribution of the top 50 words\n",
    "freq_dist.plot(15, cumulative=False)\n",
    "plt.show()"
   ]
  },
  {
   "cell_type": "code",
   "execution_count": 33,
   "id": "fc093ba3",
   "metadata": {},
   "outputs": [
    {
     "name": "stdout",
     "output_type": "stream",
     "text": [
      "First 10 odd words in the list: ['front-of-the-line', 'again.disneyland', 'experiences.spending', 'halloween.luckily', 'not-so-happiest-place', 'hyper-aggressive', 'tp-breaks-off-at-each-square', 'communication/customer', 'experience.recommend', 'restaurants/menus']\n"
     ]
    }
   ],
   "source": [
    "# Look at word lengths of more than 15 where the curve is flat.\n",
    "\n",
    "odd_lengths = [words for words in tokenized_word_list if len(words)>15]\n",
    "\n",
    "print(\"First 10 odd words in the list:\",odd_lengths[:10])"
   ]
  },
  {
   "cell_type": "markdown",
   "id": "3df03486",
   "metadata": {},
   "source": [
    "Seems like most of the words with lengths above 15 just have punctuations between them. I will add space to separate them."
   ]
  },
  {
   "cell_type": "code",
   "execution_count": 34,
   "id": "4e02f997",
   "metadata": {},
   "outputs": [
    {
     "name": "stdout",
     "output_type": "stream",
     "text": [
      "First 10 words with '.com' in the list: ['youtube.com/c/wackycalif…', 'disneyland.comgetting', 'disney.com', 'me.come', 'disneyland.disney.go.com…to', 'youtube.com/watch', 'youtube.com/watch', 'youtube.com/watch', 'it.coming', 'yelp.com/biz/tiki-juice-…']\n"
     ]
    }
   ],
   "source": [
    "# Checking for any links that have a domain of .com\n",
    "\n",
    "links = [words for words in tokenized_word_list if \".com\" in words]\n",
    "\n",
    "print(\"First 10 words with '.com' in the list:\",links[:10])"
   ]
  },
  {
   "cell_type": "markdown",
   "id": "bfb7d2be",
   "metadata": {},
   "source": [
    "Links contain .com and slashes, while words contain more than just '.com' such as '.coming'"
   ]
  },
  {
   "cell_type": "code",
   "execution_count": 35,
   "id": "404f7e2e",
   "metadata": {},
   "outputs": [
    {
     "name": "stdout",
     "output_type": "stream",
     "text": [
      "First 10 links in the list: ['//', '//', 'note/////', '//www.isitpacked.com/live-crowd-trackers/disneyland/avoid', '//www.citystrollerrentals.com/disneyland-stroller-rentals.html', '//dlrprepschool.com/a-fastpass-guide-for-disneyland-and-california-adventure/', '//www.disneytouristblog.com/', '//disneyland.disney.go.com/guest-services/fastpass/there', '//www.dlandlive.com/closures/', '//www.undercovertourist.com/blog/best-time-visit-disneyland/']\n"
     ]
    }
   ],
   "source": [
    "# Checking for slashed links\n",
    "\n",
    "links = [words for words in tokenized_word_list if \"//\" in words]\n",
    "\n",
    "print(\"First 10 links in the list:\",links[:10])"
   ]
  },
  {
   "cell_type": "markdown",
   "id": "fb4796ba",
   "metadata": {},
   "source": [
    "Seems like the odd length words are mostly because the customer did not put spaces inbetween punctuations. This will need to be fixed later."
   ]
  },
  {
   "cell_type": "code",
   "execution_count": 36,
   "id": "a23ba318",
   "metadata": {},
   "outputs": [
    {
     "data": {
      "image/png": "[encoded data removed]",
      "text/plain": [
       "<Figure size 640x480 with 1 Axes>"
      ]
     },
     "metadata": {},
     "output_type": "display_data"
    },
    {
     "data": {
      "image/png": "[encoded data removed]",
      "text/plain": [
       "<Figure size 640x480 with 1 Axes>"
      ]
     },
     "metadata": {},
     "output_type": "display_data"
    }
   ],
   "source": [
    "# Generate frequency for all the words\n",
    "freq_dist = nltk.FreqDist(tokenized_word_list)\n",
    "\n",
    "# Visualizing \n",
    "words = dict([(k,v) for k,v in freq_dist.items()])\n",
    "\n",
    "# create frequency distribution of the filtered words\n",
    "freq_dist = nltk.FreqDist(words)\n",
    "\n",
    "# build wordcloud\n",
    "from wordcloud import WordCloud\n",
    "wcloud = WordCloud(max_font_size=50, max_words=50, background_color=\"white\").generate_from_frequencies(freq_dist)\n",
    "\n",
    "# plot the wordcloud\n",
    "import matplotlib.pyplot as plt\n",
    "plt.imshow(wcloud, interpolation='bilinear')\n",
    "plt.axis('off')\n",
    "plt.show()\n",
    "\n",
    "# plot the frequency distribution of the top 50 words\n",
    "freq_dist.plot(40, cumulative=False)\n",
    "plt.show()"
   ]
  },
  {
   "cell_type": "markdown",
   "id": "3349c920",
   "metadata": {},
   "source": [
    "Words that have a large font size occur more frequently in the dataframe.\n",
    "\n",
    "Based on the word cloud, most of the frequently occuring words are stopwords and punctuations such as 'the' and fullstops.\n",
    "\n",
    "There are also some common terms related to DisneyLand such as 'park', 'disneyland', 'disney'. These are not useful as many texts contain these terms. Therefore, I will add it to the stopword list for removal later."
   ]
  },
  {
   "cell_type": "markdown",
   "id": "3467282a",
   "metadata": {},
   "source": [
    "## Data Preparation"
   ]
  },
  {
   "cell_type": "code",
   "execution_count": 37,
   "id": "867074b3",
   "metadata": {
    "scrolled": false
   },
   "outputs": [
    {
     "data": {
      "text/html": [
       "<div>\n",
       "<style scoped>\n",
       "    .dataframe tbody tr th:only-of-type {\n",
       "        vertical-align: middle;\n",
       "    }\n",
       "\n",
       "    .dataframe tbody tr th {\n",
       "        vertical-align: top;\n",
       "    }\n",
       "\n",
       "    .dataframe thead th {\n",
       "        text-align: right;\n",
       "    }\n",
       "</style>\n",
       "<table border=\"1\" class=\"dataframe\">\n",
       "  <thead>\n",
       "    <tr style=\"text-align: right;\">\n",
       "      <th></th>\n",
       "      <th>review</th>\n",
       "      <th>date</th>\n",
       "      <th>sentiment</th>\n",
       "    </tr>\n",
       "  </thead>\n",
       "  <tbody>\n",
       "    <tr>\n",
       "      <th>0</th>\n",
       "      <td>This place is definitely the happiest place on...</td>\n",
       "      <td>12/26/2022</td>\n",
       "      <td>1</td>\n",
       "    </tr>\n",
       "    <tr>\n",
       "      <th>1</th>\n",
       "      <td>Disneyland is great for the themes and nostalg...</td>\n",
       "      <td>1/8/2023</td>\n",
       "      <td>1</td>\n",
       "    </tr>\n",
       "    <tr>\n",
       "      <th>2</th>\n",
       "      <td>Price range: ridiculously high To consider: lo...</td>\n",
       "      <td>1/10/2023</td>\n",
       "      <td>0</td>\n",
       "    </tr>\n",
       "    <tr>\n",
       "      <th>3</th>\n",
       "      <td>The Mickey Mouse Salted Pretzel from the Coca ...</td>\n",
       "      <td>1/10/2023</td>\n",
       "      <td>0</td>\n",
       "    </tr>\n",
       "    <tr>\n",
       "      <th>4</th>\n",
       "      <td>Nicole, Blonde girl, pirates of the Caribbean ...</td>\n",
       "      <td>1/9/2023</td>\n",
       "      <td>0</td>\n",
       "    </tr>\n",
       "  </tbody>\n",
       "</table>\n",
       "</div>"
      ],
      "text/plain": [
       "                                              review        date  sentiment\n",
       "0  This place is definitely the happiest place on...  12/26/2022          1\n",
       "1  Disneyland is great for the themes and nostalg...    1/8/2023          1\n",
       "2  Price range: ridiculously high To consider: lo...   1/10/2023          0\n",
       "3  The Mickey Mouse Salted Pretzel from the Coca ...   1/10/2023          0\n",
       "4  Nicole, Blonde girl, pirates of the Caribbean ...    1/9/2023          0"
      ]
     },
     "execution_count": 37,
     "metadata": {},
     "output_type": "execute_result"
    }
   ],
   "source": [
    "df.head()"
   ]
  },
  {
   "cell_type": "code",
   "execution_count": 38,
   "id": "a5e5474b",
   "metadata": {},
   "outputs": [
    {
     "data": {
      "text/html": [
       "<div>\n",
       "<style scoped>\n",
       "    .dataframe tbody tr th:only-of-type {\n",
       "        vertical-align: middle;\n",
       "    }\n",
       "\n",
       "    .dataframe tbody tr th {\n",
       "        vertical-align: top;\n",
       "    }\n",
       "\n",
       "    .dataframe thead th {\n",
       "        text-align: right;\n",
       "    }\n",
       "</style>\n",
       "<table border=\"1\" class=\"dataframe\">\n",
       "  <thead>\n",
       "    <tr style=\"text-align: right;\">\n",
       "      <th></th>\n",
       "      <th>review</th>\n",
       "      <th>sentiment</th>\n",
       "    </tr>\n",
       "  </thead>\n",
       "  <tbody>\n",
       "    <tr>\n",
       "      <th>0</th>\n",
       "      <td>This place is definitely the happiest place on...</td>\n",
       "      <td>1</td>\n",
       "    </tr>\n",
       "    <tr>\n",
       "      <th>1</th>\n",
       "      <td>Disneyland is great for the themes and nostalg...</td>\n",
       "      <td>1</td>\n",
       "    </tr>\n",
       "    <tr>\n",
       "      <th>2</th>\n",
       "      <td>Price range: ridiculously high To consider: lo...</td>\n",
       "      <td>0</td>\n",
       "    </tr>\n",
       "    <tr>\n",
       "      <th>3</th>\n",
       "      <td>The Mickey Mouse Salted Pretzel from the Coca ...</td>\n",
       "      <td>0</td>\n",
       "    </tr>\n",
       "    <tr>\n",
       "      <th>4</th>\n",
       "      <td>Nicole, Blonde girl, pirates of the Caribbean ...</td>\n",
       "      <td>0</td>\n",
       "    </tr>\n",
       "  </tbody>\n",
       "</table>\n",
       "</div>"
      ],
      "text/plain": [
       "                                              review  sentiment\n",
       "0  This place is definitely the happiest place on...          1\n",
       "1  Disneyland is great for the themes and nostalg...          1\n",
       "2  Price range: ridiculously high To consider: lo...          0\n",
       "3  The Mickey Mouse Salted Pretzel from the Coca ...          0\n",
       "4  Nicole, Blonde girl, pirates of the Caribbean ...          0"
      ]
     },
     "execution_count": 38,
     "metadata": {},
     "output_type": "execute_result"
    }
   ],
   "source": [
    "# date column is not used, therefore remove it to reduce memory usage.\n",
    "df = df.drop(columns=['date'])\n",
    "df.head()"
   ]
  },
  {
   "cell_type": "markdown",
   "id": "e5c73cf0",
   "metadata": {},
   "source": [
    "### Data Balancing\n",
    "\n",
    "As identified earlier, the ratio of positive to negative sentiments in the dataframe is quite unbalanced with a ratio of 85:15 respectively. This may cause the model to be biased or overfitted toward the positive sentiments. To tackle this problem, I will balance the model using undersampling.\n",
    "\n",
    "To prevent a biased and/or overfitted model, I decided to perform undersampling on the majority class, while keeping all the data of the minority class, negative sentiment.\n",
    "\n",
    "**Approach**:\n",
    "\n",
    "* I will undersample the majority class, positive sentiment, to contribute 60% of the dataframe.\n",
    "\n",
    "**Reason**:\n",
    "\n",
    "* A ratio of 60:40 for positive:negative ensures that the positive class retains majority of its original data and be a representative sample for the positive class."
   ]
  },
  {
   "cell_type": "code",
   "execution_count": 39,
   "id": "2c8f7b74",
   "metadata": {},
   "outputs": [
    {
     "name": "stdout",
     "output_type": "stream",
     "text": [
      "1 represents positive, 0 represents negative.\n",
      "Total records: 28947\n"
     ]
    },
    {
     "data": {
      "text/html": [
       "<div>\n",
       "<style scoped>\n",
       "    .dataframe tbody tr th:only-of-type {\n",
       "        vertical-align: middle;\n",
       "    }\n",
       "\n",
       "    .dataframe tbody tr th {\n",
       "        vertical-align: top;\n",
       "    }\n",
       "\n",
       "    .dataframe thead th {\n",
       "        text-align: right;\n",
       "    }\n",
       "</style>\n",
       "<table border=\"1\" class=\"dataframe\">\n",
       "  <thead>\n",
       "    <tr style=\"text-align: right;\">\n",
       "      <th></th>\n",
       "      <th>occurrences</th>\n",
       "      <th>occurrences (%)</th>\n",
       "    </tr>\n",
       "  </thead>\n",
       "  <tbody>\n",
       "    <tr>\n",
       "      <th>1</th>\n",
       "      <td>24556</td>\n",
       "      <td>84.83%</td>\n",
       "    </tr>\n",
       "    <tr>\n",
       "      <th>0</th>\n",
       "      <td>4391</td>\n",
       "      <td>15.17%</td>\n",
       "    </tr>\n",
       "  </tbody>\n",
       "</table>\n",
       "</div>"
      ],
      "text/plain": [
       "   occurrences occurrences (%)\n",
       "1        24556          84.83%\n",
       "0         4391          15.17%"
      ]
     },
     "metadata": {},
     "output_type": "display_data"
    },
    {
     "data": {
      "image/png": "[encoded data removed]",
      "text/plain": [
       "<Figure size 1400x600 with 1 Axes>"
      ]
     },
     "metadata": {},
     "output_type": "display_data"
    }
   ],
   "source": [
    "# print(\"Looking at the distribution of classes in the target column:\")\n",
    "print(\"1 represents positive, 0 represents negative.\")\n",
    "\n",
    "# Checking the distribution of the stars\n",
    "sentiments = pd.DataFrame({'occurrences': df['sentiment'].value_counts(),\n",
    "                      'occurrences (%)': [str(round((x/len(df)*100), 2))+\"%\" for x in df['sentiment'].value_counts()]})\n",
    "print(\"Total records:\", sum(sentiments['occurrences']))\n",
    "display(sentiments)\n",
    "\n",
    "labels = round((df['sentiment'].value_counts()/len(df)*100),2)\n",
    "sizes = round((df['sentiment'].value_counts()/len(df)*100),2)\n",
    "color = ['palegreen', 'lightcoral']\n",
    "(df['sentiment'].value_counts()/len(df)*100).plot(kind='pie', figsize=(14,6), colors=color, autopct = '%1.1f%%')\n",
    "plt.legend(labels, loc=\"best\")\n",
    "plt.tight_layout()\n",
    "plt.show()"
   ]
  },
  {
   "cell_type": "code",
   "execution_count": 40,
   "id": "f70234a3",
   "metadata": {},
   "outputs": [],
   "source": [
    "# required_amt is the amount of samples required to balance positive to negative at a ratio of 60:40.\n",
    "required_amt = int((len(df[df['sentiment']==0])/40)*60)\n",
    "\n",
    "df2 = pd.concat([df[df['sentiment']==1].sample(n=required_amt, random_state=42), df[df['sentiment']==0]], axis=0)\n",
    "\n",
    "# To ensure the same data is sampled and reproduable results, I set a random_state of 42 for the sample function."
   ]
  },
  {
   "cell_type": "code",
   "execution_count": 41,
   "id": "3bff9f44",
   "metadata": {},
   "outputs": [
    {
     "data": {
      "text/html": [
       "<div>\n",
       "<style scoped>\n",
       "    .dataframe tbody tr th:only-of-type {\n",
       "        vertical-align: middle;\n",
       "    }\n",
       "\n",
       "    .dataframe tbody tr th {\n",
       "        vertical-align: top;\n",
       "    }\n",
       "\n",
       "    .dataframe thead th {\n",
       "        text-align: right;\n",
       "    }\n",
       "</style>\n",
       "<table border=\"1\" class=\"dataframe\">\n",
       "  <thead>\n",
       "    <tr style=\"text-align: right;\">\n",
       "      <th></th>\n",
       "      <th>review</th>\n",
       "      <th>sentiment</th>\n",
       "    </tr>\n",
       "  </thead>\n",
       "  <tbody>\n",
       "    <tr>\n",
       "      <th>18158</th>\n",
       "      <td>Everyone said that the days after Christmas ar...</td>\n",
       "      <td>1</td>\n",
       "    </tr>\n",
       "    <tr>\n",
       "      <th>14892</th>\n",
       "      <td>Went here in 2010 it was great but much better...</td>\n",
       "      <td>1</td>\n",
       "    </tr>\n",
       "    <tr>\n",
       "      <th>9688</th>\n",
       "      <td>As any good amusement park has: it is crowded....</td>\n",
       "      <td>1</td>\n",
       "    </tr>\n",
       "    <tr>\n",
       "      <th>4903</th>\n",
       "      <td>Love, Love, Love this place!  Came here since ...</td>\n",
       "      <td>1</td>\n",
       "    </tr>\n",
       "    <tr>\n",
       "      <th>21989</th>\n",
       "      <td>It's Disneyland. Somewhere that, if finances a...</td>\n",
       "      <td>1</td>\n",
       "    </tr>\n",
       "  </tbody>\n",
       "</table>\n",
       "</div>"
      ],
      "text/plain": [
       "                                                  review  sentiment\n",
       "18158  Everyone said that the days after Christmas ar...          1\n",
       "14892  Went here in 2010 it was great but much better...          1\n",
       "9688   As any good amusement park has: it is crowded....          1\n",
       "4903   Love, Love, Love this place!  Came here since ...          1\n",
       "21989  It's Disneyland. Somewhere that, if finances a...          1"
      ]
     },
     "execution_count": 41,
     "metadata": {},
     "output_type": "execute_result"
    }
   ],
   "source": [
    "df2.head()"
   ]
  },
  {
   "cell_type": "code",
   "execution_count": 42,
   "id": "f211774f",
   "metadata": {},
   "outputs": [
    {
     "name": "stdout",
     "output_type": "stream",
     "text": [
      "<class 'pandas.core.frame.DataFrame'>\n",
      "Int64Index: 10977 entries, 18158 to 28934\n",
      "Data columns (total 2 columns):\n",
      " #   Column     Non-Null Count  Dtype \n",
      "---  ------     --------------  ----- \n",
      " 0   review     10977 non-null  object\n",
      " 1   sentiment  10977 non-null  int64 \n",
      "dtypes: int64(1), object(1)\n",
      "memory usage: 257.3+ KB\n"
     ]
    }
   ],
   "source": [
    "df2.info()"
   ]
  },
  {
   "cell_type": "markdown",
   "id": "2cd880b7",
   "metadata": {},
   "source": [
    "The index of the dataframe is weird after sampling."
   ]
  },
  {
   "cell_type": "code",
   "execution_count": 43,
   "id": "e4da1961",
   "metadata": {},
   "outputs": [],
   "source": [
    "# Reset the index\n",
    "df2 = df2.reset_index(drop=True)"
   ]
  },
  {
   "cell_type": "code",
   "execution_count": 44,
   "id": "ffc7621f",
   "metadata": {},
   "outputs": [
    {
     "name": "stdout",
     "output_type": "stream",
     "text": [
      "Total records: 10977\n"
     ]
    },
    {
     "data": {
      "text/html": [
       "<div>\n",
       "<style scoped>\n",
       "    .dataframe tbody tr th:only-of-type {\n",
       "        vertical-align: middle;\n",
       "    }\n",
       "\n",
       "    .dataframe tbody tr th {\n",
       "        vertical-align: top;\n",
       "    }\n",
       "\n",
       "    .dataframe thead th {\n",
       "        text-align: right;\n",
       "    }\n",
       "</style>\n",
       "<table border=\"1\" class=\"dataframe\">\n",
       "  <thead>\n",
       "    <tr style=\"text-align: right;\">\n",
       "      <th></th>\n",
       "      <th>occurrences</th>\n",
       "      <th>occurrences (%)</th>\n",
       "    </tr>\n",
       "  </thead>\n",
       "  <tbody>\n",
       "    <tr>\n",
       "      <th>1</th>\n",
       "      <td>6586</td>\n",
       "      <td>60.0%</td>\n",
       "    </tr>\n",
       "    <tr>\n",
       "      <th>0</th>\n",
       "      <td>4391</td>\n",
       "      <td>40.0%</td>\n",
       "    </tr>\n",
       "  </tbody>\n",
       "</table>\n",
       "</div>"
      ],
      "text/plain": [
       "   occurrences occurrences (%)\n",
       "1         6586           60.0%\n",
       "0         4391           40.0%"
      ]
     },
     "metadata": {},
     "output_type": "display_data"
    }
   ],
   "source": [
    "# Checking the distribution of the stars in the new dataframe\n",
    "sentiments = pd.DataFrame({'occurrences': df2['sentiment'].value_counts(),\n",
    "                      'occurrences (%)': [str(round((x/len(df2)*100), 2))+\"%\" for x in df2['sentiment'].value_counts()]})\n",
    "print(\"Total records:\", sum(sentiments['occurrences']))\n",
    "display(sentiments)"
   ]
  },
  {
   "cell_type": "code",
   "execution_count": 45,
   "id": "541401dd",
   "metadata": {},
   "outputs": [],
   "source": [
    "# Detect any foreign language and remove it to reduce noise in the data and prevent it from \n",
    "# affecting the sentiment classification\n",
    "from langdetect import detect\n",
    "foreign_index = [index for index in df2.index if detect(df2['review'][index]) != 'en']"
   ]
  },
  {
   "cell_type": "code",
   "execution_count": 46,
   "id": "a7e14d8f",
   "metadata": {},
   "outputs": [
    {
     "name": "stdout",
     "output_type": "stream",
     "text": [
      "652 : Recommend bring water and umbrella.and enjoy with your family aaaaaaaaaaaaaaaaaaaaaaaaaaaaaaaaaaaaaaaaaaaaaaaaaaaaaaaaa\n",
      "1307 : Fun rides, parade. Expensive food\n",
      "1440 : Best place i have ever been to\n",
      "1766 : Such a magical experience.\n",
      "1841 : Excellent  Cal Disney ride. Everyone must experience\n",
      "3085 : My kids loved it as did i.\n",
      "3622 : So much fun\n",
      "3631 : Amazing! Duh.\n",
      "4879 : Very nice\n",
      "5286 : Always a good time\n",
      "5513 : GREAT FAMILY PARK....BUT....YOU BETTER PLAN ON SPENDING ($200.00) PER FAMILY MEMBER PER DAY....(MOM + DAD & 3 KIDS = $1000.00 PER DAY) IF YOU WANNA SEE ALL OF THE PARK....YOU'LL NEED (2 DAYS) GUARANTEED ($2,000.00 FOR A FAMILY OF 5 GETS YOU : 1)PARK ENTRY FEE 2)PARKING FEE 3)MEALS 4)LODGING....BOTTOM LINE IS....BRING LOTS OF MONEY!!!\n",
      "5922 : My favorite place!\n",
      "10050 : Genius plus, more like genie minus\n"
     ]
    }
   ],
   "source": [
    "for indexes in foreign_index:\n",
    "    print(indexes,\":\",df2['review'][indexes])"
   ]
  },
  {
   "cell_type": "markdown",
   "id": "8dc50d42",
   "metadata": {},
   "source": [
    "These texts do not seem to be foreign languages. Therefore, I will leave them as it is."
   ]
  },
  {
   "cell_type": "markdown",
   "id": "e7d97914",
   "metadata": {},
   "source": [
    "# Data Preparation - For Sentiment Classification "
   ]
  },
  {
   "cell_type": "markdown",
   "id": "35e2d64a",
   "metadata": {},
   "source": [
    "### Extract POS Tag\n",
    "\n",
    "Research has shown the presence of adjectives and adverbs is usually a good indicator of text subjectivity. In other words, statements that use adjectives like “interesting,” “problematic” and “awesome” might be more likely to convey a subjective point of view than statements that do not include those adjectives.\n",
    "\n",
    "Adjectives and adverbs typically convey sentiment in a sentence, so they can be useful in sentiment analysis. However, including all POS tag words can provide additional information, such as the subject and verb, which can also contribute to the sentiment.\n",
    "\n",
    "Thus, I will not use the adjectives and adverbs only as feature sets for sentiment classification, but all the words in the text."
   ]
  },
  {
   "cell_type": "code",
   "execution_count": 47,
   "id": "1d002d06",
   "metadata": {},
   "outputs": [],
   "source": [
    "from nltk.tokenize import sent_tokenize\n",
    "def tagPOS(text):\n",
    "    tokenized = sent_tokenize(text) \n",
    "    tagged_text = []\n",
    "\n",
    "    for i in tokenized:\n",
    "        # Word tokenizers is used to find the words \n",
    "        wordsList = nltk.word_tokenize(i) \n",
    "\n",
    "        #  Using a Tagger. Which is part-of-speech tagger or POS-tagger.  \n",
    "        tagged = nltk.pos_tag(wordsList) \n",
    "        tagged_text.extend(tagged)\n",
    "\n",
    "    return tagged_text\n",
    "\n",
    "df2['POS_review'] = df2['review'].apply(lambda x: tagPOS(x))"
   ]
  },
  {
   "cell_type": "code",
   "execution_count": 48,
   "id": "954757d4",
   "metadata": {},
   "outputs": [
    {
     "data": {
      "text/html": [
       "<div>\n",
       "<style scoped>\n",
       "    .dataframe tbody tr th:only-of-type {\n",
       "        vertical-align: middle;\n",
       "    }\n",
       "\n",
       "    .dataframe tbody tr th {\n",
       "        vertical-align: top;\n",
       "    }\n",
       "\n",
       "    .dataframe thead th {\n",
       "        text-align: right;\n",
       "    }\n",
       "</style>\n",
       "<table border=\"1\" class=\"dataframe\">\n",
       "  <thead>\n",
       "    <tr style=\"text-align: right;\">\n",
       "      <th></th>\n",
       "      <th>review</th>\n",
       "      <th>sentiment</th>\n",
       "      <th>POS_review</th>\n",
       "      <th>adj_adv</th>\n",
       "    </tr>\n",
       "  </thead>\n",
       "  <tbody>\n",
       "    <tr>\n",
       "      <th>0</th>\n",
       "      <td>Everyone said that the days after Christmas ar...</td>\n",
       "      <td>1</td>\n",
       "      <td>[(Everyone, NN), (said, VBD), (that, IN), (the...</td>\n",
       "      <td>[busiest, first, so, overwhelmed, insane, upco...</td>\n",
       "    </tr>\n",
       "    <tr>\n",
       "      <th>1</th>\n",
       "      <td>Went here in 2010 it was great but much better...</td>\n",
       "      <td>1</td>\n",
       "      <td>[(Went, NN), (here, RB), (in, IN), (2010, CD),...</td>\n",
       "      <td>[here, great, much, better, more]</td>\n",
       "    </tr>\n",
       "    <tr>\n",
       "      <th>2</th>\n",
       "      <td>As any good amusement park has: it is crowded....</td>\n",
       "      <td>1</td>\n",
       "      <td>[(As, IN), (any, DT), (good, JJ), (amusement, ...</td>\n",
       "      <td>[good, disneyland, bread, most, bang, other, r...</td>\n",
       "    </tr>\n",
       "    <tr>\n",
       "      <th>3</th>\n",
       "      <td>Love, Love, Love this place!  Came here since ...</td>\n",
       "      <td>1</td>\n",
       "      <td>[(Love, NNP), (,, ,), (Love, NNP), (,, ,), (Lo...</td>\n",
       "      <td>[here, little, dad, annual, so, many, always, ...</td>\n",
       "    </tr>\n",
       "    <tr>\n",
       "      <th>4</th>\n",
       "      <td>It's Disneyland. Somewhere that, if finances a...</td>\n",
       "      <td>1</td>\n",
       "      <td>[(It, PRP), ('s, VBZ), (Disneyland, NNP), (., ...</td>\n",
       "      <td>[Somewhere, somewhere, least, once, true, terr...</td>\n",
       "    </tr>\n",
       "  </tbody>\n",
       "</table>\n",
       "</div>"
      ],
      "text/plain": [
       "                                              review  sentiment  \\\n",
       "0  Everyone said that the days after Christmas ar...          1   \n",
       "1  Went here in 2010 it was great but much better...          1   \n",
       "2  As any good amusement park has: it is crowded....          1   \n",
       "3  Love, Love, Love this place!  Came here since ...          1   \n",
       "4  It's Disneyland. Somewhere that, if finances a...          1   \n",
       "\n",
       "                                          POS_review  \\\n",
       "0  [(Everyone, NN), (said, VBD), (that, IN), (the...   \n",
       "1  [(Went, NN), (here, RB), (in, IN), (2010, CD),...   \n",
       "2  [(As, IN), (any, DT), (good, JJ), (amusement, ...   \n",
       "3  [(Love, NNP), (,, ,), (Love, NNP), (,, ,), (Lo...   \n",
       "4  [(It, PRP), ('s, VBZ), (Disneyland, NNP), (., ...   \n",
       "\n",
       "                                             adj_adv  \n",
       "0  [busiest, first, so, overwhelmed, insane, upco...  \n",
       "1                  [here, great, much, better, more]  \n",
       "2  [good, disneyland, bread, most, bang, other, r...  \n",
       "3  [here, little, dad, annual, so, many, always, ...  \n",
       "4  [Somewhere, somewhere, least, once, true, terr...  "
      ]
     },
     "execution_count": 48,
     "metadata": {},
     "output_type": "execute_result"
    }
   ],
   "source": [
    "def extract_pos(x):\n",
    "    # Extracting words that have an adjectives (JJ) or adverb (RB) tag\n",
    "    extracted_words = [word for (word,tag) in x if tag.startswith(\"JJ\") or tag.startswith(\"RB\")]\n",
    "    return extracted_words\n",
    "        \n",
    "df2['adj_adv'] = df2['POS_review'].apply(lambda x: extract_pos(x))\n",
    "df2.head()"
   ]
  },
  {
   "cell_type": "code",
   "execution_count": 49,
   "id": "5b6f352e",
   "metadata": {},
   "outputs": [
    {
     "name": "stdout",
     "output_type": "stream",
     "text": [
      "Number of texts with no adjectives or adverbs inside: 75\n"
     ]
    }
   ],
   "source": [
    "# Identifying texts with no adjectives or adverbs\n",
    "empty_indexes = [i for i in df2.index if len(df2['adj_adv'][i]) == 0]\n",
    "print(\"Number of texts with no adjectives or adverbs inside:\",len(empty_indexes))"
   ]
  },
  {
   "cell_type": "markdown",
   "id": "85e46ad5",
   "metadata": {},
   "source": [
    "Due to no adjectives or adverbs identified, it would make the sentiment analysis classification tougher. Therefore, I will remove it to prevent it from affecting the model's accuracy in classification."
   ]
  },
  {
   "cell_type": "code",
   "execution_count": 50,
   "id": "fa95aff4",
   "metadata": {},
   "outputs": [],
   "source": [
    "# Removing those with no adjective/adverbs\n",
    "df2 = df2.drop(index=empty_indexes)\n",
    "# Resetting the index\n",
    "df2 = df2.reset_index(drop=True)"
   ]
  },
  {
   "cell_type": "markdown",
   "id": "a330af83",
   "metadata": {},
   "source": [
    "## Data Understanding - Sentiment Top Words"
   ]
  },
  {
   "cell_type": "code",
   "execution_count": 51,
   "id": "6ede5fb0",
   "metadata": {},
   "outputs": [],
   "source": [
    "negative_words = []\n",
    "positive_words = []\n",
    "\n",
    "for index in df2.index:\n",
    "    words = df2['adj_adv'][index]\n",
    "    if df2['sentiment'][index] == 0:\n",
    "        negative_words.extend(words)\n",
    "    else:\n",
    "        positive_words.extend(words)"
   ]
  },
  {
   "cell_type": "code",
   "execution_count": 52,
   "id": "9a718961",
   "metadata": {},
   "outputs": [
    {
     "data": {
      "image/png": "[encoded data removed]",
      "text/plain": [
       "<Figure size 640x480 with 1 Axes>"
      ]
     },
     "metadata": {},
     "output_type": "display_data"
    }
   ],
   "source": [
    "# Generate frequency for the top negative words\n",
    "freq_dist = nltk.FreqDist(negative_words)\n",
    "\n",
    "# Visualizing \n",
    "words = dict([(k,v) for k,v in freq_dist.items()])\n",
    "\n",
    "# create frequency distribution of the filtered words\n",
    "freq_dist = nltk.FreqDist(words)\n",
    "\n",
    "# Generate line chart to show the top words\n",
    "# plot the frequency distribution of the top 50 words\n",
    "freq_dist.plot(20, cumulative=False)\n",
    "plt.show()"
   ]
  },
  {
   "cell_type": "code",
   "execution_count": 53,
   "id": "dcde4de9",
   "metadata": {},
   "outputs": [
    {
     "data": {
      "image/png": "[encoded data removed]",
      "text/plain": [
       "<Figure size 640x480 with 1 Axes>"
      ]
     },
     "metadata": {},
     "output_type": "display_data"
    }
   ],
   "source": [
    "# Generate frequency for the top positive words\n",
    "freq_dist = nltk.FreqDist(positive_words)\n",
    "\n",
    "# Visualizing \n",
    "words = dict([(k,v) for k,v in freq_dist.items()])\n",
    "\n",
    "# create frequency distribution of the filtered words\n",
    "freq_dist = nltk.FreqDist(words)\n",
    "\n",
    "# plot the frequency distribution of the top 50 words\n",
    "freq_dist.plot(20, cumulative=False)\n",
    "plt.show()"
   ]
  },
  {
   "cell_type": "markdown",
   "id": "fdf19bce",
   "metadata": {},
   "source": [
    "Based on the top adjective/adverb words found in both sentiments, both share almost the same top 15 words. Therefore, I will add some of the top words to the stopword list for removal:\n",
    "\n",
    "'n't', 'not', 'so', 'just', 'only', 'back', 'more'.\n",
    "\n",
    "Removing these common words reduces the overlapping common words among the two sentiments and allows the model to weigh the more important words and classify the texts more distinctively."
   ]
  },
  {
   "cell_type": "markdown",
   "id": "cf7bc308",
   "metadata": {},
   "source": [
    "## Removing Pattern Words\n",
    "\n",
    "These pattern words include double-slashed and links. These words do not provide any detail toward the text's sentiment and are considered noise which may cause the model to perform poorly with the presence of these words. Therefore, I will remove them through pattern matching.\n",
    "\n",
    "Additionally, the negator words such as \"don't\" are converted to \"dont\" so that they will not be removed from the stopword list which contains negator words that have apostrophe only e.g., \"don't\".\n",
    "\n",
    "Lastly, removing numbers, punctuations, and new line codes found previously when displaying the head of the dataframe."
   ]
  },
  {
   "cell_type": "code",
   "execution_count": 54,
   "id": "f9722ad7",
   "metadata": {},
   "outputs": [],
   "source": [
    "# Store reviews in a variable\n",
    "reviews = [review.lower() for review in df2['review']]"
   ]
  },
  {
   "cell_type": "code",
   "execution_count": 55,
   "id": "3bae01bd",
   "metadata": {},
   "outputs": [
    {
     "name": "stdout",
     "output_type": "stream",
     "text": [
      "Number of records in the dataframe: 10902\n"
     ]
    }
   ],
   "source": [
    "print(\"Number of records in the dataframe:\", df2.shape[0])"
   ]
  },
  {
   "cell_type": "code",
   "execution_count": 56,
   "id": "0439a3fe",
   "metadata": {},
   "outputs": [],
   "source": [
    "import re\n",
    "\n",
    "# Removing // words.\n",
    "doubleslashed_pattern = '[^\\s]*(//)+[^\\s]*'\n",
    "\n",
    "# Removing links\n",
    "link_pattern = '[^\\s]*(\\.)+[^\\s]*(\\/)+[^\\s]*'\n",
    "\n",
    "# Keeping negator words\n",
    "negator_pattern = '\\''\n",
    "\n",
    "# Removing remaining punctuations/numbers\n",
    "remaining_pattern = '[^a-zA-Z\\s]+'\n",
    "\n",
    "for ind in df2.index:\n",
    "    reviews[ind] = re.sub(doubleslashed_pattern, '', reviews[ind])\n",
    "    reviews[ind] = re.sub(link_pattern, ' ', reviews[ind])\n",
    "    reviews[ind] = re.sub(negator_pattern, '', reviews[ind])\n",
    "    reviews[ind] = re.sub(remaining_pattern, ' ', reviews[ind])"
   ]
  },
  {
   "cell_type": "code",
   "execution_count": 57,
   "id": "14d19fe8",
   "metadata": {},
   "outputs": [],
   "source": [
    "df2['sentiment_cleaned_review'] = reviews"
   ]
  },
  {
   "cell_type": "code",
   "execution_count": 58,
   "id": "a3d8ff2c",
   "metadata": {},
   "outputs": [
    {
     "data": {
      "text/html": [
       "<div>\n",
       "<style scoped>\n",
       "    .dataframe tbody tr th:only-of-type {\n",
       "        vertical-align: middle;\n",
       "    }\n",
       "\n",
       "    .dataframe tbody tr th {\n",
       "        vertical-align: top;\n",
       "    }\n",
       "\n",
       "    .dataframe thead th {\n",
       "        text-align: right;\n",
       "    }\n",
       "</style>\n",
       "<table border=\"1\" class=\"dataframe\">\n",
       "  <thead>\n",
       "    <tr style=\"text-align: right;\">\n",
       "      <th></th>\n",
       "      <th>review</th>\n",
       "      <th>sentiment</th>\n",
       "      <th>POS_review</th>\n",
       "      <th>adj_adv</th>\n",
       "      <th>sentiment_cleaned_review</th>\n",
       "      <th>review_tokens</th>\n",
       "    </tr>\n",
       "  </thead>\n",
       "  <tbody>\n",
       "    <tr>\n",
       "      <th>0</th>\n",
       "      <td>Everyone said that the days after Christmas ar...</td>\n",
       "      <td>1</td>\n",
       "      <td>[(Everyone, NN), (said, VBD), (that, IN), (the...</td>\n",
       "      <td>[busiest, first, so, overwhelmed, insane, upco...</td>\n",
       "      <td>everyone said that the days after christmas ar...</td>\n",
       "      <td>[everyon, said, dai, christma, busiest, year, ...</td>\n",
       "    </tr>\n",
       "    <tr>\n",
       "      <th>1</th>\n",
       "      <td>Went here in 2010 it was great but much better...</td>\n",
       "      <td>1</td>\n",
       "      <td>[(Went, NN), (here, RB), (in, IN), (2010, CD),...</td>\n",
       "      <td>[here, great, much, better, more]</td>\n",
       "      <td>went here in   it was great but much better if...</td>\n",
       "      <td>[went, great, much, better, kid, gone, famili,...</td>\n",
       "    </tr>\n",
       "    <tr>\n",
       "      <th>2</th>\n",
       "      <td>As any good amusement park has: it is crowded....</td>\n",
       "      <td>1</td>\n",
       "      <td>[(As, IN), (any, DT), (good, JJ), (amusement, ...</td>\n",
       "      <td>[good, disneyland, bread, most, bang, other, r...</td>\n",
       "      <td>as any good amusement park has  it is crowded ...</td>\n",
       "      <td>[good, amus, crowd, your, look, food, within, ...</td>\n",
       "    </tr>\n",
       "    <tr>\n",
       "      <th>3</th>\n",
       "      <td>Love, Love, Love this place!  Came here since ...</td>\n",
       "      <td>1</td>\n",
       "      <td>[(Love, NNP), (,, ,), (Love, NNP), (,, ,), (Lo...</td>\n",
       "      <td>[here, little, dad, annual, so, many, always, ...</td>\n",
       "      <td>love  love  love this place   came here since ...</td>\n",
       "      <td>[love, love, love, place, came, sinc, littl, d...</td>\n",
       "    </tr>\n",
       "    <tr>\n",
       "      <th>4</th>\n",
       "      <td>It's Disneyland. Somewhere that, if finances a...</td>\n",
       "      <td>1</td>\n",
       "      <td>[(It, PRP), ('s, VBZ), (Disneyland, NNP), (., ...</td>\n",
       "      <td>[Somewhere, somewhere, least, once, true, terr...</td>\n",
       "      <td>its disneyland  somewhere that  if finances af...</td>\n",
       "      <td>[somewher, financ, afford, freedom, somewher, ...</td>\n",
       "    </tr>\n",
       "  </tbody>\n",
       "</table>\n",
       "</div>"
      ],
      "text/plain": [
       "                                              review  sentiment  \\\n",
       "0  Everyone said that the days after Christmas ar...          1   \n",
       "1  Went here in 2010 it was great but much better...          1   \n",
       "2  As any good amusement park has: it is crowded....          1   \n",
       "3  Love, Love, Love this place!  Came here since ...          1   \n",
       "4  It's Disneyland. Somewhere that, if finances a...          1   \n",
       "\n",
       "                                          POS_review  \\\n",
       "0  [(Everyone, NN), (said, VBD), (that, IN), (the...   \n",
       "1  [(Went, NN), (here, RB), (in, IN), (2010, CD),...   \n",
       "2  [(As, IN), (any, DT), (good, JJ), (amusement, ...   \n",
       "3  [(Love, NNP), (,, ,), (Love, NNP), (,, ,), (Lo...   \n",
       "4  [(It, PRP), ('s, VBZ), (Disneyland, NNP), (., ...   \n",
       "\n",
       "                                             adj_adv  \\\n",
       "0  [busiest, first, so, overwhelmed, insane, upco...   \n",
       "1                  [here, great, much, better, more]   \n",
       "2  [good, disneyland, bread, most, bang, other, r...   \n",
       "3  [here, little, dad, annual, so, many, always, ...   \n",
       "4  [Somewhere, somewhere, least, once, true, terr...   \n",
       "\n",
       "                            sentiment_cleaned_review  \\\n",
       "0  everyone said that the days after christmas ar...   \n",
       "1  went here in   it was great but much better if...   \n",
       "2  as any good amusement park has  it is crowded ...   \n",
       "3  love  love  love this place   came here since ...   \n",
       "4  its disneyland  somewhere that  if finances af...   \n",
       "\n",
       "                                       review_tokens  \n",
       "0  [everyon, said, dai, christma, busiest, year, ...  \n",
       "1  [went, great, much, better, kid, gone, famili,...  \n",
       "2  [good, amus, crowd, your, look, food, within, ...  \n",
       "3  [love, love, love, place, came, sinc, littl, d...  \n",
       "4  [somewher, financ, afford, freedom, somewher, ...  "
      ]
     },
     "execution_count": 58,
     "metadata": {},
     "output_type": "execute_result"
    }
   ],
   "source": [
    "# Removing stopwords, punctuations, and words of length below 2.\n",
    "import string\n",
    "stopwords = nltk.corpus.stopwords.words('english')\n",
    "stopwords.extend(['park', 'disneyland', 'disney', \"n't\", 'not', 'so', 'just', 'only', 'back', 'more'])\n",
    "from gensim.parsing.porter import PorterStemmer\n",
    "porter_stemmer = PorterStemmer()\n",
    "\n",
    "def clean(texts):\n",
    "    cleaned_words = []\n",
    "    for word in texts:\n",
    "        # Remove stopwords and numbers\n",
    "        if word not in stopwords and not word.isdigit() and len(words)>2:\n",
    "            \n",
    "            # Removing punctuations\n",
    "            punc_free = ''.join([ch for ch in word if ch not in string.punctuation])\n",
    "            \n",
    "            # Removing words that have lengths less than 2 as words less than 2 usually provide little to no insights due to low meaning\n",
    "            if len(punc_free)>2 and not word.isdigit():\n",
    "                \n",
    "                # Stemming the words.\n",
    "                cleaned_words.append(porter_stemmer.stem(punc_free))\n",
    "                # Stemming is used to reduce the dimensionality of words in the dataframe.\n",
    "                # Since I'm doing sentiment analysis based on occurrence of words in the text, context won't be necessary as order of words are not captured within the bag of words.\n",
    "                # Therefore, stemming is used over lemmatization to improve computational performance.\n",
    "\n",
    "    return cleaned_words\n",
    "\n",
    "# Create Feature Set\n",
    "df2['review_tokens'] = df2['sentiment_cleaned_review'].apply(lambda x: word_tokenize(x.lower()))\n",
    "df2['review_tokens'] = df2['review_tokens'].apply(lambda x: clean(x))  \n",
    "df2.head()"
   ]
  },
  {
   "cell_type": "code",
   "execution_count": 59,
   "id": "1b62d0cd",
   "metadata": {},
   "outputs": [],
   "source": [
    "df2 = df2.drop(columns=['POS_review', 'adj_adv'])"
   ]
  },
  {
   "cell_type": "code",
   "execution_count": 60,
   "id": "ae7e2abe",
   "metadata": {},
   "outputs": [],
   "source": [
    "# Store all tokens\n",
    "tokens = [tokens for entry in df2.review_tokens for tokens in entry]"
   ]
  },
  {
   "cell_type": "code",
   "execution_count": 61,
   "id": "f7d251f8",
   "metadata": {},
   "outputs": [
    {
     "data": {
      "image/png": "[encoded data removed]",
      "text/plain": [
       "<Figure size 640x480 with 1 Axes>"
      ]
     },
     "metadata": {},
     "output_type": "display_data"
    }
   ],
   "source": [
    "# Generate frequency for all the words\n",
    "freq_dist = nltk.FreqDist(tokens)\n",
    "\n",
    "# Visualizing \n",
    "word_length_frequency_dict = dict([(k,v) for k,v in freq_dist.items()])\n",
    "\n",
    "# create frequency distribution of the filtered words\n",
    "freq_dist = nltk.FreqDist(word_length_frequency_dict)\n",
    "\n",
    "# plot the frequency distribution of the top 50 words\n",
    "freq_dist.plot(20, cumulative=False)\n",
    "plt.show()"
   ]
  },
  {
   "cell_type": "code",
   "execution_count": 62,
   "id": "95510af1",
   "metadata": {},
   "outputs": [
    {
     "name": "stdout",
     "output_type": "stream",
     "text": [
      "['makeoverguardian', 'halloweentimeindisnei', 'disneylandorigin', 'supercalifragilisticexpialidic', 'accuratefirework', 'ggfffhhhhggggghhhhh', 'wednesdayjanuari', 'yourecmissingvout', 'resistancesmuggl', 'mansionincredicoasterindiana', 'cruisematterhorn', 'toursmatterhornspac', 'originallydisneyland', 'awesomehyperspac', 'disneylandanaheimstil']\n"
     ]
    }
   ],
   "source": [
    "# Looking at words that are quite long\n",
    "odd_lengths = [words for words in tokens if len(words)>15]\n",
    "print(odd_lengths[:15])"
   ]
  },
  {
   "cell_type": "markdown",
   "id": "460d690c",
   "metadata": {},
   "source": [
    "Seems like the rest of the odd length words are either naturally long words, combined words, or excess characters."
   ]
  },
  {
   "cell_type": "code",
   "execution_count": 63,
   "id": "fad5b2f3",
   "metadata": {},
   "outputs": [],
   "source": [
    "# Checking for words that occur once in the corpus\n",
    "one_occurrence = []\n",
    "for key in word_length_frequency_dict:\n",
    "    if word_length_frequency_dict[key] == 1:\n",
    "        one_occurrence.append(key)"
   ]
  },
  {
   "cell_type": "code",
   "execution_count": 64,
   "id": "c847083f",
   "metadata": {},
   "outputs": [
    {
     "data": {
      "text/plain": [
       "5589"
      ]
     },
     "execution_count": 64,
     "metadata": {},
     "output_type": "execute_result"
    }
   ],
   "source": [
    "len(one_occurrence)"
   ]
  },
  {
   "cell_type": "markdown",
   "id": "f4525f10",
   "metadata": {},
   "source": [
    "There are a total of 5605 words that occur once only in the corpus. These words provide little insight into what the text's sentiment is since it occurs once only. Therefore, I will remove these 5605 words to reduce the noise in the dataset."
   ]
  },
  {
   "cell_type": "markdown",
   "id": "276ca453",
   "metadata": {},
   "source": [
    "There are some frequently occuring words that carry little meaning or context toward the sentiment of the text such as 'get', 'would', 'on'."
   ]
  },
  {
   "cell_type": "code",
   "execution_count": 65,
   "id": "167c63ce",
   "metadata": {},
   "outputs": [
    {
     "data": {
      "text/html": [
       "<div>\n",
       "<style scoped>\n",
       "    .dataframe tbody tr th:only-of-type {\n",
       "        vertical-align: middle;\n",
       "    }\n",
       "\n",
       "    .dataframe tbody tr th {\n",
       "        vertical-align: top;\n",
       "    }\n",
       "\n",
       "    .dataframe thead th {\n",
       "        text-align: right;\n",
       "    }\n",
       "</style>\n",
       "<table border=\"1\" class=\"dataframe\">\n",
       "  <thead>\n",
       "    <tr style=\"text-align: right;\">\n",
       "      <th></th>\n",
       "      <th>review</th>\n",
       "      <th>sentiment</th>\n",
       "      <th>sentiment_cleaned_review</th>\n",
       "      <th>review_tokens</th>\n",
       "    </tr>\n",
       "  </thead>\n",
       "  <tbody>\n",
       "    <tr>\n",
       "      <th>0</th>\n",
       "      <td>Everyone said that the days after Christmas ar...</td>\n",
       "      <td>1</td>\n",
       "      <td>everyone said that the days after christmas ar...</td>\n",
       "      <td>[everyon, said, dai, christma, busiest, year, ...</td>\n",
       "    </tr>\n",
       "    <tr>\n",
       "      <th>1</th>\n",
       "      <td>Went here in 2010 it was great but much better...</td>\n",
       "      <td>1</td>\n",
       "      <td>went here in   it was great but much better if...</td>\n",
       "      <td>[went, great, much, better, kid, gone, famili,...</td>\n",
       "    </tr>\n",
       "    <tr>\n",
       "      <th>2</th>\n",
       "      <td>As any good amusement park has: it is crowded....</td>\n",
       "      <td>1</td>\n",
       "      <td>as any good amusement park has  it is crowded ...</td>\n",
       "      <td>[good, amus, crowd, look, food, within, recomm...</td>\n",
       "    </tr>\n",
       "    <tr>\n",
       "      <th>3</th>\n",
       "      <td>Love, Love, Love this place!  Came here since ...</td>\n",
       "      <td>1</td>\n",
       "      <td>love  love  love this place   came here since ...</td>\n",
       "      <td>[love, love, love, place, came, sinc, littl, d...</td>\n",
       "    </tr>\n",
       "    <tr>\n",
       "      <th>4</th>\n",
       "      <td>It's Disneyland. Somewhere that, if finances a...</td>\n",
       "      <td>1</td>\n",
       "      <td>its disneyland  somewhere that  if finances af...</td>\n",
       "      <td>[somewher, financ, afford, freedom, somewher, ...</td>\n",
       "    </tr>\n",
       "  </tbody>\n",
       "</table>\n",
       "</div>"
      ],
      "text/plain": [
       "                                              review  sentiment  \\\n",
       "0  Everyone said that the days after Christmas ar...          1   \n",
       "1  Went here in 2010 it was great but much better...          1   \n",
       "2  As any good amusement park has: it is crowded....          1   \n",
       "3  Love, Love, Love this place!  Came here since ...          1   \n",
       "4  It's Disneyland. Somewhere that, if finances a...          1   \n",
       "\n",
       "                            sentiment_cleaned_review  \\\n",
       "0  everyone said that the days after christmas ar...   \n",
       "1  went here in   it was great but much better if...   \n",
       "2  as any good amusement park has  it is crowded ...   \n",
       "3  love  love  love this place   came here since ...   \n",
       "4  its disneyland  somewhere that  if finances af...   \n",
       "\n",
       "                                       review_tokens  \n",
       "0  [everyon, said, dai, christma, busiest, year, ...  \n",
       "1  [went, great, much, better, kid, gone, famili,...  \n",
       "2  [good, amus, crowd, look, food, within, recomm...  \n",
       "3  [love, love, love, place, came, sinc, littl, d...  \n",
       "4  [somewher, financ, afford, freedom, somewher, ...  "
      ]
     },
     "execution_count": 65,
     "metadata": {},
     "output_type": "execute_result"
    }
   ],
   "source": [
    "# Second round of cleaning, removing additional stopwords.\n",
    "import string\n",
    "stopwords.extend(['get', 'on', 'would'])\n",
    "stopwords.extend(one_occurrence)\n",
    "from gensim.parsing.porter import PorterStemmer\n",
    "porter_stemmer = PorterStemmer()\n",
    "\n",
    "def clean(texts):\n",
    "    cleaned_words = []\n",
    "    for word in texts:\n",
    "        # Remove stopwords and numbers\n",
    "        if word not in stopwords and not word.isdigit() and len(word)>2:\n",
    "            \n",
    "            # Removing punctuations\n",
    "            punc_free = ''.join([ch for ch in word if ch not in string.punctuation])\n",
    "            \n",
    "            # Removing words that have lengths less than 2 as words less than 2 usually provide little to no insights due to low meaning\n",
    "            if len(punc_free)>2 and not punc_free.isdigit():\n",
    "                \n",
    "                # Stemming the words.\n",
    "                cleaned_words.append(porter_stemmer.stem(punc_free))\n",
    "                # Stemming is used to reduce the dimensionality of words in the dataframe.\n",
    "                # Since I'm doing sentiment analysis based on occurrence of words in the text, context won't be necessary as order of words are not captured within the bag of words.\n",
    "                # Therefore, stemming is used over lemmatization to improve computational performance.\n",
    "\n",
    "    return cleaned_words\n",
    "\n",
    "# Create Feature Set\n",
    "df2['review_tokens'] = df2['review'].apply(lambda x: word_tokenize(x.lower()))\n",
    "df2['review_tokens'] = df2['review_tokens'].apply(lambda x: clean(x))  \n",
    "df2.head()"
   ]
  },
  {
   "cell_type": "code",
   "execution_count": 66,
   "id": "eb2bd2aa",
   "metadata": {},
   "outputs": [],
   "source": [
    "# Store all tokens\n",
    "tokens = [tokens for entry in df2.review_tokens for tokens in entry]"
   ]
  },
  {
   "cell_type": "code",
   "execution_count": 67,
   "id": "770f5ada",
   "metadata": {},
   "outputs": [
    {
     "name": "stdout",
     "output_type": "stream",
     "text": [
      "['rocketpeoplemov', 'destinationwalt', 'otherdisneyland', 'sundowndisneyland', 'fantasylandfind', 'makeoverguardian', 'experiencefootnot', 'everyoneregardless', 'magicdisneyland', 'attractionsshow', 'halloweentimeindisnei', 'awesomealthough', 'smallerdisneyland', 'restauranteateri', 'partymatterhornindiana']\n"
     ]
    }
   ],
   "source": [
    "# Checking if there are words above the length of 15\n",
    "odd_lengths = [words for words in tokens if len(words)>14]\n",
    "print(odd_lengths[:15])"
   ]
  },
  {
   "cell_type": "markdown",
   "id": "90a34640",
   "metadata": {},
   "source": [
    "Although there are still words above the length of 15, these words appear at least twice within the corpus. Therefore, they provide some help in the model's classification."
   ]
  },
  {
   "cell_type": "code",
   "execution_count": 68,
   "id": "8e90a290",
   "metadata": {},
   "outputs": [
    {
     "data": {
      "image/png": "[encoded data removed]",
      "text/plain": [
       "<Figure size 640x480 with 1 Axes>"
      ]
     },
     "metadata": {},
     "output_type": "display_data"
    }
   ],
   "source": [
    "# Generate frequency for all the words\n",
    "freq_dist = nltk.FreqDist(tokens)\n",
    "\n",
    "# Visualizing \n",
    "word_length_frequency_dict = dict([(k,v) for k,v in freq_dist.items()])\n",
    "\n",
    "# create frequency distribution of the filtered words\n",
    "freq_dist = nltk.FreqDist(word_length_frequency_dict)\n",
    "\n",
    "# plot the frequency distribution of the top 50 words\n",
    "freq_dist.plot(20, cumulative=False)\n",
    "plt.show()"
   ]
  },
  {
   "cell_type": "code",
   "execution_count": 69,
   "id": "8de9f5cd",
   "metadata": {},
   "outputs": [
    {
     "name": "stdout",
     "output_type": "stream",
     "text": [
      "1 represents positive, 0 represents negative.\n",
      "Total records: 10902\n"
     ]
    },
    {
     "data": {
      "text/html": [
       "<div>\n",
       "<style scoped>\n",
       "    .dataframe tbody tr th:only-of-type {\n",
       "        vertical-align: middle;\n",
       "    }\n",
       "\n",
       "    .dataframe tbody tr th {\n",
       "        vertical-align: top;\n",
       "    }\n",
       "\n",
       "    .dataframe thead th {\n",
       "        text-align: right;\n",
       "    }\n",
       "</style>\n",
       "<table border=\"1\" class=\"dataframe\">\n",
       "  <thead>\n",
       "    <tr style=\"text-align: right;\">\n",
       "      <th></th>\n",
       "      <th>occurrences</th>\n",
       "      <th>occurrences (%)</th>\n",
       "    </tr>\n",
       "  </thead>\n",
       "  <tbody>\n",
       "    <tr>\n",
       "      <th>1</th>\n",
       "      <td>6527</td>\n",
       "      <td>59.87%</td>\n",
       "    </tr>\n",
       "    <tr>\n",
       "      <th>0</th>\n",
       "      <td>4375</td>\n",
       "      <td>40.13%</td>\n",
       "    </tr>\n",
       "  </tbody>\n",
       "</table>\n",
       "</div>"
      ],
      "text/plain": [
       "   occurrences occurrences (%)\n",
       "1         6527          59.87%\n",
       "0         4375          40.13%"
      ]
     },
     "metadata": {},
     "output_type": "display_data"
    }
   ],
   "source": [
    "# print(\"Looking at the distribution of classes in the target column:\")\n",
    "print(\"1 represents positive, 0 represents negative.\")\n",
    "\n",
    "# Checking the distribution of the stars\n",
    "sentiments = pd.DataFrame({'occurrences': df2['sentiment'].value_counts(),\n",
    "                      'occurrences (%)': [str(round((x/len(df2)*100), 2))+\"%\" for x in df2['sentiment'].value_counts()]})\n",
    "print(\"Total records:\", sum(sentiments['occurrences']))\n",
    "display(sentiments)"
   ]
  },
  {
   "cell_type": "markdown",
   "id": "8c161e0f",
   "metadata": {},
   "source": [
    "Majority of the top occuring words are now relevant to the topic such as 'ride', 'time', 'line', etc. These words provide more information and may help improve the classification of the sentiment analysis models.\n",
    "\n",
    "The ratio of positive class (1) to negative class (0) is also balanced of 60:40 respectively."
   ]
  },
  {
   "cell_type": "code",
   "execution_count": 70,
   "id": "345e65b4",
   "metadata": {},
   "outputs": [
    {
     "data": {
      "text/html": [
       "<div>\n",
       "<style scoped>\n",
       "    .dataframe tbody tr th:only-of-type {\n",
       "        vertical-align: middle;\n",
       "    }\n",
       "\n",
       "    .dataframe tbody tr th {\n",
       "        vertical-align: top;\n",
       "    }\n",
       "\n",
       "    .dataframe thead th {\n",
       "        text-align: right;\n",
       "    }\n",
       "</style>\n",
       "<table border=\"1\" class=\"dataframe\">\n",
       "  <thead>\n",
       "    <tr style=\"text-align: right;\">\n",
       "      <th></th>\n",
       "      <th>review</th>\n",
       "      <th>sentiment</th>\n",
       "      <th>sentiment_cleaned_review</th>\n",
       "      <th>review_tokens</th>\n",
       "    </tr>\n",
       "  </thead>\n",
       "  <tbody>\n",
       "    <tr>\n",
       "      <th>0</th>\n",
       "      <td>Everyone said that the days after Christmas ar...</td>\n",
       "      <td>1</td>\n",
       "      <td>everyone said that the days after christmas ar...</td>\n",
       "      <td>[everyon, said, dai, christma, busiest, year, ...</td>\n",
       "    </tr>\n",
       "    <tr>\n",
       "      <th>1</th>\n",
       "      <td>Went here in 2010 it was great but much better...</td>\n",
       "      <td>1</td>\n",
       "      <td>went here in   it was great but much better if...</td>\n",
       "      <td>[went, great, much, better, kid, gone, famili,...</td>\n",
       "    </tr>\n",
       "    <tr>\n",
       "      <th>2</th>\n",
       "      <td>As any good amusement park has: it is crowded....</td>\n",
       "      <td>1</td>\n",
       "      <td>as any good amusement park has  it is crowded ...</td>\n",
       "      <td>[good, amus, crowd, look, food, within, recomm...</td>\n",
       "    </tr>\n",
       "    <tr>\n",
       "      <th>3</th>\n",
       "      <td>Love, Love, Love this place!  Came here since ...</td>\n",
       "      <td>1</td>\n",
       "      <td>love  love  love this place   came here since ...</td>\n",
       "      <td>[love, love, love, place, came, sinc, littl, d...</td>\n",
       "    </tr>\n",
       "    <tr>\n",
       "      <th>4</th>\n",
       "      <td>It's Disneyland. Somewhere that, if finances a...</td>\n",
       "      <td>1</td>\n",
       "      <td>its disneyland  somewhere that  if finances af...</td>\n",
       "      <td>[somewher, financ, afford, freedom, somewher, ...</td>\n",
       "    </tr>\n",
       "  </tbody>\n",
       "</table>\n",
       "</div>"
      ],
      "text/plain": [
       "                                              review  sentiment  \\\n",
       "0  Everyone said that the days after Christmas ar...          1   \n",
       "1  Went here in 2010 it was great but much better...          1   \n",
       "2  As any good amusement park has: it is crowded....          1   \n",
       "3  Love, Love, Love this place!  Came here since ...          1   \n",
       "4  It's Disneyland. Somewhere that, if finances a...          1   \n",
       "\n",
       "                            sentiment_cleaned_review  \\\n",
       "0  everyone said that the days after christmas ar...   \n",
       "1  went here in   it was great but much better if...   \n",
       "2  as any good amusement park has  it is crowded ...   \n",
       "3  love  love  love this place   came here since ...   \n",
       "4  its disneyland  somewhere that  if finances af...   \n",
       "\n",
       "                                       review_tokens  \n",
       "0  [everyon, said, dai, christma, busiest, year, ...  \n",
       "1  [went, great, much, better, kid, gone, famili,...  \n",
       "2  [good, amus, crowd, look, food, within, recomm...  \n",
       "3  [love, love, love, place, came, sinc, littl, d...  \n",
       "4  [somewher, financ, afford, freedom, somewher, ...  "
      ]
     },
     "execution_count": 70,
     "metadata": {},
     "output_type": "execute_result"
    }
   ],
   "source": [
    "df2.head()"
   ]
  },
  {
   "cell_type": "code",
   "execution_count": 71,
   "id": "c56cc618",
   "metadata": {},
   "outputs": [],
   "source": [
    "df2[['sentiment', 'review_tokens']].to_csv(\"sentiment_classification_reviews.csv\", index=False, encoding='utf-8')"
   ]
  },
  {
   "cell_type": "markdown",
   "id": "9c77bb0f",
   "metadata": {},
   "source": [
    "# Data Preparation - For Topic Modelling\n",
    "\n",
    "Only the texts are required for topic modelling. I will be using the df2 dataframe, which is the balanced dataframe. \n",
    "\n",
    "Balancing the target class in topic modeling is not required. However, it can be beneficial depending on the data and the objective of the model. If the target class is imbalanced, the topics might be mostly about positive or negative aspects only. Therefore, I will use the balanced dataframe, df2."
   ]
  },
  {
   "cell_type": "code",
   "execution_count": 72,
   "id": "51465482",
   "metadata": {},
   "outputs": [],
   "source": [
    "# Store reviews in a variable\n",
    "reviews = [review.lower() for review in df2['review']]"
   ]
  },
  {
   "cell_type": "code",
   "execution_count": 73,
   "id": "22b5c522",
   "metadata": {},
   "outputs": [],
   "source": [
    "import re\n",
    "\n",
    "# Removing // words.\n",
    "doubleslashed_pattern = '[^\\s]*(//)+[^\\s]*'\n",
    "\n",
    "# Removing links\n",
    "link_pattern = '[^\\s]*(\\.)+[^\\s]*(\\/)+[^\\s]*'\n",
    "\n",
    "# Removing remaining punctuations/numbers\n",
    "remaining_pattern = '[^a-zA-Z\\s]+'\n",
    "\n",
    "for ind in df2.index:\n",
    "    reviews[ind] = re.sub(doubleslashed_pattern, '', reviews[ind])\n",
    "    reviews[ind] = re.sub(link_pattern, ' ', reviews[ind])\n",
    "    reviews[ind] = re.sub(remaining_pattern, ' ', reviews[ind])"
   ]
  },
  {
   "cell_type": "code",
   "execution_count": 74,
   "id": "a127eddb",
   "metadata": {},
   "outputs": [],
   "source": [
    "doc_clean = [review.split() for review in reviews]"
   ]
  },
  {
   "cell_type": "code",
   "execution_count": 75,
   "id": "5820b49e",
   "metadata": {},
   "outputs": [],
   "source": [
    "for index in range(len(doc_clean)):\n",
    "    clean_words = []\n",
    "    for word in doc_clean[index]:\n",
    "        # Removing stopwords, numbers, and words with length of below 2. These inputs provide little to no value for topic modelling\n",
    "        if word not in stopwords and not word.isdigit() and len(word)>2:\n",
    "            punc_free = ''.join([ch for ch in word if ch not in string.punctuation])\n",
    "            # Ensure length of word is still above 2 after removing punctuation in words\n",
    "            if len(punc_free)>2 and not punc_free.isdigit():\n",
    "                clean_words.append(punc_free)\n",
    "    doc_clean[index] = clean_words"
   ]
  },
  {
   "cell_type": "markdown",
   "id": "e4d38e83",
   "metadata": {},
   "source": [
    "Other data pre-processing steps such as lemmatizing and common word removal will be performed in the modelling notebook. This allows for flexible change of data processing steps."
   ]
  },
  {
   "cell_type": "code",
   "execution_count": 76,
   "id": "ba35f91e",
   "metadata": {},
   "outputs": [],
   "source": [
    "# Store the cleaned text in a dataframe. \n",
    "# Sentiment is not required for topic modelling.\n",
    "topic_clean_reviews = pd.DataFrame({\"reviews\":doc_clean})"
   ]
  },
  {
   "cell_type": "code",
   "execution_count": 77,
   "id": "2833ad88",
   "metadata": {},
   "outputs": [
    {
     "data": {
      "text/html": [
       "<div>\n",
       "<style scoped>\n",
       "    .dataframe tbody tr th:only-of-type {\n",
       "        vertical-align: middle;\n",
       "    }\n",
       "\n",
       "    .dataframe tbody tr th {\n",
       "        vertical-align: top;\n",
       "    }\n",
       "\n",
       "    .dataframe thead th {\n",
       "        text-align: right;\n",
       "    }\n",
       "</style>\n",
       "<table border=\"1\" class=\"dataframe\">\n",
       "  <thead>\n",
       "    <tr style=\"text-align: right;\">\n",
       "      <th></th>\n",
       "      <th>reviews</th>\n",
       "    </tr>\n",
       "  </thead>\n",
       "  <tbody>\n",
       "    <tr>\n",
       "      <th>0</th>\n",
       "      <td>[everyone, said, days, christmas, busiest, yea...</td>\n",
       "    </tr>\n",
       "    <tr>\n",
       "      <th>1</th>\n",
       "      <td>[went, great, much, better, kids, gone, famili...</td>\n",
       "    </tr>\n",
       "    <tr>\n",
       "      <th>2</th>\n",
       "      <td>[good, amusement, crowded, looking, food, with...</td>\n",
       "    </tr>\n",
       "    <tr>\n",
       "      <th>3</th>\n",
       "      <td>[love, love, love, place, came, since, little,...</td>\n",
       "    </tr>\n",
       "    <tr>\n",
       "      <th>4</th>\n",
       "      <td>[somewhere, finances, afford, freedom, somewhe...</td>\n",
       "    </tr>\n",
       "  </tbody>\n",
       "</table>\n",
       "</div>"
      ],
      "text/plain": [
       "                                             reviews\n",
       "0  [everyone, said, days, christmas, busiest, yea...\n",
       "1  [went, great, much, better, kids, gone, famili...\n",
       "2  [good, amusement, crowded, looking, food, with...\n",
       "3  [love, love, love, place, came, since, little,...\n",
       "4  [somewhere, finances, afford, freedom, somewhe..."
      ]
     },
     "execution_count": 77,
     "metadata": {},
     "output_type": "execute_result"
    }
   ],
   "source": [
    "topic_clean_reviews.head()"
   ]
  },
  {
   "cell_type": "code",
   "execution_count": 78,
   "id": "149fcaa8",
   "metadata": {},
   "outputs": [],
   "source": [
    "# Export the data\n",
    "topic_clean_reviews.to_csv(\"topic_modelling_reviews.csv\", index=False, encoding='utf-8')"
   ]
  }
 ],
 "metadata": {
  "kernelspec": {
   "display_name": "Python 3 (ipykernel)",
   "language": "python",
   "name": "python3"
  },
  "language_info": {
   "codemirror_mode": {
    "name": "ipython",
    "version": 3
   },
   "file_extension": ".py",
   "mimetype": "text/x-python",
   "name": "python",
   "nbconvert_exporter": "python",
   "pygments_lexer": "ipython3",
   "version": "3.9.13"
  }
 },
 "nbformat": 4,
 "nbformat_minor": 5
}
