{
 "cells": [
  {
   "cell_type": "markdown",
   "id": "e083ae09",
   "metadata": {},
   "source": [
    "# Data Prepartion on DisneyLand Dataset"
   ]
  },
  {
   "cell_type": "markdown",
   "id": "b100e44b",
   "metadata": {},
   "source": [
    "## Importing the Dataset"
   ]
  },
  {
   "cell_type": "code",
   "execution_count": 1,
   "id": "7c7636d2",
   "metadata": {},
   "outputs": [],
   "source": [
    "# Importing necessary libraries\n",
    "import pandas as pd\n",
    "import matplotlib.pyplot as plt\n",
    "import seaborn as sns\n",
    "import nltk\n",
    "import re"
   ]
  },
  {
   "cell_type": "code",
   "execution_count": 2,
   "id": "bdea1f28",
   "metadata": {},
   "outputs": [
    {
     "data": {
      "text/html": [
       "<div>\n",
       "<style scoped>\n",
       "    .dataframe tbody tr th:only-of-type {\n",
       "        vertical-align: middle;\n",
       "    }\n",
       "\n",
       "    .dataframe tbody tr th {\n",
       "        vertical-align: top;\n",
       "    }\n",
       "\n",
       "    .dataframe thead th {\n",
       "        text-align: right;\n",
       "    }\n",
       "</style>\n",
       "<table border=\"1\" class=\"dataframe\">\n",
       "  <thead>\n",
       "    <tr style=\"text-align: right;\">\n",
       "      <th></th>\n",
       "      <th>review</th>\n",
       "      <th>rating</th>\n",
       "      <th>date</th>\n",
       "    </tr>\n",
       "  </thead>\n",
       "  <tbody>\n",
       "    <tr>\n",
       "      <th>0</th>\n",
       "      <td>This place is definitely the happiest place on...</td>\n",
       "      <td>5 star rating</td>\n",
       "      <td>12/26/2022</td>\n",
       "    </tr>\n",
       "    <tr>\n",
       "      <th>1</th>\n",
       "      <td>Disneyland is great for the themes and nostalg...</td>\n",
       "      <td>4 star rating</td>\n",
       "      <td>1/8/2023</td>\n",
       "    </tr>\n",
       "    <tr>\n",
       "      <th>2</th>\n",
       "      <td>Price range: ridiculously high To consider: lo...</td>\n",
       "      <td>2 star rating</td>\n",
       "      <td>1/10/2023</td>\n",
       "    </tr>\n",
       "    <tr>\n",
       "      <th>3</th>\n",
       "      <td>The Mickey Mouse Salted Pretzel from the Coca ...</td>\n",
       "      <td>1 star rating</td>\n",
       "      <td>1/10/2023</td>\n",
       "    </tr>\n",
       "    <tr>\n",
       "      <th>4</th>\n",
       "      <td>Nicole, Blonde girl, pirates of the Caribbean ...</td>\n",
       "      <td>1 star rating</td>\n",
       "      <td>1/9/2023</td>\n",
       "    </tr>\n",
       "  </tbody>\n",
       "</table>\n",
       "</div>"
      ],
      "text/plain": [
       "                                              review         rating  \\\n",
       "0  This place is definitely the happiest place on...  5 star rating   \n",
       "1  Disneyland is great for the themes and nostalg...  4 star rating   \n",
       "2  Price range: ridiculously high To consider: lo...  2 star rating   \n",
       "3  The Mickey Mouse Salted Pretzel from the Coca ...  1 star rating   \n",
       "4  Nicole, Blonde girl, pirates of the Caribbean ...  1 star rating   \n",
       "\n",
       "         date  \n",
       "0  12/26/2022  \n",
       "1    1/8/2023  \n",
       "2   1/10/2023  \n",
       "3   1/10/2023  \n",
       "4    1/9/2023  "
      ]
     },
     "execution_count": 2,
     "metadata": {},
     "output_type": "execute_result"
    }
   ],
   "source": [
    "# Importing the scrape dataset\n",
    "df = pd.DataFrame(pd.read_csv(\"merged_reviews.csv\"))\n",
    "df.head()"
   ]
  },
  {
   "cell_type": "markdown",
   "id": "2ccaa8fe",
   "metadata": {},
   "source": [
    "## Data Understanding and Preparation"
   ]
  },
  {
   "cell_type": "code",
   "execution_count": 3,
   "id": "5e75b513",
   "metadata": {},
   "outputs": [
    {
     "name": "stdout",
     "output_type": "stream",
     "text": [
      "Number of records in the dataframe: 31800\n",
      "Columns in the dataframe: ['review', 'rating', 'date']\n"
     ]
    }
   ],
   "source": [
    "print(\"Number of records in the dataframe:\",df.shape[0])\n",
    "print(\"Columns in the dataframe:\",list(df.columns))"
   ]
  },
  {
   "cell_type": "code",
   "execution_count": 4,
   "id": "db22c3ea",
   "metadata": {},
   "outputs": [
    {
     "name": "stdout",
     "output_type": "stream",
     "text": [
      "Null values in the dataframe:\n"
     ]
    },
    {
     "data": {
      "text/plain": [
       "review      0\n",
       "rating      0\n",
       "date      402\n",
       "dtype: int64"
      ]
     },
     "execution_count": 4,
     "metadata": {},
     "output_type": "execute_result"
    }
   ],
   "source": [
    "# Checking for any null values in the dataframe\n",
    "print(\"Null values in the dataframe:\")\n",
    "df.isna().sum()"
   ]
  },
  {
   "cell_type": "markdown",
   "id": "dcb0a5b9",
   "metadata": {},
   "source": [
    "There are no null values in the review or rating column. "
   ]
  },
  {
   "cell_type": "markdown",
   "id": "1a881dca",
   "metadata": {},
   "source": [
    "### Data Preparation - Duplicated Records"
   ]
  },
  {
   "cell_type": "code",
   "execution_count": 5,
   "id": "71b9562e",
   "metadata": {},
   "outputs": [
    {
     "data": {
      "text/html": [
       "<div>\n",
       "<style scoped>\n",
       "    .dataframe tbody tr th:only-of-type {\n",
       "        vertical-align: middle;\n",
       "    }\n",
       "\n",
       "    .dataframe tbody tr th {\n",
       "        vertical-align: top;\n",
       "    }\n",
       "\n",
       "    .dataframe thead th {\n",
       "        text-align: right;\n",
       "    }\n",
       "</style>\n",
       "<table border=\"1\" class=\"dataframe\">\n",
       "  <thead>\n",
       "    <tr style=\"text-align: right;\">\n",
       "      <th></th>\n",
       "      <th>review</th>\n",
       "      <th>rating</th>\n",
       "      <th>date</th>\n",
       "    </tr>\n",
       "  </thead>\n",
       "  <tbody>\n",
       "    <tr>\n",
       "      <th>4441</th>\n",
       "      <td>Disney World might be larger, but Disneyland w...</td>\n",
       "      <td>5 star rating</td>\n",
       "      <td>6/19/2016</td>\n",
       "    </tr>\n",
       "    <tr>\n",
       "      <th>6134</th>\n",
       "      <td>How far Disneyland has fallen over time!! I gr...</td>\n",
       "      <td>2</td>\n",
       "      <td>Jul 2022</td>\n",
       "    </tr>\n",
       "    <tr>\n",
       "      <th>6268</th>\n",
       "      <td>Usually don’t  review something as big as Disn...</td>\n",
       "      <td>2</td>\n",
       "      <td>NaN</td>\n",
       "    </tr>\n",
       "    <tr>\n",
       "      <th>6984</th>\n",
       "      <td>My autistic son was at Disneyland today and wa...</td>\n",
       "      <td>1</td>\n",
       "      <td>Aug 2019 • Family</td>\n",
       "    </tr>\n",
       "    <tr>\n",
       "      <th>7038</th>\n",
       "      <td>I went here for a week with my brother. What a...</td>\n",
       "      <td>5</td>\n",
       "      <td>Jul 2019 • Family</td>\n",
       "    </tr>\n",
       "    <tr>\n",
       "      <th>...</th>\n",
       "      <td>...</td>\n",
       "      <td>...</td>\n",
       "      <td>...</td>\n",
       "    </tr>\n",
       "    <tr>\n",
       "      <th>29349</th>\n",
       "      <td>I had no expectations of trip to Disneyland be...</td>\n",
       "      <td>5/5</td>\n",
       "      <td>5 years ago on  Google</td>\n",
       "    </tr>\n",
       "    <tr>\n",
       "      <th>29872</th>\n",
       "      <td>My family and I are huge Disney fans, but afte...</td>\n",
       "      <td>1/5</td>\n",
       "      <td>6 years ago on  Google</td>\n",
       "    </tr>\n",
       "    <tr>\n",
       "      <th>31059</th>\n",
       "      <td>We have been having such a hard time this year...</td>\n",
       "      <td>1/5</td>\n",
       "      <td>7 years ago on  Google</td>\n",
       "    </tr>\n",
       "    <tr>\n",
       "      <th>31273</th>\n",
       "      <td>It's Disneyland! What can I say that you don't...</td>\n",
       "      <td>5/5</td>\n",
       "      <td>6 years ago on  Google</td>\n",
       "    </tr>\n",
       "    <tr>\n",
       "      <th>31286</th>\n",
       "      <td>I’ve been to Disneyland Hong Kong, Tokyo and D...</td>\n",
       "      <td>5/5</td>\n",
       "      <td>4 years ago on  Google</td>\n",
       "    </tr>\n",
       "  </tbody>\n",
       "</table>\n",
       "<p>65 rows × 3 columns</p>\n",
       "</div>"
      ],
      "text/plain": [
       "                                                  review         rating  \\\n",
       "4441   Disney World might be larger, but Disneyland w...  5 star rating   \n",
       "6134   How far Disneyland has fallen over time!! I gr...              2   \n",
       "6268   Usually don’t  review something as big as Disn...              2   \n",
       "6984   My autistic son was at Disneyland today and wa...              1   \n",
       "7038   I went here for a week with my brother. What a...              5   \n",
       "...                                                  ...            ...   \n",
       "29349  I had no expectations of trip to Disneyland be...            5/5   \n",
       "29872  My family and I are huge Disney fans, but afte...            1/5   \n",
       "31059  We have been having such a hard time this year...            1/5   \n",
       "31273  It's Disneyland! What can I say that you don't...            5/5   \n",
       "31286  I’ve been to Disneyland Hong Kong, Tokyo and D...            5/5   \n",
       "\n",
       "                         date  \n",
       "4441                6/19/2016  \n",
       "6134                 Jul 2022  \n",
       "6268                      NaN  \n",
       "6984        Aug 2019 • Family  \n",
       "7038        Jul 2019 • Family  \n",
       "...                       ...  \n",
       "29349  5 years ago on  Google  \n",
       "29872  6 years ago on  Google  \n",
       "31059  7 years ago on  Google  \n",
       "31273  6 years ago on  Google  \n",
       "31286  4 years ago on  Google  \n",
       "\n",
       "[65 rows x 3 columns]"
      ]
     },
     "execution_count": 5,
     "metadata": {},
     "output_type": "execute_result"
    }
   ],
   "source": [
    "df[df.review.duplicated()]"
   ]
  },
  {
   "cell_type": "markdown",
   "id": "cbab6852",
   "metadata": {},
   "source": [
    "From this dataframe, the duplicated texts are quite long and highly unlikely that it was an original review. \n",
    "\n",
    "Therefore, I will remove duplicated reviews to reduce the dimension of the dataframe.\n",
    "\n",
    "Additionally, there are some difference in the format of the rating and date. The format of these data need to be formatted properly for analysis."
   ]
  },
  {
   "cell_type": "code",
   "execution_count": 6,
   "id": "6622a896",
   "metadata": {},
   "outputs": [
    {
     "name": "stdout",
     "output_type": "stream",
     "text": [
      "Percentage of duplicates in the dataframe: 0.20440251572327045 %\n"
     ]
    }
   ],
   "source": [
    "print(\"Percentage of duplicates in the dataframe:\",(len(df[df.review.duplicated()])/df.shape[0])*100,\"%\")"
   ]
  },
  {
   "cell_type": "markdown",
   "id": "8ffab748",
   "metadata": {},
   "source": [
    "The total percentage of duplicates in the dataframe contribute only 0.20% of the dataframe. Since there are so little duplicates and dropping the duplicates would barely affect the dataframe's size, I decided that the best approach to handling duplicates would be to drop them"
   ]
  },
  {
   "cell_type": "code",
   "execution_count": 7,
   "id": "b64552db",
   "metadata": {},
   "outputs": [
    {
     "name": "stdout",
     "output_type": "stream",
     "text": [
      "Number of records before dropping duplicate: 31800\n",
      "Number of records after dropping duplicate: 31735\n"
     ]
    }
   ],
   "source": [
    "print(\"Number of records before dropping duplicate:\",df.shape[0])\n",
    "df = df.drop_duplicates(subset='review')\n",
    "print(\"Number of records after dropping duplicate:\",df.shape[0])"
   ]
  },
  {
   "cell_type": "code",
   "execution_count": 8,
   "id": "d171f218",
   "metadata": {},
   "outputs": [],
   "source": [
    "# Resetting the index of the dataframe after removing duplicates\n",
    "df = df.reset_index(drop=True)"
   ]
  },
  {
   "cell_type": "markdown",
   "id": "c504157e",
   "metadata": {},
   "source": [
    "### Data Understanding - Rating\n",
    "\n",
    "Extract the given rating from the different rating formats"
   ]
  },
  {
   "cell_type": "code",
   "execution_count": 9,
   "id": "97763a60",
   "metadata": {},
   "outputs": [
    {
     "name": "stdout",
     "output_type": "stream",
     "text": [
      "['5 star rating', '4 star rating', '2 star rating', '1 star rating', '3 star rating', '5', '4', '3', '1', '2', '5/5', '4/5', '3/5', '1/5', '2/5']\n"
     ]
    }
   ],
   "source": [
    "print(list(df['rating'].unique()))"
   ]
  },
  {
   "cell_type": "code",
   "execution_count": 10,
   "id": "2672c565",
   "metadata": {},
   "outputs": [],
   "source": [
    "# Extract the ratings\n",
    "def extract_rating(rating_string):\n",
    "    if \"star\" in rating_string:\n",
    "        # Extract the index 0 which will always be the rating.\n",
    "        return int(rating_string.split(\" \")[0])\n",
    "    else:\n",
    "        return int(rating_string.split(\"/\")[0])\n",
    "    \n",
    "extracted_ratings = [extract_rating(rating) for rating in df['rating']]"
   ]
  },
  {
   "cell_type": "code",
   "execution_count": 11,
   "id": "89c98d6f",
   "metadata": {},
   "outputs": [],
   "source": [
    "df['rating'] = extracted_ratings"
   ]
  },
  {
   "cell_type": "code",
   "execution_count": 12,
   "id": "7dffa9cd",
   "metadata": {},
   "outputs": [
    {
     "data": {
      "text/html": [
       "<div>\n",
       "<style scoped>\n",
       "    .dataframe tbody tr th:only-of-type {\n",
       "        vertical-align: middle;\n",
       "    }\n",
       "\n",
       "    .dataframe tbody tr th {\n",
       "        vertical-align: top;\n",
       "    }\n",
       "\n",
       "    .dataframe thead th {\n",
       "        text-align: right;\n",
       "    }\n",
       "</style>\n",
       "<table border=\"1\" class=\"dataframe\">\n",
       "  <thead>\n",
       "    <tr style=\"text-align: right;\">\n",
       "      <th></th>\n",
       "      <th>review</th>\n",
       "      <th>rating</th>\n",
       "      <th>date</th>\n",
       "    </tr>\n",
       "  </thead>\n",
       "  <tbody>\n",
       "    <tr>\n",
       "      <th>0</th>\n",
       "      <td>This place is definitely the happiest place on...</td>\n",
       "      <td>5</td>\n",
       "      <td>12/26/2022</td>\n",
       "    </tr>\n",
       "    <tr>\n",
       "      <th>1</th>\n",
       "      <td>Disneyland is great for the themes and nostalg...</td>\n",
       "      <td>4</td>\n",
       "      <td>1/8/2023</td>\n",
       "    </tr>\n",
       "    <tr>\n",
       "      <th>2</th>\n",
       "      <td>Price range: ridiculously high To consider: lo...</td>\n",
       "      <td>2</td>\n",
       "      <td>1/10/2023</td>\n",
       "    </tr>\n",
       "    <tr>\n",
       "      <th>3</th>\n",
       "      <td>The Mickey Mouse Salted Pretzel from the Coca ...</td>\n",
       "      <td>1</td>\n",
       "      <td>1/10/2023</td>\n",
       "    </tr>\n",
       "    <tr>\n",
       "      <th>4</th>\n",
       "      <td>Nicole, Blonde girl, pirates of the Caribbean ...</td>\n",
       "      <td>1</td>\n",
       "      <td>1/9/2023</td>\n",
       "    </tr>\n",
       "  </tbody>\n",
       "</table>\n",
       "</div>"
      ],
      "text/plain": [
       "                                              review  rating        date\n",
       "0  This place is definitely the happiest place on...       5  12/26/2022\n",
       "1  Disneyland is great for the themes and nostalg...       4    1/8/2023\n",
       "2  Price range: ridiculously high To consider: lo...       2   1/10/2023\n",
       "3  The Mickey Mouse Salted Pretzel from the Coca ...       1   1/10/2023\n",
       "4  Nicole, Blonde girl, pirates of the Caribbean ...       1    1/9/2023"
      ]
     },
     "execution_count": 12,
     "metadata": {},
     "output_type": "execute_result"
    }
   ],
   "source": [
    "df.head()"
   ]
  },
  {
   "cell_type": "code",
   "execution_count": 13,
   "id": "eecc597c",
   "metadata": {},
   "outputs": [
    {
     "name": "stdout",
     "output_type": "stream",
     "text": [
      "Types of rating: [5, 4, 2, 1, 3]\n"
     ]
    }
   ],
   "source": [
    "print(\"Types of rating:\",list(df.rating.unique()))"
   ]
  },
  {
   "cell_type": "markdown",
   "id": "be4b2c82",
   "metadata": {},
   "source": [
    "### Data Preparation - Converting Rating to Sentiment\n",
    "\n",
    "I assign records with 1 or 2 stars as 'negative', while 4 and 5 stars as 'positive'.\n",
    "\n",
    "As for texts with a star rating of 3, I assume that the text is neutral; the text may contain either both positive and negative sentiments or none. Since I'm interested in classifying texts into positive or negative classes only so that the business is able to know their customer's sentiment toward their product or service without a grey area (neutral ratings), I will remove records with 3 stars."
   ]
  },
  {
   "cell_type": "code",
   "execution_count": 14,
   "id": "977e421f",
   "metadata": {},
   "outputs": [],
   "source": [
    "# Removing star rating of 3 because it is neutral\n",
    "df = df[df.rating!=3]"
   ]
  },
  {
   "cell_type": "code",
   "execution_count": 15,
   "id": "d8aa9eb3",
   "metadata": {},
   "outputs": [],
   "source": [
    "df = df.reset_index(drop=True)"
   ]
  },
  {
   "cell_type": "code",
   "execution_count": 16,
   "id": "f7fb9863",
   "metadata": {
    "scrolled": true
   },
   "outputs": [],
   "source": [
    "# Machine Learning Models can not work on categorical variables in the form of strings, \n",
    "# so we need to change it into numerical form.\n",
    "df['sentiment'] = df.rating.apply(lambda x: 1 if x >= 4 else 0)\n",
    "df = df.drop(columns='rating')"
   ]
  },
  {
   "cell_type": "code",
   "execution_count": 17,
   "id": "d9c05fb5",
   "metadata": {},
   "outputs": [
    {
     "data": {
      "text/html": [
       "<div>\n",
       "<style scoped>\n",
       "    .dataframe tbody tr th:only-of-type {\n",
       "        vertical-align: middle;\n",
       "    }\n",
       "\n",
       "    .dataframe tbody tr th {\n",
       "        vertical-align: top;\n",
       "    }\n",
       "\n",
       "    .dataframe thead th {\n",
       "        text-align: right;\n",
       "    }\n",
       "</style>\n",
       "<table border=\"1\" class=\"dataframe\">\n",
       "  <thead>\n",
       "    <tr style=\"text-align: right;\">\n",
       "      <th></th>\n",
       "      <th>review</th>\n",
       "      <th>date</th>\n",
       "      <th>sentiment</th>\n",
       "    </tr>\n",
       "  </thead>\n",
       "  <tbody>\n",
       "    <tr>\n",
       "      <th>0</th>\n",
       "      <td>This place is definitely the happiest place on...</td>\n",
       "      <td>12/26/2022</td>\n",
       "      <td>1</td>\n",
       "    </tr>\n",
       "    <tr>\n",
       "      <th>1</th>\n",
       "      <td>Disneyland is great for the themes and nostalg...</td>\n",
       "      <td>1/8/2023</td>\n",
       "      <td>1</td>\n",
       "    </tr>\n",
       "    <tr>\n",
       "      <th>2</th>\n",
       "      <td>Price range: ridiculously high To consider: lo...</td>\n",
       "      <td>1/10/2023</td>\n",
       "      <td>0</td>\n",
       "    </tr>\n",
       "    <tr>\n",
       "      <th>3</th>\n",
       "      <td>The Mickey Mouse Salted Pretzel from the Coca ...</td>\n",
       "      <td>1/10/2023</td>\n",
       "      <td>0</td>\n",
       "    </tr>\n",
       "    <tr>\n",
       "      <th>4</th>\n",
       "      <td>Nicole, Blonde girl, pirates of the Caribbean ...</td>\n",
       "      <td>1/9/2023</td>\n",
       "      <td>0</td>\n",
       "    </tr>\n",
       "  </tbody>\n",
       "</table>\n",
       "</div>"
      ],
      "text/plain": [
       "                                              review        date  sentiment\n",
       "0  This place is definitely the happiest place on...  12/26/2022          1\n",
       "1  Disneyland is great for the themes and nostalg...    1/8/2023          1\n",
       "2  Price range: ridiculously high To consider: lo...   1/10/2023          0\n",
       "3  The Mickey Mouse Salted Pretzel from the Coca ...   1/10/2023          0\n",
       "4  Nicole, Blonde girl, pirates of the Caribbean ...    1/9/2023          0"
      ]
     },
     "execution_count": 17,
     "metadata": {},
     "output_type": "execute_result"
    }
   ],
   "source": [
    "df.head()"
   ]
  },
  {
   "cell_type": "code",
   "execution_count": 18,
   "id": "d5e796e6",
   "metadata": {},
   "outputs": [
    {
     "name": "stdout",
     "output_type": "stream",
     "text": [
      "Looking at the distribution of classes in the target column:\n",
      "1 represents positive, 0 represents negative.\n",
      "Total records: 28947\n"
     ]
    },
    {
     "data": {
      "text/html": [
       "<div>\n",
       "<style scoped>\n",
       "    .dataframe tbody tr th:only-of-type {\n",
       "        vertical-align: middle;\n",
       "    }\n",
       "\n",
       "    .dataframe tbody tr th {\n",
       "        vertical-align: top;\n",
       "    }\n",
       "\n",
       "    .dataframe thead th {\n",
       "        text-align: right;\n",
       "    }\n",
       "</style>\n",
       "<table border=\"1\" class=\"dataframe\">\n",
       "  <thead>\n",
       "    <tr style=\"text-align: right;\">\n",
       "      <th></th>\n",
       "      <th>occurrences</th>\n",
       "      <th>occurrences (%)</th>\n",
       "    </tr>\n",
       "  </thead>\n",
       "  <tbody>\n",
       "    <tr>\n",
       "      <th>1</th>\n",
       "      <td>24556</td>\n",
       "      <td>84.83%</td>\n",
       "    </tr>\n",
       "    <tr>\n",
       "      <th>0</th>\n",
       "      <td>4391</td>\n",
       "      <td>15.17%</td>\n",
       "    </tr>\n",
       "  </tbody>\n",
       "</table>\n",
       "</div>"
      ],
      "text/plain": [
       "   occurrences occurrences (%)\n",
       "1        24556          84.83%\n",
       "0         4391          15.17%"
      ]
     },
     "metadata": {},
     "output_type": "display_data"
    },
    {
     "data": {
      "image/png": "[encoded data removed]",
      "text/plain": [
       "<Figure size 1400x600 with 1 Axes>"
      ]
     },
     "metadata": {},
     "output_type": "display_data"
    }
   ],
   "source": [
    "print(\"Looking at the distribution of classes in the target column:\")\n",
    "print(\"1 represents positive, 0 represents negative.\")\n",
    "\n",
    "# Checking the distribution of the stars\n",
    "sentiments = pd.DataFrame({'occurrences': df['sentiment'].value_counts(),\n",
    "                      'occurrences (%)': [str(round((x/len(df)*100), 2))+\"%\" for x in df['sentiment'].value_counts()]})\n",
    "print(\"Total records:\", sum(sentiments['occurrences']))\n",
    "display(sentiments)\n",
    "\n",
    "labels = round((df['sentiment'].value_counts()/len(df)*100),2)\n",
    "sizes = round((df['sentiment'].value_counts()/len(df)*100),2)\n",
    "color = ['palegreen', 'lightcoral']\n",
    "(df['sentiment'].value_counts()/len(df)*100).plot(kind='pie', figsize=(14,6), colors=color, autopct = '%1.1f%%')\n",
    "plt.legend(labels, loc=\"best\")\n",
    "plt.tight_layout()\n",
    "plt.show()"
   ]
  },
  {
   "cell_type": "markdown",
   "id": "c6b57d32",
   "metadata": {},
   "source": [
    "The ratio of positive to negative is quite unbalanced of 85%:15% respectively. The data is heavily unbalanced. Therefore, data balancing is required later."
   ]
  },
  {
   "cell_type": "markdown",
   "id": "01dfc096",
   "metadata": {},
   "source": [
    "### Data Understanding - Spread of Reviews across Date\n",
    "\n",
    "The date column will not be used for sentiment analysis. However, I would like to analyze the trend of reviews over the year."
   ]
  },
  {
   "cell_type": "code",
   "execution_count": 19,
   "id": "c61cbabf",
   "metadata": {},
   "outputs": [
    {
     "name": "stdout",
     "output_type": "stream",
     "text": [
      "Number of null dates: 352\n"
     ]
    }
   ],
   "source": [
    "print(\"Number of null dates:\",df['date'].isna().sum())"
   ]
  },
  {
   "cell_type": "code",
   "execution_count": 20,
   "id": "10222500",
   "metadata": {},
   "outputs": [],
   "source": [
    "# Since I'm only analyzing the date, I will drop those NA values so that it will not affect the original date spread.\n",
    "# I will also store it in a secondary dataframe for analysis so that the original records will be maintained.\n",
    "df_date = pd.DataFrame(df['date'].dropna())"
   ]
  },
  {
   "cell_type": "code",
   "execution_count": 21,
   "id": "e83e5c13",
   "metadata": {},
   "outputs": [
    {
     "data": {
      "text/plain": [
       "28595"
      ]
     },
     "execution_count": 21,
     "metadata": {},
     "output_type": "execute_result"
    }
   ],
   "source": [
    "df_date.shape[0]"
   ]
  },
  {
   "cell_type": "markdown",
   "id": "5084bf9e",
   "metadata": {},
   "source": [
    "As identified earlier when looking at the duplicates, the dates are stored in different formats such as:\n",
    "```\n",
    "['6/19/2016', 'Jul 2022', 'NaN', 'Aug 2019 • Family', '5 years ago on Google']\n",
    "```\n",
    "In order to analyse the trend of reviews, I need to extract their years."
   ]
  },
  {
   "cell_type": "markdown",
   "id": "bf74f2f8",
   "metadata": {},
   "source": [
    "### Performing simple review count trend analysis"
   ]
  },
  {
   "cell_type": "code",
   "execution_count": 22,
   "id": "99859648",
   "metadata": {},
   "outputs": [],
   "source": [
    "# Code to clean the dates\n",
    "import datetime\n",
    "\n",
    "def extract_year(date_string):\n",
    "    if \"ago\" in str(date_string):\n",
    "        date_parts = date_string.split(\" \")\n",
    "        now = datetime.datetime.now()\n",
    "        if \"year\" in date_parts[1]:\n",
    "            if 'a' in str(date_parts[0]):\n",
    "                years_ago = 1\n",
    "            else:\n",
    "                years_ago = int(date_parts[0])\n",
    "            extracted_year = now.year - years_ago\n",
    "        elif \"month\" in date_parts[1]:\n",
    "            if \"a\" in date_parts[0]:\n",
    "                months_ago = 1\n",
    "            else:\n",
    "                months_ago = int(date_parts[0])\n",
    "            extracted_year = now.year - (months_ago // 12)\n",
    "        elif \"week\" in date_parts[1]:\n",
    "            if \"a\" in date_parts[0]:\n",
    "                weeks_ago = 1\n",
    "            else:\n",
    "                weeks_ago = int(date_parts[0])\n",
    "            extracted_year = now.year - (weeks_ago // 52)\n",
    "        elif \"day\" in date_parts[1]:\n",
    "            extracted_year = now.year\n",
    "        else:\n",
    "            extracted_year = date_string\n",
    "    else:\n",
    "        # Separate extraction of year\n",
    "        extracted_year = date_string\n",
    "\n",
    "    return extracted_year"
   ]
  },
  {
   "cell_type": "code",
   "execution_count": 23,
   "id": "194868e0",
   "metadata": {},
   "outputs": [],
   "source": [
    "# Extract the year from dates formatted as \"3 years ago on Google\" etc.\n",
    "yearss = [extract_year(date) for date in df_date['date']]"
   ]
  },
  {
   "cell_type": "code",
   "execution_count": 24,
   "id": "1fb8e58f",
   "metadata": {},
   "outputs": [],
   "source": [
    "# extracting all years\n",
    "years = [re.search(\"20\\w\\w\", str(date)).group() if len(re.findall(\"20\\w\\w\", str(date)))>0 else 0 for date in yearss]"
   ]
  },
  {
   "cell_type": "code",
   "execution_count": 25,
   "id": "23e32537",
   "metadata": {},
   "outputs": [],
   "source": [
    "# Store the cleaned years\n",
    "df_date['dates'] = years"
   ]
  },
  {
   "cell_type": "code",
   "execution_count": 26,
   "id": "ddd7d849",
   "metadata": {},
   "outputs": [
    {
     "data": {
      "text/plain": [
       "array(['2022', '2023', '2021', '2020', '2019', '2018', '2017', '2016',\n",
       "       '2015', '2014', '2013', '2011', '2009', '2012', '2010', '2008',\n",
       "       '2007', '2006'], dtype=object)"
      ]
     },
     "execution_count": 26,
     "metadata": {},
     "output_type": "execute_result"
    }
   ],
   "source": [
    "df_date.dates.unique()"
   ]
  },
  {
   "cell_type": "code",
   "execution_count": 27,
   "id": "39021439",
   "metadata": {},
   "outputs": [],
   "source": [
    "# The dates are stored as string as evident in the code above.\n",
    "\n",
    "# Convert the dates column to integer datatype\n",
    "df_date.dates = df_date.dates.astype('int')"
   ]
  },
  {
   "cell_type": "code",
   "execution_count": 28,
   "id": "32fdfa42",
   "metadata": {},
   "outputs": [],
   "source": [
    "# I'd like to only analyze the trend over the past decade. Therefore, I only look at years from 2014 onward.\n",
    "df_date = df_date[df_date.dates>=2014]"
   ]
  },
  {
   "cell_type": "code",
   "execution_count": 29,
   "id": "725db413",
   "metadata": {},
   "outputs": [
    {
     "data": {
      "image/png": "[encoded data removed]",
      "text/plain": [
       "<Figure size 640x480 with 1 Axes>"
      ]
     },
     "metadata": {},
     "output_type": "display_data"
    }
   ],
   "source": [
    "# Trend of reviews over the years from 2006 to 2023.\n",
    "sns.set_theme(style=\"whitegrid\")\n",
    "sns.countplot(x=df_date['dates'], color='green')\n",
    "plt.xticks(rotation=90)\n",
    "plt.show()"
   ]
  },
  {
   "cell_type": "markdown",
   "id": "72238c9b",
   "metadata": {},
   "source": [
    "Evidently, the number of ratings dropped due to the Pandemic, reflecting that less people visited DisneyLand after the Pandemimc in 2019. \n",
    "\n",
    "However, before the Pandemic, the number of reviews has already started to drop. There are 2 possible reasons for the drop:\n",
    "1. People are still attending DisneyLand but not writing reviews.\n",
    "2. People are not attending DisneyLand as frequently as before, thus less reviewers.\n",
    "\n",
    "Therefore, Disneyland would like to analyse the customer's experience and identify areas of improvement."
   ]
  },
  {
   "cell_type": "markdown",
   "id": "66307493",
   "metadata": {},
   "source": [
    "### Data Understanding - Checking Word and Word Length Distribution"
   ]
  },
  {
   "cell_type": "code",
   "execution_count": 30,
   "id": "9d3d7345",
   "metadata": {},
   "outputs": [],
   "source": [
    "# Store reviews in a variable\n",
    "reviews = [review.lower() for review in df['review']]"
   ]
  },
  {
   "cell_type": "code",
   "execution_count": 31,
   "id": "cc51699a",
   "metadata": {},
   "outputs": [],
   "source": [
    "# Tokenize the words to generate frequency of words.\n",
    "from nltk.tokenize import word_tokenize\n",
    "tokenized_words = [word_tokenize(review) for review in reviews]\n",
    "\n",
    "# Get the word lengths\n",
    "word_lengths = []\n",
    "\n",
    "# Get the tokenized words\n",
    "tokenized_word_list = []\n",
    "\n",
    "for word_lists in tokenized_words:\n",
    "    for word in word_lists:\n",
    "        word_lengths.append(len(word))\n",
    "        tokenized_word_list.append(word)"
   ]
  },
  {
   "cell_type": "code",
   "execution_count": 32,
   "id": "17c3f2e4",
   "metadata": {},
   "outputs": [
    {
     "data": {
      "image/png": "[encoded data removed]",
      "text/plain": [
       "<Figure size 640x480 with 1 Axes>"
      ]
     },
     "metadata": {},
     "output_type": "display_data"
    }
   ],
   "source": [
    "# Generate frequency for all the words\n",
    "freq_dist = nltk.FreqDist(word_lengths)\n",
    "\n",
    "# Visualizing \n",
    "word_length_frequency_dict = dict([(k,v) for k,v in freq_dist.items()])\n",
    "\n",
    "# create frequency distribution of the filtered words\n",
    "freq_dist = nltk.FreqDist(word_length_frequency_dict)\n",
    "\n",
    "# plot the frequency distribution of the top 50 words\n",
    "freq_dist.plot(15, cumulative=False)\n",
    "plt.show()"
   ]
  },
  {
   "cell_type": "code",
   "execution_count": 33,
   "id": "fc093ba3",
   "metadata": {},
   "outputs": [
    {
     "name": "stdout",
     "output_type": "stream",
     "text": [
      "First 10 odd words in the list: ['front-of-the-line', 'again.disneyland', 'experiences.spending', 'halloween.luckily', 'not-so-happiest-place', 'hyper-aggressive', 'tp-breaks-off-at-each-square', 'communication/customer', 'experience.recommend', 'restaurants/menus']\n"
     ]
    }
   ],
   "source": [
    "# Look at word lengths of more than 15 where the curve is flat.\n",
    "\n",
    "odd_lengths = [words for words in tokenized_word_list if len(words)>15]\n",
    "\n",
    "print(\"First 10 odd words in the list:\",odd_lengths[:10])"
   ]
  },
  {
   "cell_type": "markdown",
   "id": "3df03486",
   "metadata": {},
   "source": [
    "Seems like most of the words with lengths above 15 just have punctuations between them. I will add space to separate them."
   ]
  },
  {
   "cell_type": "code",
   "execution_count": 34,
   "id": "4e02f997",
   "metadata": {},
   "outputs": [
    {
     "name": "stdout",
     "output_type": "stream",
     "text": [
      "First 10 words with '.com' in the list: ['youtube.com/c/wackycalif…', 'disneyland.comgetting', 'disney.com', 'me.come', 'disneyland.disney.go.com…to', 'youtube.com/watch', 'youtube.com/watch', 'youtube.com/watch', 'it.coming', 'yelp.com/biz/tiki-juice-…']\n"
     ]
    }
   ],
   "source": [
    "# Checking for any links that have a domain of .com\n",
    "\n",
    "links = [words for words in tokenized_word_list if \".com\" in words]\n",
    "\n",
    "print(\"First 10 words with '.com' in the list:\",links[:10])"
   ]
  },
  {
   "cell_type": "markdown",
   "id": "bfb7d2be",
   "metadata": {},
   "source": [
    "Links contain .com and slashes, while words contain more than just '.com' such as '.coming'"
   ]
  },
  {
   "cell_type": "code",
   "execution_count": 35,
   "id": "404f7e2e",
   "metadata": {},
   "outputs": [
    {
     "name": "stdout",
     "output_type": "stream",
     "text": [
      "First 10 links in the list: ['//', '//', 'note/////', '//www.isitpacked.com/live-crowd-trackers/disneyland/avoid', '//www.citystrollerrentals.com/disneyland-stroller-rentals.html', '//dlrprepschool.com/a-fastpass-guide-for-disneyland-and-california-adventure/', '//www.disneytouristblog.com/', '//disneyland.disney.go.com/guest-services/fastpass/there', '//www.dlandlive.com/closures/', '//www.undercovertourist.com/blog/best-time-visit-disneyland/']\n"
     ]
    }
   ],
   "source": [
    "# Checking for slashed links\n",
    "\n",
    "links = [words for words in tokenized_word_list if \"//\" in words]\n",
    "\n",
    "print(\"First 10 links in the list:\",links[:10])"
   ]
  },
  {
   "cell_type": "markdown",
   "id": "fb4796ba",
   "metadata": {},
   "source": [
    "Seems like the odd length words are mostly because the customer did not put spaces inbetween punctuations. This will need to be fixed later."
   ]
  },
  {
   "cell_type": "code",
   "execution_count": 36,
   "id": "a23ba318",
   "metadata": {},
   "outputs": [
    {
     "data": {
      "image/png": "[encoded data removed]",
      "text/plain": [
       "<Figure size 640x480 with 1 Axes>"
      ]
     },
     "metadata": {},
     "output_type": "display_data"
    },
    {
     "data": {
      "image/png": "[encoded data removed]",
      "text/plain": [
       "<Figure size 640x480 with 1 Axes>"
      ]
     },
     "metadata": {},
     "output_type": "display_data"
    }
   ],
   "source": [
    "# Generate frequency for all the words\n",
    "freq_dist = nltk.FreqDist(tokenized_word_list)\n",
    "\n",
    "# Visualizing \n",
    "words = dict([(k,v) for k,v in freq_dist.items()])\n",
    "\n",
    "# create frequency distribution of the filtered words\n",
    "freq_dist = nltk.FreqDist(words)\n",
    "\n",
    "# build wordcloud\n",
    "from wordcloud import WordCloud\n",
    "wcloud = WordCloud(max_font_size=50, max_words=50, background_color=\"white\").generate_from_frequencies(freq_dist)\n",
    "\n",
    "# plot the wordcloud\n",
    "import matplotlib.pyplot as plt\n",
    "plt.imshow(wcloud, interpolation='bilinear')\n",
    "plt.axis('off')\n",
    "plt.show()\n",
    "\n",
    "# plot the frequency distribution of the top 50 words\n",
    "freq_dist.plot(40, cumulative=False)\n",
    "plt.show()"
   ]
  },
  {
   "cell_type": "markdown",
   "id": "3349c920",
   "metadata": {},
   "source": [
    "Words that have a large font size occur more frequently in the dataframe.\n",
    "\n",
    "Based on the word cloud, most of the frequently occuring words are stopwords and punctuations such as 'the' and fullstops.\n",
    "\n",
    "There are also some common terms related to DisneyLand such as 'park', 'disneyland', 'disney'. These are not useful as many texts contain these terms. Therefore, I will add it to the stopword list for removal later."
   ]
  },
  {
   "cell_type": "markdown",
   "id": "3467282a",
   "metadata": {},
   "source": [
    "## Data Preparation"
   ]
  },
  {
   "cell_type": "code",
   "execution_count": 37,
   "id": "867074b3",
   "metadata": {
    "scrolled": false
   },
   "outputs": [
    {
     "data": {
      "text/html": [
       "<div>\n",
       "<style scoped>\n",
       "    .dataframe tbody tr th:only-of-type {\n",
       "        vertical-align: middle;\n",
       "    }\n",
       "\n",
       "    .dataframe tbody tr th {\n",
       "        vertical-align: top;\n",
       "    }\n",
       "\n",
       "    .dataframe thead th {\n",
       "        text-align: right;\n",
       "    }\n",
       "</style>\n",
       "<table border=\"1\" class=\"dataframe\">\n",
       "  <thead>\n",
       "    <tr style=\"text-align: right;\">\n",
       "      <th></th>\n",
       "      <th>review</th>\n",
       "      <th>date</th>\n",
       "      <th>sentiment</th>\n",
       "    </tr>\n",
       "  </thead>\n",
       "  <tbody>\n",
       "    <tr>\n",
       "      <th>0</th>\n",
       "      <td>This place is definitely the happiest place on...</td>\n",
       "      <td>12/26/2022</td>\n",
       "      <td>1</td>\n",
       "    </tr>\n",
       "    <tr>\n",
       "      <th>1</th>\n",
       "      <td>Disneyland is great for the themes and nostalg...</td>\n",
       "      <td>1/8/2023</td>\n",
       "      <td>1</td>\n",
       "    </tr>\n",
       "    <tr>\n",
       "      <th>2</th>\n",
       "      <td>Price range: ridiculously high To consider: lo...</td>\n",
       "      <td>1/10/2023</td>\n",
       "      <td>0</td>\n",
       "    </tr>\n",
       "    <tr>\n",
       "      <th>3</th>\n",
       "      <td>The Mickey Mouse Salted Pretzel from the Coca ...</td>\n",
       "      <td>1/10/2023</td>\n",
       "      <td>0</td>\n",
       "    </tr>\n",
       "    <tr>\n",
       "      <th>4</th>\n",
       "      <td>Nicole, Blonde girl, pirates of the Caribbean ...</td>\n",
       "      <td>1/9/2023</td>\n",
       "      <td>0</td>\n",
       "    </tr>\n",
       "  </tbody>\n",
       "</table>\n",
       "</div>"
      ],
      "text/plain": [
       "                                              review        date  sentiment\n",
       "0  This place is definitely the happiest place on...  12/26/2022          1\n",
       "1  Disneyland is great for the themes and nostalg...    1/8/2023          1\n",
       "2  Price range: ridiculously high To consider: lo...   1/10/2023          0\n",
       "3  The Mickey Mouse Salted Pretzel from the Coca ...   1/10/2023          0\n",
       "4  Nicole, Blonde girl, pirates of the Caribbean ...    1/9/2023          0"
      ]
     },
     "execution_count": 37,
     "metadata": {},
     "output_type": "execute_result"
    }
   ],
   "source": [
    "df.head()"
   ]
  },
  {
   "cell_type": "code",
   "execution_count": 38,
   "id": "a5e5474b",
   "metadata": {},
   "outputs": [
    {
     "data": {
      "text/html": [
       "<div>\n",
       "<style scoped>\n",
       "    .dataframe tbody tr th:only-of-type {\n",
       "        vertical-align: middle;\n",
       "    }\n",
       "\n",
       "    .dataframe tbody tr th {\n",
       "        vertical-align: top;\n",
       "    }\n",
       "\n",
       "    .dataframe thead th {\n",
       "        text-align: right;\n",
       "    }\n",
       "</style>\n",
       "<table border=\"1\" class=\"dataframe\">\n",
       "  <thead>\n",
       "    <tr style=\"text-align: right;\">\n",
       "      <th></th>\n",
       "      <th>review</th>\n",
       "      <th>sentiment</th>\n",
       "    </tr>\n",
       "  </thead>\n",
       "  <tbody>\n",
       "    <tr>\n",
       "      <th>0</th>\n",
       "      <td>This place is definitely the happiest place on...</td>\n",
       "      <td>1</td>\n",
       "    </tr>\n",
       "    <tr>\n",
       "      <th>1</th>\n",
       "      <td>Disneyland is great for the themes and nostalg...</td>\n",
       "      <td>1</td>\n",
       "    </tr>\n",
       "    <tr>\n",
       "      <th>2</th>\n",
       "      <td>Price range: ridiculously high To consider: lo...</td>\n",
       "      <td>0</td>\n",
       "    </tr>\n",
       "    <tr>\n",
       "      <th>3</th>\n",
       "      <td>The Mickey Mouse Salted Pretzel from the Coca ...</td>\n",
       "      <td>0</td>\n",
       "    </tr>\n",
       "    <tr>\n",
       "      <th>4</th>\n",
       "      <td>Nicole, Blonde girl, pirates of the Caribbean ...</td>\n",
       "      <td>0</td>\n",
       "    </tr>\n",
       "  </tbody>\n",
       "</table>\n",
       "</div>"
      ],
      "text/plain": [
       "                                              review  sentiment\n",
       "0  This place is definitely the happiest place on...          1\n",
       "1  Disneyland is great for the themes and nostalg...          1\n",
       "2  Price range: ridiculously high To consider: lo...          0\n",
       "3  The Mickey Mouse Salted Pretzel from the Coca ...          0\n",
       "4  Nicole, Blonde girl, pirates of the Caribbean ...          0"
      ]
     },
     "execution_count": 38,
     "metadata": {},
     "output_type": "execute_result"
    }
   ],
   "source": [
    "# date column is not used, therefore remove it to reduce memory usage.\n",
    "df = df.drop(columns=['date'])\n",
    "df.head()"
   ]
  },
  {
   "cell_type": "markdown",
   "id": "e5c73cf0",
   "metadata": {},
   "source": [
    "### Data Balancing\n",
    "\n",
    "As identified earlier, the ratio of positive to negative sentiments in the dataframe is quite unbalanced with a ratio of 85:15 respectively. This may cause the model to be biased or overfitted toward the positive sentiments. To tackle this problem, I will balance the model using undersampling.\n",
    "\n",
    "To prevent a biased and/or overfitted model, I decided to perform undersampling on the majority class, while keeping all the data of the minority class, negative sentiment.\n",
    "\n",
    "**Approach**:\n",
    "\n",
    "* I will undersample the majority class, positive sentiment, to contribute 60% of the dataframe.\n",
    "\n",
    "**Reason**:\n",
    "\n",
    "* A ratio of 60:40 for positive:negative ensures that the positive class retains majority of its original data and be a representative sample for the positive class."
   ]
  },
  {
   "cell_type": "code",
   "execution_count": 39,
   "id": "2c8f7b74",
   "metadata": {},
   "outputs": [
    {
     "name": "stdout",
     "output_type": "stream",
     "text": [
      "1 represents positive, 0 represents negative.\n",
      "Total records: 28947\n"
     ]
    },
    {
     "data": {
      "text/html": [
       "<div>\n",
       "<style scoped>\n",
       "    .dataframe tbody tr th:only-of-type {\n",
       "        vertical-align: middle;\n",
       "    }\n",
       "\n",
       "    .dataframe tbody tr th {\n",
       "        vertical-align: top;\n",
       "    }\n",
       "\n",
       "    .dataframe thead th {\n",
       "        text-align: right;\n",
       "    }\n",
       "</style>\n",
       "<table border=\"1\" class=\"dataframe\">\n",
       "  <thead>\n",
       "    <tr style=\"text-align: right;\">\n",
       "      <th></th>\n",
       "      <th>occurrences</th>\n",
       "      <th>occurrences (%)</th>\n",
       "    </tr>\n",
       "  </thead>\n",
       "  <tbody>\n",
       "    <tr>\n",
       "      <th>1</th>\n",
       "      <td>24556</td>\n",
       "      <td>84.83%</td>\n",
       "    </tr>\n",
       "    <tr>\n",
       "      <th>0</th>\n",
       "      <td>4391</td>\n",
       "      <td>15.17%</td>\n",
       "    </tr>\n",
       "  </tbody>\n",
       "</table>\n",
       "</div>"
      ],
      "text/plain": [
       "   occurrences occurrences (%)\n",
       "1        24556          84.83%\n",
       "0         4391          15.17%"
      ]
     },
     "metadata": {},
     "output_type": "display_data"
    },
    {
     "data": {
      "image/png": "[encoded data removed]",
      "text/plain": [
       "<Figure size 1400x600 with 1 Axes>"
      ]
     },
     "metadata": {},
     "output_type": "display_data"
    }
   ],
   "source": [
    "# print(\"Looking at the distribution of classes in the target column:\")\n",
    "print(\"1 represents positive, 0 represents negative.\")\n",
    "\n",
    "# Checking the distribution of the stars\n",
    "sentiments = pd.DataFrame({'occurrences': df['sentiment'].value_counts(),\n",
    "                      'occurrences (%)': [str(round((x/len(df)*100), 2))+\"%\" for x in df['sentiment'].value_counts()]})\n",
    "print(\"Total records:\", sum(sentiments['occurrences']))\n",
    "display(sentiments)\n",
    "\n",
    "labels = round((df['sentiment'].value_counts()/len(df)*100),2)\n",
    "sizes = round((df['sentiment'].value_counts()/len(df)*100),2)\n",
    "color = ['palegreen', 'lightcoral']\n",
    "(df['sentiment'].value_counts()/len(df)*100).plot(kind='pie', figsize=(14,6), colors=color, autopct = '%1.1f%%')\n",
    "plt.legend(labels, loc=\"best\")\n",
    "plt.tight_layout()\n",
    "plt.show()"
   ]
  },
  {
   "cell_type": "code",
   "execution_count": 40,
   "id": "f70234a3",
   "metadata": {},
   "outputs": [],
   "source": [
    "# required_amt is the amount of samples required to balance positive to negative at a ratio of 60:40.\n",
    "required_amt = int((len(df[df['sentiment']==0])/40)*60)\n",
    "\n",
    "df2 = pd.concat([df[df['sentiment']==1].sample(n=required_amt), df[df['sentiment']==0]], axis=0)"
   ]
  },
  {
   "cell_type": "code",
   "execution_count": 41,
   "id": "f211774f",
   "metadata": {},
   "outputs": [
    {
     "name": "stdout",
     "output_type": "stream",
     "text": [
      "<class 'pandas.core.frame.DataFrame'>\n",
      "Int64Index: 10977 entries, 28249 to 28934\n",
      "Data columns (total 2 columns):\n",
      " #   Column     Non-Null Count  Dtype \n",
      "---  ------     --------------  ----- \n",
      " 0   review     10977 non-null  object\n",
      " 1   sentiment  10977 non-null  int64 \n",
      "dtypes: int64(1), object(1)\n",
      "memory usage: 257.3+ KB\n"
     ]
    }
   ],
   "source": [
    "df2.info()"
   ]
  },
  {
   "cell_type": "markdown",
   "id": "2cd880b7",
   "metadata": {},
   "source": [
    "The index of the dataframe is weird after sampling."
   ]
  },
  {
   "cell_type": "code",
   "execution_count": 42,
   "id": "e4da1961",
   "metadata": {},
   "outputs": [],
   "source": [
    "# Reset the index\n",
    "df2 = df2.reset_index(drop=True)"
   ]
  },
  {
   "cell_type": "code",
   "execution_count": 43,
   "id": "ffc7621f",
   "metadata": {},
   "outputs": [
    {
     "name": "stdout",
     "output_type": "stream",
     "text": [
      "Total records: 10977\n"
     ]
    },
    {
     "data": {
      "text/html": [
       "<div>\n",
       "<style scoped>\n",
       "    .dataframe tbody tr th:only-of-type {\n",
       "        vertical-align: middle;\n",
       "    }\n",
       "\n",
       "    .dataframe tbody tr th {\n",
       "        vertical-align: top;\n",
       "    }\n",
       "\n",
       "    .dataframe thead th {\n",
       "        text-align: right;\n",
       "    }\n",
       "</style>\n",
       "<table border=\"1\" class=\"dataframe\">\n",
       "  <thead>\n",
       "    <tr style=\"text-align: right;\">\n",
       "      <th></th>\n",
       "      <th>occurrences</th>\n",
       "      <th>occurrences (%)</th>\n",
       "    </tr>\n",
       "  </thead>\n",
       "  <tbody>\n",
       "    <tr>\n",
       "      <th>1</th>\n",
       "      <td>6586</td>\n",
       "      <td>60.0%</td>\n",
       "    </tr>\n",
       "    <tr>\n",
       "      <th>0</th>\n",
       "      <td>4391</td>\n",
       "      <td>40.0%</td>\n",
       "    </tr>\n",
       "  </tbody>\n",
       "</table>\n",
       "</div>"
      ],
      "text/plain": [
       "   occurrences occurrences (%)\n",
       "1         6586           60.0%\n",
       "0         4391           40.0%"
      ]
     },
     "metadata": {},
     "output_type": "display_data"
    }
   ],
   "source": [
    "# Checking the distribution of the stars in the new dataframe\n",
    "sentiments = pd.DataFrame({'occurrences': df2['sentiment'].value_counts(),\n",
    "                      'occurrences (%)': [str(round((x/len(df2)*100), 2))+\"%\" for x in df2['sentiment'].value_counts()]})\n",
    "print(\"Total records:\", sum(sentiments['occurrences']))\n",
    "display(sentiments)"
   ]
  },
  {
   "cell_type": "markdown",
   "id": "35e2d64a",
   "metadata": {},
   "source": [
    "### Extract POS Tag\n",
    "\n",
    "Research has shown the presence of adjectives and adverbs is usually a good indicator of text subjectivity. In other words, statements that use adjectives like “interesting,” “problematic” and “awesome” might be more likely to convey a subjective point of view than statements that do not include those adjectives.\n",
    "\n",
    "Adjectives and adverbs typically convey sentiment in a sentence, so they can be useful in sentiment analysis. However, including all POS tag words can provide additional information, such as the subject and verb, which can also contribute to the sentiment.\n",
    "\n",
    "Thus, I will not use the adjectives and adverbs only as feature sets for sentiment classification, but all the words in the text."
   ]
  },
  {
   "cell_type": "code",
   "execution_count": 45,
   "id": "1d002d06",
   "metadata": {},
   "outputs": [],
   "source": [
    "from nltk.tokenize import sent_tokenize\n",
    "def tagPOS(text):\n",
    "    tokenized = sent_tokenize(text) \n",
    "    tagged_text = []\n",
    "\n",
    "    for i in tokenized:\n",
    "        # Word tokenizers is used to find the words \n",
    "        wordsList = nltk.word_tokenize(i) \n",
    "\n",
    "        #  Using a Tagger. Which is part-of-speech tagger or POS-tagger.  \n",
    "        tagged = nltk.pos_tag(wordsList) \n",
    "        tagged_text.extend(tagged)\n",
    "\n",
    "    return tagged_text\n",
    "\n",
    "df2['POS_review'] = df2['review'].apply(lambda x: tagPOS(x))"
   ]
  },
  {
   "cell_type": "code",
   "execution_count": 46,
   "id": "954757d4",
   "metadata": {},
   "outputs": [
    {
     "data": {
      "text/html": [
       "<div>\n",
       "<style scoped>\n",
       "    .dataframe tbody tr th:only-of-type {\n",
       "        vertical-align: middle;\n",
       "    }\n",
       "\n",
       "    .dataframe tbody tr th {\n",
       "        vertical-align: top;\n",
       "    }\n",
       "\n",
       "    .dataframe thead th {\n",
       "        text-align: right;\n",
       "    }\n",
       "</style>\n",
       "<table border=\"1\" class=\"dataframe\">\n",
       "  <thead>\n",
       "    <tr style=\"text-align: right;\">\n",
       "      <th></th>\n",
       "      <th>review</th>\n",
       "      <th>sentiment</th>\n",
       "      <th>POS_review</th>\n",
       "      <th>adj_adv</th>\n",
       "    </tr>\n",
       "  </thead>\n",
       "  <tbody>\n",
       "    <tr>\n",
       "      <th>0</th>\n",
       "      <td>Very busy. But we went on a 3 day weekend.. an...</td>\n",
       "      <td>1</td>\n",
       "      <td>[(Very, RB), (busy, JJ), (., .), (But, CC), (w...</td>\n",
       "      <td>[Very, busy, very, busy, amazing, back, less, ...</td>\n",
       "    </tr>\n",
       "    <tr>\n",
       "      <th>1</th>\n",
       "      <td>Loved our 3 days park hopping</td>\n",
       "      <td>1</td>\n",
       "      <td>[(Loved, VBN), (our, PRP$), (3, CD), (days, NN...</td>\n",
       "      <td>[]</td>\n",
       "    </tr>\n",
       "    <tr>\n",
       "      <th>2</th>\n",
       "      <td>A perfect place for young and old to enjoy esp...</td>\n",
       "      <td>1</td>\n",
       "      <td>[(A, DT), (perfect, JJ), (place, NN), (for, IN...</td>\n",
       "      <td>[perfect, young, old, especially]</td>\n",
       "    </tr>\n",
       "    <tr>\n",
       "      <th>3</th>\n",
       "      <td>2 Adults , children Boy 7 Girl 8We purchased a...</td>\n",
       "      <td>1</td>\n",
       "      <td>[(2, CD), (Adults, NNS), (,, ,), (children, NN...</td>\n",
       "      <td>[go, till, more, very, honest, just, n't, enou...</td>\n",
       "    </tr>\n",
       "    <tr>\n",
       "      <th>4</th>\n",
       "      <td>I rated this experience 5 stars because the st...</td>\n",
       "      <td>1</td>\n",
       "      <td>[(I, PRP), (rated, VBD), (this, DT), (experien...</td>\n",
       "      <td>[so, extraordinarily, clean, there, not, super...</td>\n",
       "    </tr>\n",
       "  </tbody>\n",
       "</table>\n",
       "</div>"
      ],
      "text/plain": [
       "                                              review  sentiment  \\\n",
       "0  Very busy. But we went on a 3 day weekend.. an...          1   \n",
       "1                      Loved our 3 days park hopping          1   \n",
       "2  A perfect place for young and old to enjoy esp...          1   \n",
       "3  2 Adults , children Boy 7 Girl 8We purchased a...          1   \n",
       "4  I rated this experience 5 stars because the st...          1   \n",
       "\n",
       "                                          POS_review  \\\n",
       "0  [(Very, RB), (busy, JJ), (., .), (But, CC), (w...   \n",
       "1  [(Loved, VBN), (our, PRP$), (3, CD), (days, NN...   \n",
       "2  [(A, DT), (perfect, JJ), (place, NN), (for, IN...   \n",
       "3  [(2, CD), (Adults, NNS), (,, ,), (children, NN...   \n",
       "4  [(I, PRP), (rated, VBD), (this, DT), (experien...   \n",
       "\n",
       "                                             adj_adv  \n",
       "0  [Very, busy, very, busy, amazing, back, less, ...  \n",
       "1                                                 []  \n",
       "2                  [perfect, young, old, especially]  \n",
       "3  [go, till, more, very, honest, just, n't, enou...  \n",
       "4  [so, extraordinarily, clean, there, not, super...  "
      ]
     },
     "execution_count": 46,
     "metadata": {},
     "output_type": "execute_result"
    }
   ],
   "source": [
    "def extract_pos(x):\n",
    "    # Extracting words that have an adjectives (JJ) or adverb (RB) tag\n",
    "    extracted_words = [word for (word,tag) in x if tag.startswith(\"JJ\") or tag.startswith(\"RB\")]\n",
    "    return extracted_words\n",
    "        \n",
    "df2['adj_adv'] = df2['POS_review'].apply(lambda x: extract_pos(x))\n",
    "df2.head()"
   ]
  },
  {
   "cell_type": "code",
   "execution_count": 47,
   "id": "5b6f352e",
   "metadata": {},
   "outputs": [
    {
     "name": "stdout",
     "output_type": "stream",
     "text": [
      "Number of texts with no adjectives or adverbs inside: 74\n"
     ]
    }
   ],
   "source": [
    "# Identifying texts with no adjectives or adverbs\n",
    "empty_indexes = [i for i in df2.index if len(df2['adj_adv'][i]) == 0]\n",
    "print(\"Number of texts with no adjectives or adverbs inside:\",len(empty_indexes))"
   ]
  },
  {
   "cell_type": "markdown",
   "id": "85e46ad5",
   "metadata": {},
   "source": [
    "Due to no adjectives or adverbs identified, it would make the sentiment analysis classification tougher. Therefore, I will remove it to prevent it from affecting the model's accuracy in classification."
   ]
  },
  {
   "cell_type": "code",
   "execution_count": 48,
   "id": "fa95aff4",
   "metadata": {},
   "outputs": [],
   "source": [
    "# Removing those with no adjective/adverbs\n",
    "df2 = df2.drop(index=empty_indexes)\n",
    "# Resetting the index\n",
    "df2 = df2.reset_index(drop=True)"
   ]
  },
  {
   "cell_type": "markdown",
   "id": "a330af83",
   "metadata": {},
   "source": [
    "## Data Understanding - Sentiment Top Words"
   ]
  },
  {
   "cell_type": "code",
   "execution_count": 49,
   "id": "6ede5fb0",
   "metadata": {},
   "outputs": [],
   "source": [
    "negative_words = []\n",
    "positive_words = []\n",
    "\n",
    "for index in df2.index:\n",
    "    words = df2['adj_adv'][index]\n",
    "    if df2['sentiment'][index] == 0:\n",
    "        negative_words.extend(words)\n",
    "    else:\n",
    "        positive_words.extend(words)"
   ]
  },
  {
   "cell_type": "code",
   "execution_count": 50,
   "id": "9a718961",
   "metadata": {},
   "outputs": [
    {
     "data": {
      "image/png": "[encoded data removed]",
      "text/plain": [
       "<Figure size 640x480 with 1 Axes>"
      ]
     },
     "metadata": {},
     "output_type": "display_data"
    }
   ],
   "source": [
    "# Generate frequency for the top negative words\n",
    "freq_dist = nltk.FreqDist(negative_words)\n",
    "\n",
    "# Visualizing \n",
    "words = dict([(k,v) for k,v in freq_dist.items()])\n",
    "\n",
    "# create frequency distribution of the filtered words\n",
    "freq_dist = nltk.FreqDist(words)\n",
    "\n",
    "# Generate line chart to show the top words\n",
    "# plot the frequency distribution of the top 50 words\n",
    "freq_dist.plot(20, cumulative=False)\n",
    "plt.show()"
   ]
  },
  {
   "cell_type": "code",
   "execution_count": 51,
   "id": "dcde4de9",
   "metadata": {},
   "outputs": [
    {
     "data": {
      "image/png": "[encoded data removed]",
      "text/plain": [
       "<Figure size 640x480 with 1 Axes>"
      ]
     },
     "metadata": {},
     "output_type": "display_data"
    }
   ],
   "source": [
    "# Generate frequency for the top positive words\n",
    "freq_dist = nltk.FreqDist(positive_words)\n",
    "\n",
    "# Visualizing \n",
    "words = dict([(k,v) for k,v in freq_dist.items()])\n",
    "\n",
    "# create frequency distribution of the filtered words\n",
    "freq_dist = nltk.FreqDist(words)\n",
    "\n",
    "# plot the frequency distribution of the top 50 words\n",
    "freq_dist.plot(20, cumulative=False)\n",
    "plt.show()"
   ]
  },
  {
   "cell_type": "markdown",
   "id": "fdf19bce",
   "metadata": {},
   "source": [
    "Based on the top adjective/adverb words found in both sentiments, both share almost the same top 15 words. Therefore, I will add some of the top words to the stopword list for removal:\n",
    "\n",
    "'n't', 'not', 'so', 'just', 'only', 'back', 'more'.\n",
    "\n",
    "Removing these common words reduces the overlapping common words among the two sentiments and allows the model to weigh the more important words and classify the texts more distinctively."
   ]
  },
  {
   "cell_type": "markdown",
   "id": "cf7bc308",
   "metadata": {},
   "source": [
    "## Removing Pattern Words\n",
    "\n",
    "These pattern words include double-slashed and links. These words do not provide any detail toward the text's sentiment and are considered noise which may cause the model to perform poorly with the presence of these words. Therefore, I will remove them through pattern matching.\n",
    "\n",
    "Additionally, the negator words such as \"don't\" are converted to \"dont\" so that they will not be removed from the stopword list which contains negator words that have apostrophe only e.g., \"don't\".\n",
    "\n",
    "Lastly, removing numbers, punctuations, and new line codes found previously when displaying the head of the dataframe."
   ]
  },
  {
   "cell_type": "code",
   "execution_count": 52,
   "id": "f9722ad7",
   "metadata": {},
   "outputs": [],
   "source": [
    "# Store reviews in a variable\n",
    "reviews = [review.lower() for review in df2['review']]"
   ]
  },
  {
   "cell_type": "code",
   "execution_count": 53,
   "id": "3bae01bd",
   "metadata": {},
   "outputs": [
    {
     "name": "stdout",
     "output_type": "stream",
     "text": [
      "Number of records in the dataframe: 10903\n"
     ]
    }
   ],
   "source": [
    "print(\"Number of records in the dataframe:\", df2.shape[0])"
   ]
  },
  {
   "cell_type": "code",
   "execution_count": 54,
   "id": "0439a3fe",
   "metadata": {},
   "outputs": [],
   "source": [
    "import re\n",
    "\n",
    "# Removing // words.\n",
    "doubleslashed_pattern = '[^\\s]*(//)+[^\\s]*'\n",
    "\n",
    "# Removing links\n",
    "link_pattern = '[^\\s]*(\\.)+[^\\s]*(\\/)+[^\\s]*'\n",
    "\n",
    "# Keeping negator words\n",
    "negator_pattern = '\\''\n",
    "\n",
    "# Removing remaining punctuations/numbers\n",
    "remaining_pattern = '[^a-zA-Z\\s]+'\n",
    "\n",
    "for ind in df2.index:\n",
    "    reviews[ind] = re.sub(doubleslashed_pattern, '', reviews[ind])\n",
    "    reviews[ind] = re.sub(link_pattern, ' ', reviews[ind])\n",
    "    reviews[ind] = re.sub(negator_pattern, '', reviews[ind])\n",
    "    reviews[ind] = re.sub(remaining_pattern, ' ', reviews[ind])"
   ]
  },
  {
   "cell_type": "code",
   "execution_count": 55,
   "id": "14d19fe8",
   "metadata": {},
   "outputs": [],
   "source": [
    "df2['review'] = reviews"
   ]
  },
  {
   "cell_type": "code",
   "execution_count": 56,
   "id": "a3d8ff2c",
   "metadata": {},
   "outputs": [
    {
     "data": {
      "text/html": [
       "<div>\n",
       "<style scoped>\n",
       "    .dataframe tbody tr th:only-of-type {\n",
       "        vertical-align: middle;\n",
       "    }\n",
       "\n",
       "    .dataframe tbody tr th {\n",
       "        vertical-align: top;\n",
       "    }\n",
       "\n",
       "    .dataframe thead th {\n",
       "        text-align: right;\n",
       "    }\n",
       "</style>\n",
       "<table border=\"1\" class=\"dataframe\">\n",
       "  <thead>\n",
       "    <tr style=\"text-align: right;\">\n",
       "      <th></th>\n",
       "      <th>review</th>\n",
       "      <th>sentiment</th>\n",
       "      <th>POS_review</th>\n",
       "      <th>adj_adv</th>\n",
       "      <th>review_tokens</th>\n",
       "    </tr>\n",
       "  </thead>\n",
       "  <tbody>\n",
       "    <tr>\n",
       "      <th>0</th>\n",
       "      <td>very busy  but we went on a   day weekend  and...</td>\n",
       "      <td>1</td>\n",
       "      <td>[(Very, RB), (busy, JJ), (., .), (But, CC), (w...</td>\n",
       "      <td>[Very, busy, very, busy, amazing, back, less, ...</td>\n",
       "      <td>[busi, went, dai, weekend, gai, dai, busi, ama...</td>\n",
       "    </tr>\n",
       "    <tr>\n",
       "      <th>1</th>\n",
       "      <td>a perfect place for young and old to enjoy esp...</td>\n",
       "      <td>1</td>\n",
       "      <td>[(A, DT), (perfect, JJ), (place, NN), (for, IN...</td>\n",
       "      <td>[perfect, young, old, especially]</td>\n",
       "      <td>[perfect, place, young, old, enjoi, especi, fr...</td>\n",
       "    </tr>\n",
       "    <tr>\n",
       "      <th>2</th>\n",
       "      <td>adults   children boy   girl  we purchased a...</td>\n",
       "      <td>1</td>\n",
       "      <td>[(2, CD), (Adults, NNS), (,, ,), (children, NN...</td>\n",
       "      <td>[go, till, more, very, honest, just, n't, enou...</td>\n",
       "      <td>[adult, children, boi, girl, purchas, dai, hop...</td>\n",
       "    </tr>\n",
       "    <tr>\n",
       "      <th>3</th>\n",
       "      <td>i rated this experience   stars because the st...</td>\n",
       "      <td>1</td>\n",
       "      <td>[(I, PRP), (rated, VBD), (this, DT), (experien...</td>\n",
       "      <td>[so, extraordinarily, clean, there, not, super...</td>\n",
       "      <td>[rate, experi, star, staff, kind, help, extrao...</td>\n",
       "    </tr>\n",
       "    <tr>\n",
       "      <th>4</th>\n",
       "      <td>though some prices seem ridiculous  its disney...</td>\n",
       "      <td>1</td>\n",
       "      <td>[(Though, IN), (some, DT), (prices, NNS), (see...</td>\n",
       "      <td>[ridiculous, helpful, general, high, highly, m...</td>\n",
       "      <td>[though, price, seem, ridicul, help, cast, mem...</td>\n",
       "    </tr>\n",
       "  </tbody>\n",
       "</table>\n",
       "</div>"
      ],
      "text/plain": [
       "                                              review  sentiment  \\\n",
       "0  very busy  but we went on a   day weekend  and...          1   \n",
       "1  a perfect place for young and old to enjoy esp...          1   \n",
       "2    adults   children boy   girl  we purchased a...          1   \n",
       "3  i rated this experience   stars because the st...          1   \n",
       "4  though some prices seem ridiculous  its disney...          1   \n",
       "\n",
       "                                          POS_review  \\\n",
       "0  [(Very, RB), (busy, JJ), (., .), (But, CC), (w...   \n",
       "1  [(A, DT), (perfect, JJ), (place, NN), (for, IN...   \n",
       "2  [(2, CD), (Adults, NNS), (,, ,), (children, NN...   \n",
       "3  [(I, PRP), (rated, VBD), (this, DT), (experien...   \n",
       "4  [(Though, IN), (some, DT), (prices, NNS), (see...   \n",
       "\n",
       "                                             adj_adv  \\\n",
       "0  [Very, busy, very, busy, amazing, back, less, ...   \n",
       "1                  [perfect, young, old, especially]   \n",
       "2  [go, till, more, very, honest, just, n't, enou...   \n",
       "3  [so, extraordinarily, clean, there, not, super...   \n",
       "4  [ridiculous, helpful, general, high, highly, m...   \n",
       "\n",
       "                                       review_tokens  \n",
       "0  [busi, went, dai, weekend, gai, dai, busi, ama...  \n",
       "1  [perfect, place, young, old, enjoi, especi, fr...  \n",
       "2  [adult, children, boi, girl, purchas, dai, hop...  \n",
       "3  [rate, experi, star, staff, kind, help, extrao...  \n",
       "4  [though, price, seem, ridicul, help, cast, mem...  "
      ]
     },
     "execution_count": 56,
     "metadata": {},
     "output_type": "execute_result"
    }
   ],
   "source": [
    "# Removing stopwords, punctuations, and words of length below 2.\n",
    "import string\n",
    "stopwords = nltk.corpus.stopwords.words('english')\n",
    "stopwords.extend(['park', 'disneyland', 'disney', \"n't\", 'not', 'so', 'just', 'only', 'back', 'more'])\n",
    "from gensim.parsing.porter import PorterStemmer\n",
    "porter_stemmer = PorterStemmer()\n",
    "\n",
    "def clean(texts):\n",
    "    cleaned_words = []\n",
    "    for word in texts:\n",
    "        # Remove stopwords and numbers\n",
    "        if word not in stopwords and not word.isdigit() and len(words)>2:\n",
    "            \n",
    "            # Removing punctuations\n",
    "            punc_free = ''.join([ch for ch in word if ch not in string.punctuation])\n",
    "            \n",
    "            # Removing words that have lengths less than 2 as words less than 2 usually provide little to no insights due to low meaning\n",
    "            if len(punc_free)>2 and not word.isdigit():\n",
    "                \n",
    "                # Stemming the words.\n",
    "                cleaned_words.append(porter_stemmer.stem(punc_free))\n",
    "                # Stemming is used to reduce the dimensionality of words in the dataframe.\n",
    "                # Since I'm doing sentiment analysis based on occurrence of words in the text, context won't be necessary as order of words are not captured within the bag of words.\n",
    "                # Therefore, stemming is used over lemmatization to improve computational performance.\n",
    "\n",
    "    return cleaned_words\n",
    "\n",
    "# Create Feature Set\n",
    "df2['review_tokens'] = df2['review'].apply(lambda x: word_tokenize(x.lower()))\n",
    "df2['review_tokens'] = df2['review_tokens'].apply(lambda x: clean(x))  \n",
    "df2.head()"
   ]
  },
  {
   "cell_type": "code",
   "execution_count": 57,
   "id": "1b62d0cd",
   "metadata": {},
   "outputs": [],
   "source": [
    "df2 = df2.drop(columns=['POS_review', 'adj_adv'])"
   ]
  },
  {
   "cell_type": "code",
   "execution_count": 58,
   "id": "ae7e2abe",
   "metadata": {},
   "outputs": [],
   "source": [
    "# Store all tokens\n",
    "tokens = [tokens for entry in df2.review_tokens for tokens in entry]"
   ]
  },
  {
   "cell_type": "code",
   "execution_count": 59,
   "id": "f7d251f8",
   "metadata": {},
   "outputs": [
    {
     "data": {
      "image/png": "[encoded data removed]",
      "text/plain": [
       "<Figure size 640x480 with 1 Axes>"
      ]
     },
     "metadata": {},
     "output_type": "display_data"
    }
   ],
   "source": [
    "# Generate frequency for all the words\n",
    "freq_dist = nltk.FreqDist(tokens)\n",
    "\n",
    "# Visualizing \n",
    "word_length_frequency_dict = dict([(k,v) for k,v in freq_dist.items()])\n",
    "\n",
    "# create frequency distribution of the filtered words\n",
    "freq_dist = nltk.FreqDist(word_length_frequency_dict)\n",
    "\n",
    "# plot the frequency distribution of the top 50 words\n",
    "freq_dist.plot(20, cumulative=False)\n",
    "plt.show()"
   ]
  },
  {
   "cell_type": "code",
   "execution_count": 60,
   "id": "95510af1",
   "metadata": {},
   "outputs": [
    {
     "name": "stdout",
     "output_type": "stream",
     "text": [
      "['dontwriteabadrevieworthemousewillgety', 'xooxoxoxoxooxoxoxo', 'panfireworksokai', 'originallydisneyland', 'quarantinedreviewsi', 'churrosmatterhorn', 'punsrailroadfirework', 'couplesdisneyland', 'satisfactoryhotel', 'excellentairport', 'awesomehyperspac', 'mountainpirateshaunt', 'resistancesmuggl', 'mansionincredicoasterindiana', 'cruisematterhorn']\n"
     ]
    }
   ],
   "source": [
    "# Looking at words that are quite long\n",
    "odd_lengths = [words for words in tokens if len(words)>15]\n",
    "print(odd_lengths[:15])"
   ]
  },
  {
   "cell_type": "markdown",
   "id": "460d690c",
   "metadata": {},
   "source": [
    "Seems like the rest of the odd length words are either naturally long words, combined words, or excess characters."
   ]
  },
  {
   "cell_type": "code",
   "execution_count": 61,
   "id": "fad5b2f3",
   "metadata": {},
   "outputs": [],
   "source": [
    "# Checking for words that occur once in the corpus\n",
    "one_occurrence = []\n",
    "for key in word_length_frequency_dict:\n",
    "    if word_length_frequency_dict[key] == 1:\n",
    "        one_occurrence.append(key)"
   ]
  },
  {
   "cell_type": "code",
   "execution_count": 62,
   "id": "c847083f",
   "metadata": {},
   "outputs": [
    {
     "data": {
      "text/plain": [
       "5542"
      ]
     },
     "execution_count": 62,
     "metadata": {},
     "output_type": "execute_result"
    }
   ],
   "source": [
    "len(one_occurrence)"
   ]
  },
  {
   "cell_type": "markdown",
   "id": "f4525f10",
   "metadata": {},
   "source": [
    "There are a total of 5605 words that occur once only in the corpus. These words provide little insight into what the text's sentiment is since it occurs once only. Therefore, I will remove these 5605 words to reduce the noise in the dataset."
   ]
  },
  {
   "cell_type": "markdown",
   "id": "276ca453",
   "metadata": {},
   "source": [
    "There are some frequently occuring words that carry little meaning or context toward the sentiment of the text such as 'get', 'would', 'on'."
   ]
  },
  {
   "cell_type": "code",
   "execution_count": 63,
   "id": "167c63ce",
   "metadata": {},
   "outputs": [
    {
     "data": {
      "text/html": [
       "<div>\n",
       "<style scoped>\n",
       "    .dataframe tbody tr th:only-of-type {\n",
       "        vertical-align: middle;\n",
       "    }\n",
       "\n",
       "    .dataframe tbody tr th {\n",
       "        vertical-align: top;\n",
       "    }\n",
       "\n",
       "    .dataframe thead th {\n",
       "        text-align: right;\n",
       "    }\n",
       "</style>\n",
       "<table border=\"1\" class=\"dataframe\">\n",
       "  <thead>\n",
       "    <tr style=\"text-align: right;\">\n",
       "      <th></th>\n",
       "      <th>review</th>\n",
       "      <th>sentiment</th>\n",
       "      <th>review_tokens</th>\n",
       "    </tr>\n",
       "  </thead>\n",
       "  <tbody>\n",
       "    <tr>\n",
       "      <th>0</th>\n",
       "      <td>very busy  but we went on a   day weekend  and...</td>\n",
       "      <td>1</td>\n",
       "      <td>[went, dai, weekend, gai, dai, time, tho, less...</td>\n",
       "    </tr>\n",
       "    <tr>\n",
       "      <th>1</th>\n",
       "      <td>a perfect place for young and old to enjoy esp...</td>\n",
       "      <td>1</td>\n",
       "      <td>[perfect, place, young, old, enjoi, especi, fr...</td>\n",
       "    </tr>\n",
       "    <tr>\n",
       "      <th>2</th>\n",
       "      <td>adults   children boy   girl  we purchased a...</td>\n",
       "      <td>1</td>\n",
       "      <td>[adult, children, boi, girl, purchas, dai, hop...</td>\n",
       "    </tr>\n",
       "    <tr>\n",
       "      <th>3</th>\n",
       "      <td>i rated this experience   stars because the st...</td>\n",
       "      <td>1</td>\n",
       "      <td>[rate, experi, star, staff, kind, help, clean,...</td>\n",
       "    </tr>\n",
       "    <tr>\n",
       "      <th>4</th>\n",
       "      <td>though some prices seem ridiculous  its disney...</td>\n",
       "      <td>1</td>\n",
       "      <td>[though, price, seem, ridicul, help, cast, mem...</td>\n",
       "    </tr>\n",
       "  </tbody>\n",
       "</table>\n",
       "</div>"
      ],
      "text/plain": [
       "                                              review  sentiment  \\\n",
       "0  very busy  but we went on a   day weekend  and...          1   \n",
       "1  a perfect place for young and old to enjoy esp...          1   \n",
       "2    adults   children boy   girl  we purchased a...          1   \n",
       "3  i rated this experience   stars because the st...          1   \n",
       "4  though some prices seem ridiculous  its disney...          1   \n",
       "\n",
       "                                       review_tokens  \n",
       "0  [went, dai, weekend, gai, dai, time, tho, less...  \n",
       "1  [perfect, place, young, old, enjoi, especi, fr...  \n",
       "2  [adult, children, boi, girl, purchas, dai, hop...  \n",
       "3  [rate, experi, star, staff, kind, help, clean,...  \n",
       "4  [though, price, seem, ridicul, help, cast, mem...  "
      ]
     },
     "execution_count": 63,
     "metadata": {},
     "output_type": "execute_result"
    }
   ],
   "source": [
    "# Second round of cleaning, removing additional stopwords.\n",
    "import string\n",
    "stopwords.extend(['get', 'on', 'would'])\n",
    "stopwords.extend(['park', 'disneyland', 'disney', \"n't\", 'not', 'so', 'just', 'only', 'back', 'more'])\n",
    "stopwords.extend(one_occurrence)\n",
    "from gensim.parsing.porter import PorterStemmer\n",
    "porter_stemmer = PorterStemmer()\n",
    "\n",
    "def clean(texts):\n",
    "    cleaned_words = []\n",
    "    for word in texts:\n",
    "        # Remove stopwords and numbers\n",
    "        if word not in stopwords and not word.isdigit() and len(words)>2:\n",
    "            \n",
    "            # Removing punctuations\n",
    "            punc_free = ''.join([ch for ch in word if ch not in string.punctuation])\n",
    "            \n",
    "            # Removing words that have lengths less than 2 as words less than 2 usually provide little to no insights due to low meaning\n",
    "            if len(punc_free)>2 and not punc_free.isdigit() and len(punc_free) < 15:\n",
    "                \n",
    "                # Stemming the words.\n",
    "                cleaned_words.append(porter_stemmer.stem(punc_free))\n",
    "                # Stemming is used to reduce the dimensionality of words in the dataframe.\n",
    "                # Since I'm doing sentiment analysis based on occurrence of words in the text, context won't be necessary as order of words are not captured within the bag of words.\n",
    "                # Therefore, stemming is used over lemmatization to improve computational performance.\n",
    "\n",
    "    return cleaned_words\n",
    "\n",
    "# Create Feature Set\n",
    "df2['review_tokens'] = df2['review'].apply(lambda x: word_tokenize(x.lower()))\n",
    "df2['review_tokens'] = df2['review_tokens'].apply(lambda x: clean(x))  \n",
    "df2.head()"
   ]
  },
  {
   "cell_type": "code",
   "execution_count": 64,
   "id": "eb2bd2aa",
   "metadata": {},
   "outputs": [],
   "source": [
    "# Store all tokens\n",
    "tokens = [tokens for entry in df2.review_tokens for tokens in entry]"
   ]
  },
  {
   "cell_type": "code",
   "execution_count": 65,
   "id": "770f5ada",
   "metadata": {},
   "outputs": [
    {
     "name": "stdout",
     "output_type": "stream",
     "text": [
      "[]\n"
     ]
    }
   ],
   "source": [
    "# Checking if there are words above the length of 15\n",
    "odd_lengths = [words for words in tokens if len(words)>14]\n",
    "print(odd_lengths[:15])"
   ]
  },
  {
   "cell_type": "code",
   "execution_count": 66,
   "id": "8e90a290",
   "metadata": {},
   "outputs": [
    {
     "data": {
      "image/png": "[encoded data removed]",
      "text/plain": [
       "<Figure size 640x480 with 1 Axes>"
      ]
     },
     "metadata": {},
     "output_type": "display_data"
    }
   ],
   "source": [
    "# Generate frequency for all the words\n",
    "freq_dist = nltk.FreqDist(tokens)\n",
    "\n",
    "# Visualizing \n",
    "word_length_frequency_dict = dict([(k,v) for k,v in freq_dist.items()])\n",
    "\n",
    "# create frequency distribution of the filtered words\n",
    "freq_dist = nltk.FreqDist(word_length_frequency_dict)\n",
    "\n",
    "# plot the frequency distribution of the top 50 words\n",
    "freq_dist.plot(20, cumulative=False)\n",
    "plt.show()"
   ]
  },
  {
   "cell_type": "code",
   "execution_count": 67,
   "id": "d6e6bacc",
   "metadata": {},
   "outputs": [],
   "source": [
    "df2 = df2.drop(columns=['review'])"
   ]
  },
  {
   "cell_type": "code",
   "execution_count": 68,
   "id": "345e65b4",
   "metadata": {},
   "outputs": [
    {
     "data": {
      "text/html": [
       "<div>\n",
       "<style scoped>\n",
       "    .dataframe tbody tr th:only-of-type {\n",
       "        vertical-align: middle;\n",
       "    }\n",
       "\n",
       "    .dataframe tbody tr th {\n",
       "        vertical-align: top;\n",
       "    }\n",
       "\n",
       "    .dataframe thead th {\n",
       "        text-align: right;\n",
       "    }\n",
       "</style>\n",
       "<table border=\"1\" class=\"dataframe\">\n",
       "  <thead>\n",
       "    <tr style=\"text-align: right;\">\n",
       "      <th></th>\n",
       "      <th>sentiment</th>\n",
       "      <th>review_tokens</th>\n",
       "    </tr>\n",
       "  </thead>\n",
       "  <tbody>\n",
       "    <tr>\n",
       "      <th>0</th>\n",
       "      <td>1</td>\n",
       "      <td>[went, dai, weekend, gai, dai, time, tho, less...</td>\n",
       "    </tr>\n",
       "    <tr>\n",
       "      <th>1</th>\n",
       "      <td>1</td>\n",
       "      <td>[perfect, place, young, old, enjoi, especi, fr...</td>\n",
       "    </tr>\n",
       "    <tr>\n",
       "      <th>2</th>\n",
       "      <td>1</td>\n",
       "      <td>[adult, children, boi, girl, purchas, dai, hop...</td>\n",
       "    </tr>\n",
       "    <tr>\n",
       "      <th>3</th>\n",
       "      <td>1</td>\n",
       "      <td>[rate, experi, star, staff, kind, help, clean,...</td>\n",
       "    </tr>\n",
       "    <tr>\n",
       "      <th>4</th>\n",
       "      <td>1</td>\n",
       "      <td>[though, price, seem, ridicul, help, cast, mem...</td>\n",
       "    </tr>\n",
       "  </tbody>\n",
       "</table>\n",
       "</div>"
      ],
      "text/plain": [
       "   sentiment                                      review_tokens\n",
       "0          1  [went, dai, weekend, gai, dai, time, tho, less...\n",
       "1          1  [perfect, place, young, old, enjoi, especi, fr...\n",
       "2          1  [adult, children, boi, girl, purchas, dai, hop...\n",
       "3          1  [rate, experi, star, staff, kind, help, clean,...\n",
       "4          1  [though, price, seem, ridicul, help, cast, mem..."
      ]
     },
     "execution_count": 68,
     "metadata": {},
     "output_type": "execute_result"
    }
   ],
   "source": [
    "df2.head()"
   ]
  },
  {
   "cell_type": "code",
   "execution_count": 69,
   "id": "8de9f5cd",
   "metadata": {},
   "outputs": [
    {
     "name": "stdout",
     "output_type": "stream",
     "text": [
      "1 represents positive, 0 represents negative.\n",
      "Total records: 10903\n"
     ]
    },
    {
     "data": {
      "text/html": [
       "<div>\n",
       "<style scoped>\n",
       "    .dataframe tbody tr th:only-of-type {\n",
       "        vertical-align: middle;\n",
       "    }\n",
       "\n",
       "    .dataframe tbody tr th {\n",
       "        vertical-align: top;\n",
       "    }\n",
       "\n",
       "    .dataframe thead th {\n",
       "        text-align: right;\n",
       "    }\n",
       "</style>\n",
       "<table border=\"1\" class=\"dataframe\">\n",
       "  <thead>\n",
       "    <tr style=\"text-align: right;\">\n",
       "      <th></th>\n",
       "      <th>occurrences</th>\n",
       "      <th>occurrences (%)</th>\n",
       "    </tr>\n",
       "  </thead>\n",
       "  <tbody>\n",
       "    <tr>\n",
       "      <th>1</th>\n",
       "      <td>6528</td>\n",
       "      <td>59.87%</td>\n",
       "    </tr>\n",
       "    <tr>\n",
       "      <th>0</th>\n",
       "      <td>4375</td>\n",
       "      <td>40.13%</td>\n",
       "    </tr>\n",
       "  </tbody>\n",
       "</table>\n",
       "</div>"
      ],
      "text/plain": [
       "   occurrences occurrences (%)\n",
       "1         6528          59.87%\n",
       "0         4375          40.13%"
      ]
     },
     "metadata": {},
     "output_type": "display_data"
    }
   ],
   "source": [
    "# print(\"Looking at the distribution of classes in the target column:\")\n",
    "print(\"1 represents positive, 0 represents negative.\")\n",
    "\n",
    "# Checking the distribution of the stars\n",
    "sentiments = pd.DataFrame({'occurrences': df2['sentiment'].value_counts(),\n",
    "                      'occurrences (%)': [str(round((x/len(df2)*100), 2))+\"%\" for x in df2['sentiment'].value_counts()]})\n",
    "print(\"Total records:\", sum(sentiments['occurrences']))\n",
    "display(sentiments)"
   ]
  },
  {
   "cell_type": "markdown",
   "id": "8c161e0f",
   "metadata": {},
   "source": [
    "Majority of the top occuring words are now relevant to the topic such as 'ride', 'time', 'line', etc. These words provide more information and may help improve the classification of the sentiment analysis models.\n",
    "\n",
    "The ratio of positive class (1) to negative class (0) is also balanced of 60:40 respectively."
   ]
  },
  {
   "cell_type": "code",
   "execution_count": 71,
   "id": "d0070b9b",
   "metadata": {},
   "outputs": [
    {
     "data": {
      "text/plain": [
       "['went', 'dai', 'weekend', 'gai', 'dai', 'time', 'tho', 'less', 'time']"
      ]
     },
     "execution_count": 71,
     "metadata": {},
     "output_type": "execute_result"
    }
   ],
   "source": [
    "df2['review_tokens'][0]"
   ]
  },
  {
   "cell_type": "code",
   "execution_count": 73,
   "id": "c56cc618",
   "metadata": {},
   "outputs": [],
   "source": [
    "df2.to_csv(\"reviews.csv\", index=False, encoding='utf-8')"
   ]
  }
 ],
 "metadata": {
  "kernelspec": {
   "display_name": "Python 3 (ipykernel)",
   "language": "python",
   "name": "python3"
  },
  "language_info": {
   "codemirror_mode": {
    "name": "ipython",
    "version": 3
   },
   "file_extension": ".py",
   "mimetype": "text/x-python",
   "name": "python",
   "nbconvert_exporter": "python",
   "pygments_lexer": "ipython3",
   "version": "3.9.13"
  }
 },
 "nbformat": 4,
 "nbformat_minor": 5
}
